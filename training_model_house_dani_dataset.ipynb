{
 "cells": [
  {
   "cell_type": "code",
   "execution_count": 59,
   "metadata": {},
   "outputs": [],
   "source": [
    "\n",
    "# === PASO 1: IMPORTACIÓN DE LIBRERÍAS ===\n",
    "import numpy as np\n",
    "import pandas as pd\n",
    "import matplotlib.pyplot as plt\n",
    "import seaborn as sns\n",
    "import tensorflow as tf\n",
    "from tensorflow.keras.models import Sequential\n",
    "from tensorflow.keras.layers import Dense, Dropout, BatchNormalization\n",
    "from tensorflow.keras.regularizers import l1_l2\n",
    "from tensorflow.keras.optimizers import Adam\n",
    "from tensorflow.keras.callbacks import EarlyStopping, ModelCheckpoint, ReduceLROnPlateau\n",
    "from sklearn.model_selection import train_test_split\n",
    "from sklearn.preprocessing import StandardScaler, OneHotEncoder\n",
    "from sklearn.compose import ColumnTransformer\n",
    "from sklearn.pipeline import Pipeline\n",
    "from sklearn.impute import SimpleImputer\n",
    "from sklearn.metrics import mean_squared_error, mean_absolute_error, r2_score\n",
    "from sklearn.feature_selection import SelectKBest, f_regression\n",
    "import joblib\n",
    "\n",
    "# Configuración\n",
    "pd.set_option('display.max_columns', 100)\n",
    "np.random.seed(42)\n",
    "tf.random.set_seed(42)\n",
    "sns.set_style(\"whitegrid\")\n",
    "\n",
    "\n"
   ]
  },
  {
   "cell_type": "code",
   "execution_count": 60,
   "metadata": {},
   "outputs": [
    {
     "ename": "FileNotFoundError",
     "evalue": "[Errno 2] No such file or directory: 'train.csv'",
     "output_type": "error",
     "traceback": [
      "\u001b[31m---------------------------------------------------------------------------\u001b[39m",
      "\u001b[31mFileNotFoundError\u001b[39m                         Traceback (most recent call last)",
      "\u001b[36mCell\u001b[39m\u001b[36m \u001b[39m\u001b[32mIn[60]\u001b[39m\u001b[32m, line 3\u001b[39m\n\u001b[32m      1\u001b[39m \u001b[38;5;66;03m# === PASO 2: CARGA Y EXPLORACIÓN INICIAL ===\u001b[39;00m\n\u001b[32m----> \u001b[39m\u001b[32m3\u001b[39m df = \u001b[43mpd\u001b[49m\u001b[43m.\u001b[49m\u001b[43mread_csv\u001b[49m\u001b[43m(\u001b[49m\u001b[33;43m'\u001b[39;49m\u001b[33;43mtrain.csv\u001b[39;49m\u001b[33;43m'\u001b[39;49m\u001b[43m)\u001b[49m\n\u001b[32m      4\u001b[39m \u001b[38;5;28mprint\u001b[39m(\u001b[33m\"\u001b[39m\u001b[33mDimensiones del dataset:\u001b[39m\u001b[33m\"\u001b[39m, df.shape)\n\u001b[32m      5\u001b[39m \u001b[38;5;28mprint\u001b[39m(\u001b[33m\"\u001b[39m\u001b[38;5;130;01m\\n\u001b[39;00m\u001b[33mPrimeras filas:\u001b[39m\u001b[33m\"\u001b[39m)\n",
      "\u001b[36mFile \u001b[39m\u001b[32mc:\\Users\\Alumno_AI\\.conda\\envs\\house\\Lib\\site-packages\\pandas\\io\\parsers\\readers.py:1026\u001b[39m, in \u001b[36mread_csv\u001b[39m\u001b[34m(filepath_or_buffer, sep, delimiter, header, names, index_col, usecols, dtype, engine, converters, true_values, false_values, skipinitialspace, skiprows, skipfooter, nrows, na_values, keep_default_na, na_filter, verbose, skip_blank_lines, parse_dates, infer_datetime_format, keep_date_col, date_parser, date_format, dayfirst, cache_dates, iterator, chunksize, compression, thousands, decimal, lineterminator, quotechar, quoting, doublequote, escapechar, comment, encoding, encoding_errors, dialect, on_bad_lines, delim_whitespace, low_memory, memory_map, float_precision, storage_options, dtype_backend)\u001b[39m\n\u001b[32m   1013\u001b[39m kwds_defaults = _refine_defaults_read(\n\u001b[32m   1014\u001b[39m     dialect,\n\u001b[32m   1015\u001b[39m     delimiter,\n\u001b[32m   (...)\u001b[39m\u001b[32m   1022\u001b[39m     dtype_backend=dtype_backend,\n\u001b[32m   1023\u001b[39m )\n\u001b[32m   1024\u001b[39m kwds.update(kwds_defaults)\n\u001b[32m-> \u001b[39m\u001b[32m1026\u001b[39m \u001b[38;5;28;01mreturn\u001b[39;00m \u001b[43m_read\u001b[49m\u001b[43m(\u001b[49m\u001b[43mfilepath_or_buffer\u001b[49m\u001b[43m,\u001b[49m\u001b[43m \u001b[49m\u001b[43mkwds\u001b[49m\u001b[43m)\u001b[49m\n",
      "\u001b[36mFile \u001b[39m\u001b[32mc:\\Users\\Alumno_AI\\.conda\\envs\\house\\Lib\\site-packages\\pandas\\io\\parsers\\readers.py:620\u001b[39m, in \u001b[36m_read\u001b[39m\u001b[34m(filepath_or_buffer, kwds)\u001b[39m\n\u001b[32m    617\u001b[39m _validate_names(kwds.get(\u001b[33m\"\u001b[39m\u001b[33mnames\u001b[39m\u001b[33m\"\u001b[39m, \u001b[38;5;28;01mNone\u001b[39;00m))\n\u001b[32m    619\u001b[39m \u001b[38;5;66;03m# Create the parser.\u001b[39;00m\n\u001b[32m--> \u001b[39m\u001b[32m620\u001b[39m parser = \u001b[43mTextFileReader\u001b[49m\u001b[43m(\u001b[49m\u001b[43mfilepath_or_buffer\u001b[49m\u001b[43m,\u001b[49m\u001b[43m \u001b[49m\u001b[43m*\u001b[49m\u001b[43m*\u001b[49m\u001b[43mkwds\u001b[49m\u001b[43m)\u001b[49m\n\u001b[32m    622\u001b[39m \u001b[38;5;28;01mif\u001b[39;00m chunksize \u001b[38;5;129;01mor\u001b[39;00m iterator:\n\u001b[32m    623\u001b[39m     \u001b[38;5;28;01mreturn\u001b[39;00m parser\n",
      "\u001b[36mFile \u001b[39m\u001b[32mc:\\Users\\Alumno_AI\\.conda\\envs\\house\\Lib\\site-packages\\pandas\\io\\parsers\\readers.py:1620\u001b[39m, in \u001b[36mTextFileReader.__init__\u001b[39m\u001b[34m(self, f, engine, **kwds)\u001b[39m\n\u001b[32m   1617\u001b[39m     \u001b[38;5;28mself\u001b[39m.options[\u001b[33m\"\u001b[39m\u001b[33mhas_index_names\u001b[39m\u001b[33m\"\u001b[39m] = kwds[\u001b[33m\"\u001b[39m\u001b[33mhas_index_names\u001b[39m\u001b[33m\"\u001b[39m]\n\u001b[32m   1619\u001b[39m \u001b[38;5;28mself\u001b[39m.handles: IOHandles | \u001b[38;5;28;01mNone\u001b[39;00m = \u001b[38;5;28;01mNone\u001b[39;00m\n\u001b[32m-> \u001b[39m\u001b[32m1620\u001b[39m \u001b[38;5;28mself\u001b[39m._engine = \u001b[38;5;28;43mself\u001b[39;49m\u001b[43m.\u001b[49m\u001b[43m_make_engine\u001b[49m\u001b[43m(\u001b[49m\u001b[43mf\u001b[49m\u001b[43m,\u001b[49m\u001b[43m \u001b[49m\u001b[38;5;28;43mself\u001b[39;49m\u001b[43m.\u001b[49m\u001b[43mengine\u001b[49m\u001b[43m)\u001b[49m\n",
      "\u001b[36mFile \u001b[39m\u001b[32mc:\\Users\\Alumno_AI\\.conda\\envs\\house\\Lib\\site-packages\\pandas\\io\\parsers\\readers.py:1880\u001b[39m, in \u001b[36mTextFileReader._make_engine\u001b[39m\u001b[34m(self, f, engine)\u001b[39m\n\u001b[32m   1878\u001b[39m     \u001b[38;5;28;01mif\u001b[39;00m \u001b[33m\"\u001b[39m\u001b[33mb\u001b[39m\u001b[33m\"\u001b[39m \u001b[38;5;129;01mnot\u001b[39;00m \u001b[38;5;129;01min\u001b[39;00m mode:\n\u001b[32m   1879\u001b[39m         mode += \u001b[33m\"\u001b[39m\u001b[33mb\u001b[39m\u001b[33m\"\u001b[39m\n\u001b[32m-> \u001b[39m\u001b[32m1880\u001b[39m \u001b[38;5;28mself\u001b[39m.handles = \u001b[43mget_handle\u001b[49m\u001b[43m(\u001b[49m\n\u001b[32m   1881\u001b[39m \u001b[43m    \u001b[49m\u001b[43mf\u001b[49m\u001b[43m,\u001b[49m\n\u001b[32m   1882\u001b[39m \u001b[43m    \u001b[49m\u001b[43mmode\u001b[49m\u001b[43m,\u001b[49m\n\u001b[32m   1883\u001b[39m \u001b[43m    \u001b[49m\u001b[43mencoding\u001b[49m\u001b[43m=\u001b[49m\u001b[38;5;28;43mself\u001b[39;49m\u001b[43m.\u001b[49m\u001b[43moptions\u001b[49m\u001b[43m.\u001b[49m\u001b[43mget\u001b[49m\u001b[43m(\u001b[49m\u001b[33;43m\"\u001b[39;49m\u001b[33;43mencoding\u001b[39;49m\u001b[33;43m\"\u001b[39;49m\u001b[43m,\u001b[49m\u001b[43m \u001b[49m\u001b[38;5;28;43;01mNone\u001b[39;49;00m\u001b[43m)\u001b[49m\u001b[43m,\u001b[49m\n\u001b[32m   1884\u001b[39m \u001b[43m    \u001b[49m\u001b[43mcompression\u001b[49m\u001b[43m=\u001b[49m\u001b[38;5;28;43mself\u001b[39;49m\u001b[43m.\u001b[49m\u001b[43moptions\u001b[49m\u001b[43m.\u001b[49m\u001b[43mget\u001b[49m\u001b[43m(\u001b[49m\u001b[33;43m\"\u001b[39;49m\u001b[33;43mcompression\u001b[39;49m\u001b[33;43m\"\u001b[39;49m\u001b[43m,\u001b[49m\u001b[43m \u001b[49m\u001b[38;5;28;43;01mNone\u001b[39;49;00m\u001b[43m)\u001b[49m\u001b[43m,\u001b[49m\n\u001b[32m   1885\u001b[39m \u001b[43m    \u001b[49m\u001b[43mmemory_map\u001b[49m\u001b[43m=\u001b[49m\u001b[38;5;28;43mself\u001b[39;49m\u001b[43m.\u001b[49m\u001b[43moptions\u001b[49m\u001b[43m.\u001b[49m\u001b[43mget\u001b[49m\u001b[43m(\u001b[49m\u001b[33;43m\"\u001b[39;49m\u001b[33;43mmemory_map\u001b[39;49m\u001b[33;43m\"\u001b[39;49m\u001b[43m,\u001b[49m\u001b[43m \u001b[49m\u001b[38;5;28;43;01mFalse\u001b[39;49;00m\u001b[43m)\u001b[49m\u001b[43m,\u001b[49m\n\u001b[32m   1886\u001b[39m \u001b[43m    \u001b[49m\u001b[43mis_text\u001b[49m\u001b[43m=\u001b[49m\u001b[43mis_text\u001b[49m\u001b[43m,\u001b[49m\n\u001b[32m   1887\u001b[39m \u001b[43m    \u001b[49m\u001b[43merrors\u001b[49m\u001b[43m=\u001b[49m\u001b[38;5;28;43mself\u001b[39;49m\u001b[43m.\u001b[49m\u001b[43moptions\u001b[49m\u001b[43m.\u001b[49m\u001b[43mget\u001b[49m\u001b[43m(\u001b[49m\u001b[33;43m\"\u001b[39;49m\u001b[33;43mencoding_errors\u001b[39;49m\u001b[33;43m\"\u001b[39;49m\u001b[43m,\u001b[49m\u001b[43m \u001b[49m\u001b[33;43m\"\u001b[39;49m\u001b[33;43mstrict\u001b[39;49m\u001b[33;43m\"\u001b[39;49m\u001b[43m)\u001b[49m\u001b[43m,\u001b[49m\n\u001b[32m   1888\u001b[39m \u001b[43m    \u001b[49m\u001b[43mstorage_options\u001b[49m\u001b[43m=\u001b[49m\u001b[38;5;28;43mself\u001b[39;49m\u001b[43m.\u001b[49m\u001b[43moptions\u001b[49m\u001b[43m.\u001b[49m\u001b[43mget\u001b[49m\u001b[43m(\u001b[49m\u001b[33;43m\"\u001b[39;49m\u001b[33;43mstorage_options\u001b[39;49m\u001b[33;43m\"\u001b[39;49m\u001b[43m,\u001b[49m\u001b[43m \u001b[49m\u001b[38;5;28;43;01mNone\u001b[39;49;00m\u001b[43m)\u001b[49m\u001b[43m,\u001b[49m\n\u001b[32m   1889\u001b[39m \u001b[43m\u001b[49m\u001b[43m)\u001b[49m\n\u001b[32m   1890\u001b[39m \u001b[38;5;28;01massert\u001b[39;00m \u001b[38;5;28mself\u001b[39m.handles \u001b[38;5;129;01mis\u001b[39;00m \u001b[38;5;129;01mnot\u001b[39;00m \u001b[38;5;28;01mNone\u001b[39;00m\n\u001b[32m   1891\u001b[39m f = \u001b[38;5;28mself\u001b[39m.handles.handle\n",
      "\u001b[36mFile \u001b[39m\u001b[32mc:\\Users\\Alumno_AI\\.conda\\envs\\house\\Lib\\site-packages\\pandas\\io\\common.py:873\u001b[39m, in \u001b[36mget_handle\u001b[39m\u001b[34m(path_or_buf, mode, encoding, compression, memory_map, is_text, errors, storage_options)\u001b[39m\n\u001b[32m    868\u001b[39m \u001b[38;5;28;01melif\u001b[39;00m \u001b[38;5;28misinstance\u001b[39m(handle, \u001b[38;5;28mstr\u001b[39m):\n\u001b[32m    869\u001b[39m     \u001b[38;5;66;03m# Check whether the filename is to be opened in binary mode.\u001b[39;00m\n\u001b[32m    870\u001b[39m     \u001b[38;5;66;03m# Binary mode does not support 'encoding' and 'newline'.\u001b[39;00m\n\u001b[32m    871\u001b[39m     \u001b[38;5;28;01mif\u001b[39;00m ioargs.encoding \u001b[38;5;129;01mand\u001b[39;00m \u001b[33m\"\u001b[39m\u001b[33mb\u001b[39m\u001b[33m\"\u001b[39m \u001b[38;5;129;01mnot\u001b[39;00m \u001b[38;5;129;01min\u001b[39;00m ioargs.mode:\n\u001b[32m    872\u001b[39m         \u001b[38;5;66;03m# Encoding\u001b[39;00m\n\u001b[32m--> \u001b[39m\u001b[32m873\u001b[39m         handle = \u001b[38;5;28;43mopen\u001b[39;49m\u001b[43m(\u001b[49m\n\u001b[32m    874\u001b[39m \u001b[43m            \u001b[49m\u001b[43mhandle\u001b[49m\u001b[43m,\u001b[49m\n\u001b[32m    875\u001b[39m \u001b[43m            \u001b[49m\u001b[43mioargs\u001b[49m\u001b[43m.\u001b[49m\u001b[43mmode\u001b[49m\u001b[43m,\u001b[49m\n\u001b[32m    876\u001b[39m \u001b[43m            \u001b[49m\u001b[43mencoding\u001b[49m\u001b[43m=\u001b[49m\u001b[43mioargs\u001b[49m\u001b[43m.\u001b[49m\u001b[43mencoding\u001b[49m\u001b[43m,\u001b[49m\n\u001b[32m    877\u001b[39m \u001b[43m            \u001b[49m\u001b[43merrors\u001b[49m\u001b[43m=\u001b[49m\u001b[43merrors\u001b[49m\u001b[43m,\u001b[49m\n\u001b[32m    878\u001b[39m \u001b[43m            \u001b[49m\u001b[43mnewline\u001b[49m\u001b[43m=\u001b[49m\u001b[33;43m\"\u001b[39;49m\u001b[33;43m\"\u001b[39;49m\u001b[43m,\u001b[49m\n\u001b[32m    879\u001b[39m \u001b[43m        \u001b[49m\u001b[43m)\u001b[49m\n\u001b[32m    880\u001b[39m     \u001b[38;5;28;01melse\u001b[39;00m:\n\u001b[32m    881\u001b[39m         \u001b[38;5;66;03m# Binary mode\u001b[39;00m\n\u001b[32m    882\u001b[39m         handle = \u001b[38;5;28mopen\u001b[39m(handle, ioargs.mode)\n",
      "\u001b[31mFileNotFoundError\u001b[39m: [Errno 2] No such file or directory: 'train.csv'"
     ]
    }
   ],
   "source": [
    "\n",
    "\n",
    "# === PASO 2: CARGA Y EXPLORACIÓN INICIAL ===\n",
    "\n",
    "df = pd.read_csv('train.csv')\n",
    "print(\"Dimensiones del dataset:\", df.shape)\n",
    "print(\"\\nPrimeras filas:\")\n",
    "display(df.head(3))\n",
    "\n",
    "# Análisis de valores faltantes\n",
    "missing = df.isnull().sum().sort_values(ascending=False)\n",
    "missing = missing[missing > 0]\n",
    "print(\"\\nValores faltantes por columna:\")\n",
    "print(missing)\n",
    "\n",
    "# Distribución de la variable objetivo\n",
    "plt.figure(figsize=(12, 6))\n",
    "sns.histplot(df['SalePrice'], kde=True, color='darkblue')\n",
    "plt.title('Distribución de Precios de Venta', fontsize=14)\n",
    "plt.xlabel('Precio (USD)')\n",
    "plt.ylabel('Frecuencia')\n",
    "plt.show()\n"
   ]
  },
  {
   "cell_type": "code",
   "execution_count": 61,
   "metadata": {},
   "outputs": [],
   "source": [
    "\n",
    "\n",
    "# %% [code]\n",
    "# === PASO 3: PREPROCESAMIENTO AVANZADO ===\n",
    "\n",
    "# Identificación de tipos de variables\n",
    "categorical_cols = df.select_dtypes(include=['object']).columns.tolist()\n",
    "numeric_cols = df.select_dtypes(exclude=['object']).columns.drop('SalePrice').tolist()\n",
    "\n",
    "# Feature Engineering Estratégico\n",
    "def advanced_feature_engineering(df):\n",
    "    df = df.copy()\n",
    "    \n",
    "    # 1. Relación entre áreas\n",
    "    df['LivingAreaRatio'] = df['GrLivArea'] / (df['TotalBsmtSF'] + 1)\n",
    "    df['RoomDensity'] = df['TotRmsAbvGrd'] / (df['GrLivArea'] + 1)\n",
    "    \n",
    "    # 2. Antigüedad y renovaciones\n",
    "    current_year = 2025  # Actualizar según necesidad\n",
    "    df['HouseAge'] = current_year - df['YearBuilt']\n",
    "    df['SinceRemodel'] = current_year - df['YearRemodAdd']\n",
    "    \n",
    "    # 3. Calidad compuesta\n",
    "    df['OverallGrade'] = df['OverallQual'] * df['OverallCond']\n",
    "    df['ExterGrade'] = df['ExterQual'].map({'Ex':5, 'Gd':4, 'TA':3, 'Fa':2, 'Po':1}) * \\\n",
    "                      df['ExterCond'].map({'Ex':5, 'Gd':4, 'TA':3, 'Fa':2, 'Po':1})\n",
    "    \n",
    "    # 4. Características del garage\n",
    "    df['GarageScore'] = df['GarageCars'] * df['GarageArea']\n",
    "    \n",
    "    # 5. Codificación ordinal manual\n",
    "    qual_dict = {'Ex':5, 'Gd':4, 'TA':3, 'Fa':2, 'Po':1, 'NA':0}\n",
    "    df['KitchenQualScore'] = df['KitchenQual'].map(qual_dict)\n",
    "    df['FireplaceScore'] = df['FireplaceQu'].map(qual_dict).fillna(0)\n",
    "    \n",
    "    # 6. Interacciones importantes\n",
    "    df['Qual_LivArea'] = df['OverallQual'] * df['GrLivArea']\n",
    "    df['Qual_Year'] = df['OverallQual'] * df['YearBuilt']\n",
    "    \n",
    "    # 7. Simplificación de categorías\n",
    "    df['SimplifiedNeighborhood'] = df['Neighborhood'].apply(\n",
    "        lambda x: 'Premium' if x in ['NridgHt', 'StoneBr', 'NoRidge'] else 'Standard')\n",
    "    \n",
    "    return df\n",
    "\n",
    "df_engineered = advanced_feature_engineering(df)\n",
    "\n",
    "# Actualizamos listas de columnas\n",
    "categorical_cols = df_engineered.select_dtypes(include=['object']).columns.tolist()\n",
    "numeric_cols = df_engineered.select_dtypes(exclude=['object']).columns.drop('SalePrice').tolist()\n",
    "\n",
    "\n",
    "\n"
   ]
  },
  {
   "cell_type": "code",
   "execution_count": 62,
   "metadata": {},
   "outputs": [],
   "source": [
    "# %% [code]\n",
    "# === PASO 4: PIPELINE DE PREPROCESAMIENTO ===\n",
    "\n",
    "# Escalado correcto de las características numéricas\n",
    "numeric_transformer = Pipeline(steps=[\n",
    "    ('imputer', SimpleImputer(strategy='median')),\n",
    "    ('scaler', StandardScaler())  # Escalado estándar\n",
    "])\n",
    "\n",
    "# Codificación adecuada para variables categóricas\n",
    "categorical_transformer = Pipeline(steps=[\n",
    "    ('imputer', SimpleImputer(strategy='constant', fill_value='NA')),\n",
    "    ('onehot', OneHotEncoder(handle_unknown='ignore', sparse_output=False))\n",
    "])\n",
    "\n",
    "# Aplicación del preprocesador\n",
    "preprocessor = ColumnTransformer(\n",
    "    transformers=[\n",
    "        ('num', numeric_transformer, numeric_cols),\n",
    "        ('cat', categorical_transformer, categorical_cols)\n",
    "    ]\n",
    ")\n",
    "\n",
    "# División de datos\n",
    "X = df_engineered.drop('SalePrice', axis=1)\n",
    "y = np.log1p(df_engineered['SalePrice'])  # Transformación logarítmica\n",
    "\n",
    "# Versión mejorada con shuffling controlado\n",
    "X_train, X_test, y_train, y_test = train_test_split(\n",
    "    X, \n",
    "    y, \n",
    "    test_size=0.15, \n",
    "    shuffle=True,  # Activamos shuffling explícitamente\n",
    "    random_state=42  # Semilla para reproducibilidad\n",
    ")\n",
    "\n",
    "X_train, X_val, y_train, y_val = train_test_split(\n",
    "    X_train,\n",
    "    y_train,\n",
    "    test_size=0.2, \n",
    "    shuffle=True,  # Shuffling también en esta división\n",
    "    random_state=42  # Misma semilla para consistencia\n",
    ")\n",
    "\n",
    "\n",
    "# Aplicamos preprocesamiento\n",
    "X_train_preprocessed = preprocessor.fit_transform(X_train)\n",
    "X_val_preprocessed = preprocessor.transform(X_val)\n",
    "X_test_preprocessed = preprocessor.transform(X_test)\n",
    "\n",
    "# Obtenemos nombres de características\n",
    "cat_encoder = preprocessor.named_transformers_['cat'].named_steps['onehot']\n",
    "cat_features = cat_encoder.get_feature_names_out(categorical_cols)\n",
    "all_features = numeric_cols + list(cat_features)\n",
    "\n",
    "# Selección de características (top 50)\n",
    "selector = SelectKBest(f_regression, k=50)\n",
    "X_train_selected = selector.fit_transform(X_train_preprocessed, y_train)\n",
    "X_val_selected = selector.transform(X_val_preprocessed)\n",
    "X_test_selected = selector.transform(X_test_preprocessed)\n",
    "\n"
   ]
  },
  {
   "cell_type": "code",
   "execution_count": 63,
   "metadata": {},
   "outputs": [
    {
     "name": "stderr",
     "output_type": "stream",
     "text": [
      "c:\\Users\\Alumno_AI\\.conda\\envs\\house\\Lib\\site-packages\\keras\\src\\layers\\core\\dense.py:87: UserWarning: Do not pass an `input_shape`/`input_dim` argument to a layer. When using Sequential models, prefer using an `Input(shape)` object as the first layer in the model instead.\n",
      "  super().__init__(activity_regularizer=activity_regularizer, **kwargs)\n"
     ]
    },
    {
     "data": {
      "text/html": [
       "<pre style=\"white-space:pre;overflow-x:auto;line-height:normal;font-family:Menlo,'DejaVu Sans Mono',consolas,'Courier New',monospace\"><span style=\"font-weight: bold\">Model: \"sequential_6\"</span>\n",
       "</pre>\n"
      ],
      "text/plain": [
       "\u001b[1mModel: \"sequential_6\"\u001b[0m\n"
      ]
     },
     "metadata": {},
     "output_type": "display_data"
    },
    {
     "data": {
      "text/html": [
       "<pre style=\"white-space:pre;overflow-x:auto;line-height:normal;font-family:Menlo,'DejaVu Sans Mono',consolas,'Courier New',monospace\">┏━━━━━━━━━━━━━━━━━━━━━━━━━━━━━━━━━┳━━━━━━━━━━━━━━━━━━━━━━━━┳━━━━━━━━━━━━━━━┓\n",
       "┃<span style=\"font-weight: bold\"> Layer (type)                    </span>┃<span style=\"font-weight: bold\"> Output Shape           </span>┃<span style=\"font-weight: bold\">       Param # </span>┃\n",
       "┡━━━━━━━━━━━━━━━━━━━━━━━━━━━━━━━━━╇━━━━━━━━━━━━━━━━━━━━━━━━╇━━━━━━━━━━━━━━━┩\n",
       "│ dense_30 (<span style=\"color: #0087ff; text-decoration-color: #0087ff\">Dense</span>)                │ (<span style=\"color: #00d7ff; text-decoration-color: #00d7ff\">None</span>, <span style=\"color: #00af00; text-decoration-color: #00af00\">256</span>)            │        <span style=\"color: #00af00; text-decoration-color: #00af00\">13,056</span> │\n",
       "├─────────────────────────────────┼────────────────────────┼───────────────┤\n",
       "│ batch_normalization_24          │ (<span style=\"color: #00d7ff; text-decoration-color: #00d7ff\">None</span>, <span style=\"color: #00af00; text-decoration-color: #00af00\">256</span>)            │         <span style=\"color: #00af00; text-decoration-color: #00af00\">1,024</span> │\n",
       "│ (<span style=\"color: #0087ff; text-decoration-color: #0087ff\">BatchNormalization</span>)            │                        │               │\n",
       "├─────────────────────────────────┼────────────────────────┼───────────────┤\n",
       "│ dropout_24 (<span style=\"color: #0087ff; text-decoration-color: #0087ff\">Dropout</span>)            │ (<span style=\"color: #00d7ff; text-decoration-color: #00d7ff\">None</span>, <span style=\"color: #00af00; text-decoration-color: #00af00\">256</span>)            │             <span style=\"color: #00af00; text-decoration-color: #00af00\">0</span> │\n",
       "├─────────────────────────────────┼────────────────────────┼───────────────┤\n",
       "│ dense_31 (<span style=\"color: #0087ff; text-decoration-color: #0087ff\">Dense</span>)                │ (<span style=\"color: #00d7ff; text-decoration-color: #00d7ff\">None</span>, <span style=\"color: #00af00; text-decoration-color: #00af00\">128</span>)            │        <span style=\"color: #00af00; text-decoration-color: #00af00\">32,896</span> │\n",
       "├─────────────────────────────────┼────────────────────────┼───────────────┤\n",
       "│ batch_normalization_25          │ (<span style=\"color: #00d7ff; text-decoration-color: #00d7ff\">None</span>, <span style=\"color: #00af00; text-decoration-color: #00af00\">128</span>)            │           <span style=\"color: #00af00; text-decoration-color: #00af00\">512</span> │\n",
       "│ (<span style=\"color: #0087ff; text-decoration-color: #0087ff\">BatchNormalization</span>)            │                        │               │\n",
       "├─────────────────────────────────┼────────────────────────┼───────────────┤\n",
       "│ dropout_25 (<span style=\"color: #0087ff; text-decoration-color: #0087ff\">Dropout</span>)            │ (<span style=\"color: #00d7ff; text-decoration-color: #00d7ff\">None</span>, <span style=\"color: #00af00; text-decoration-color: #00af00\">128</span>)            │             <span style=\"color: #00af00; text-decoration-color: #00af00\">0</span> │\n",
       "├─────────────────────────────────┼────────────────────────┼───────────────┤\n",
       "│ dense_32 (<span style=\"color: #0087ff; text-decoration-color: #0087ff\">Dense</span>)                │ (<span style=\"color: #00d7ff; text-decoration-color: #00d7ff\">None</span>, <span style=\"color: #00af00; text-decoration-color: #00af00\">64</span>)             │         <span style=\"color: #00af00; text-decoration-color: #00af00\">8,256</span> │\n",
       "├─────────────────────────────────┼────────────────────────┼───────────────┤\n",
       "│ batch_normalization_26          │ (<span style=\"color: #00d7ff; text-decoration-color: #00d7ff\">None</span>, <span style=\"color: #00af00; text-decoration-color: #00af00\">64</span>)             │           <span style=\"color: #00af00; text-decoration-color: #00af00\">256</span> │\n",
       "│ (<span style=\"color: #0087ff; text-decoration-color: #0087ff\">BatchNormalization</span>)            │                        │               │\n",
       "├─────────────────────────────────┼────────────────────────┼───────────────┤\n",
       "│ dropout_26 (<span style=\"color: #0087ff; text-decoration-color: #0087ff\">Dropout</span>)            │ (<span style=\"color: #00d7ff; text-decoration-color: #00d7ff\">None</span>, <span style=\"color: #00af00; text-decoration-color: #00af00\">64</span>)             │             <span style=\"color: #00af00; text-decoration-color: #00af00\">0</span> │\n",
       "├─────────────────────────────────┼────────────────────────┼───────────────┤\n",
       "│ dense_33 (<span style=\"color: #0087ff; text-decoration-color: #0087ff\">Dense</span>)                │ (<span style=\"color: #00d7ff; text-decoration-color: #00d7ff\">None</span>, <span style=\"color: #00af00; text-decoration-color: #00af00\">32</span>)             │         <span style=\"color: #00af00; text-decoration-color: #00af00\">2,080</span> │\n",
       "├─────────────────────────────────┼────────────────────────┼───────────────┤\n",
       "│ batch_normalization_27          │ (<span style=\"color: #00d7ff; text-decoration-color: #00d7ff\">None</span>, <span style=\"color: #00af00; text-decoration-color: #00af00\">32</span>)             │           <span style=\"color: #00af00; text-decoration-color: #00af00\">128</span> │\n",
       "│ (<span style=\"color: #0087ff; text-decoration-color: #0087ff\">BatchNormalization</span>)            │                        │               │\n",
       "├─────────────────────────────────┼────────────────────────┼───────────────┤\n",
       "│ dropout_27 (<span style=\"color: #0087ff; text-decoration-color: #0087ff\">Dropout</span>)            │ (<span style=\"color: #00d7ff; text-decoration-color: #00d7ff\">None</span>, <span style=\"color: #00af00; text-decoration-color: #00af00\">32</span>)             │             <span style=\"color: #00af00; text-decoration-color: #00af00\">0</span> │\n",
       "├─────────────────────────────────┼────────────────────────┼───────────────┤\n",
       "│ dense_34 (<span style=\"color: #0087ff; text-decoration-color: #0087ff\">Dense</span>)                │ (<span style=\"color: #00d7ff; text-decoration-color: #00d7ff\">None</span>, <span style=\"color: #00af00; text-decoration-color: #00af00\">1</span>)              │            <span style=\"color: #00af00; text-decoration-color: #00af00\">33</span> │\n",
       "└─────────────────────────────────┴────────────────────────┴───────────────┘\n",
       "</pre>\n"
      ],
      "text/plain": [
       "┏━━━━━━━━━━━━━━━━━━━━━━━━━━━━━━━━━┳━━━━━━━━━━━━━━━━━━━━━━━━┳━━━━━━━━━━━━━━━┓\n",
       "┃\u001b[1m \u001b[0m\u001b[1mLayer (type)                   \u001b[0m\u001b[1m \u001b[0m┃\u001b[1m \u001b[0m\u001b[1mOutput Shape          \u001b[0m\u001b[1m \u001b[0m┃\u001b[1m \u001b[0m\u001b[1m      Param #\u001b[0m\u001b[1m \u001b[0m┃\n",
       "┡━━━━━━━━━━━━━━━━━━━━━━━━━━━━━━━━━╇━━━━━━━━━━━━━━━━━━━━━━━━╇━━━━━━━━━━━━━━━┩\n",
       "│ dense_30 (\u001b[38;5;33mDense\u001b[0m)                │ (\u001b[38;5;45mNone\u001b[0m, \u001b[38;5;34m256\u001b[0m)            │        \u001b[38;5;34m13,056\u001b[0m │\n",
       "├─────────────────────────────────┼────────────────────────┼───────────────┤\n",
       "│ batch_normalization_24          │ (\u001b[38;5;45mNone\u001b[0m, \u001b[38;5;34m256\u001b[0m)            │         \u001b[38;5;34m1,024\u001b[0m │\n",
       "│ (\u001b[38;5;33mBatchNormalization\u001b[0m)            │                        │               │\n",
       "├─────────────────────────────────┼────────────────────────┼───────────────┤\n",
       "│ dropout_24 (\u001b[38;5;33mDropout\u001b[0m)            │ (\u001b[38;5;45mNone\u001b[0m, \u001b[38;5;34m256\u001b[0m)            │             \u001b[38;5;34m0\u001b[0m │\n",
       "├─────────────────────────────────┼────────────────────────┼───────────────┤\n",
       "│ dense_31 (\u001b[38;5;33mDense\u001b[0m)                │ (\u001b[38;5;45mNone\u001b[0m, \u001b[38;5;34m128\u001b[0m)            │        \u001b[38;5;34m32,896\u001b[0m │\n",
       "├─────────────────────────────────┼────────────────────────┼───────────────┤\n",
       "│ batch_normalization_25          │ (\u001b[38;5;45mNone\u001b[0m, \u001b[38;5;34m128\u001b[0m)            │           \u001b[38;5;34m512\u001b[0m │\n",
       "│ (\u001b[38;5;33mBatchNormalization\u001b[0m)            │                        │               │\n",
       "├─────────────────────────────────┼────────────────────────┼───────────────┤\n",
       "│ dropout_25 (\u001b[38;5;33mDropout\u001b[0m)            │ (\u001b[38;5;45mNone\u001b[0m, \u001b[38;5;34m128\u001b[0m)            │             \u001b[38;5;34m0\u001b[0m │\n",
       "├─────────────────────────────────┼────────────────────────┼───────────────┤\n",
       "│ dense_32 (\u001b[38;5;33mDense\u001b[0m)                │ (\u001b[38;5;45mNone\u001b[0m, \u001b[38;5;34m64\u001b[0m)             │         \u001b[38;5;34m8,256\u001b[0m │\n",
       "├─────────────────────────────────┼────────────────────────┼───────────────┤\n",
       "│ batch_normalization_26          │ (\u001b[38;5;45mNone\u001b[0m, \u001b[38;5;34m64\u001b[0m)             │           \u001b[38;5;34m256\u001b[0m │\n",
       "│ (\u001b[38;5;33mBatchNormalization\u001b[0m)            │                        │               │\n",
       "├─────────────────────────────────┼────────────────────────┼───────────────┤\n",
       "│ dropout_26 (\u001b[38;5;33mDropout\u001b[0m)            │ (\u001b[38;5;45mNone\u001b[0m, \u001b[38;5;34m64\u001b[0m)             │             \u001b[38;5;34m0\u001b[0m │\n",
       "├─────────────────────────────────┼────────────────────────┼───────────────┤\n",
       "│ dense_33 (\u001b[38;5;33mDense\u001b[0m)                │ (\u001b[38;5;45mNone\u001b[0m, \u001b[38;5;34m32\u001b[0m)             │         \u001b[38;5;34m2,080\u001b[0m │\n",
       "├─────────────────────────────────┼────────────────────────┼───────────────┤\n",
       "│ batch_normalization_27          │ (\u001b[38;5;45mNone\u001b[0m, \u001b[38;5;34m32\u001b[0m)             │           \u001b[38;5;34m128\u001b[0m │\n",
       "│ (\u001b[38;5;33mBatchNormalization\u001b[0m)            │                        │               │\n",
       "├─────────────────────────────────┼────────────────────────┼───────────────┤\n",
       "│ dropout_27 (\u001b[38;5;33mDropout\u001b[0m)            │ (\u001b[38;5;45mNone\u001b[0m, \u001b[38;5;34m32\u001b[0m)             │             \u001b[38;5;34m0\u001b[0m │\n",
       "├─────────────────────────────────┼────────────────────────┼───────────────┤\n",
       "│ dense_34 (\u001b[38;5;33mDense\u001b[0m)                │ (\u001b[38;5;45mNone\u001b[0m, \u001b[38;5;34m1\u001b[0m)              │            \u001b[38;5;34m33\u001b[0m │\n",
       "└─────────────────────────────────┴────────────────────────┴───────────────┘\n"
      ]
     },
     "metadata": {},
     "output_type": "display_data"
    },
    {
     "data": {
      "text/html": [
       "<pre style=\"white-space:pre;overflow-x:auto;line-height:normal;font-family:Menlo,'DejaVu Sans Mono',consolas,'Courier New',monospace\"><span style=\"font-weight: bold\"> Total params: </span><span style=\"color: #00af00; text-decoration-color: #00af00\">58,241</span> (227.50 KB)\n",
       "</pre>\n"
      ],
      "text/plain": [
       "\u001b[1m Total params: \u001b[0m\u001b[38;5;34m58,241\u001b[0m (227.50 KB)\n"
      ]
     },
     "metadata": {},
     "output_type": "display_data"
    },
    {
     "data": {
      "text/html": [
       "<pre style=\"white-space:pre;overflow-x:auto;line-height:normal;font-family:Menlo,'DejaVu Sans Mono',consolas,'Courier New',monospace\"><span style=\"font-weight: bold\"> Trainable params: </span><span style=\"color: #00af00; text-decoration-color: #00af00\">57,281</span> (223.75 KB)\n",
       "</pre>\n"
      ],
      "text/plain": [
       "\u001b[1m Trainable params: \u001b[0m\u001b[38;5;34m57,281\u001b[0m (223.75 KB)\n"
      ]
     },
     "metadata": {},
     "output_type": "display_data"
    },
    {
     "data": {
      "text/html": [
       "<pre style=\"white-space:pre;overflow-x:auto;line-height:normal;font-family:Menlo,'DejaVu Sans Mono',consolas,'Courier New',monospace\"><span style=\"font-weight: bold\"> Non-trainable params: </span><span style=\"color: #00af00; text-decoration-color: #00af00\">960</span> (3.75 KB)\n",
       "</pre>\n"
      ],
      "text/plain": [
       "\u001b[1m Non-trainable params: \u001b[0m\u001b[38;5;34m960\u001b[0m (3.75 KB)\n"
      ]
     },
     "metadata": {},
     "output_type": "display_data"
    }
   ],
   "source": [
    "\n",
    "\n",
    "# %% [code]\n",
    "# === PASO 5: CONSTRUCCIÓN DE LA RED NEURONAL ===\n",
    "\n",
    "def build_advanced_model(input_shape):\n",
    "    model = Sequential([\n",
    "        Dense(256, activation='relu', input_shape=(input_shape,),\n",
    "              kernel_regularizer=l1_l2(l1=1e-5, l2=1e-4)),\n",
    "        BatchNormalization(),\n",
    "        Dropout(0.4),\n",
    "        \n",
    "        Dense(128, activation='relu',\n",
    "              kernel_regularizer=l1_l2(l1=1e-5, l2=1e-4)),\n",
    "        BatchNormalization(),\n",
    "        Dropout(0.3),\n",
    "        \n",
    "        Dense(64, activation='relu',\n",
    "              kernel_regularizer=l1_l2(l1=1e-5, l2=1e-4)),\n",
    "        BatchNormalization(),\n",
    "        Dropout(0.2),\n",
    "        \n",
    "        Dense(32, activation='relu'),\n",
    "        BatchNormalization(),\n",
    "        Dropout(0.1),\n",
    "        \n",
    "        Dense(1)\n",
    "    ])\n",
    "    \n",
    "    optimizer = Adam(learning_rate=0.005, clipnorm=1.0)\n",
    "    model.compile(optimizer=optimizer, loss='mse', metrics=['mae'])\n",
    "    return model\n",
    "\n",
    "model = build_advanced_model(X_train_selected.shape[1])\n",
    "model.summary()\n",
    "\n"
   ]
  },
  {
   "cell_type": "code",
   "execution_count": 64,
   "metadata": {},
   "outputs": [
    {
     "name": "stdout",
     "output_type": "stream",
     "text": [
      "Epoch 1/500\n"
     ]
    },
    {
     "name": "stdout",
     "output_type": "stream",
     "text": [
      "\u001b[1m19/31\u001b[0m \u001b[32m━━━━━━━━━━━━\u001b[0m\u001b[37m━━━━━━━━\u001b[0m \u001b[1m0s\u001b[0m 3ms/step - loss: 143.1588 - mae: 11.8897 "
     ]
    },
    {
     "name": "stderr",
     "output_type": "stream",
     "text": [
      "WARNING:absl:You are saving your model as an HDF5 file via `model.save()` or `keras.saving.save_model(model)`. This file format is considered legacy. We recommend using instead the native Keras format, e.g. `model.save('my_model.keras')` or `keras.saving.save_model(model, 'my_model.keras')`. \n"
     ]
    },
    {
     "name": "stdout",
     "output_type": "stream",
     "text": [
      "\u001b[1m31/31\u001b[0m \u001b[32m━━━━━━━━━━━━━━━━━━━━\u001b[0m\u001b[37m\u001b[0m \u001b[1m4s\u001b[0m 14ms/step - loss: 140.0079 - mae: 11.7650 - val_loss: 111.9147 - val_mae: 10.5627 - learning_rate: 0.0050\n",
      "Epoch 2/500\n",
      "\u001b[1m19/31\u001b[0m \u001b[32m━━━━━━━━━━━━\u001b[0m\u001b[37m━━━━━━━━\u001b[0m \u001b[1m0s\u001b[0m 3ms/step - loss: 109.4045 - mae: 10.4015 "
     ]
    },
    {
     "name": "stderr",
     "output_type": "stream",
     "text": [
      "WARNING:absl:You are saving your model as an HDF5 file via `model.save()` or `keras.saving.save_model(model)`. This file format is considered legacy. We recommend using instead the native Keras format, e.g. `model.save('my_model.keras')` or `keras.saving.save_model(model, 'my_model.keras')`. \n"
     ]
    },
    {
     "name": "stdout",
     "output_type": "stream",
     "text": [
      "\u001b[1m31/31\u001b[0m \u001b[32m━━━━━━━━━━━━━━━━━━━━\u001b[0m\u001b[37m\u001b[0m \u001b[1m0s\u001b[0m 7ms/step - loss: 104.1726 - mae: 10.1339 - val_loss: 59.6017 - val_mae: 7.6828 - learning_rate: 0.0050\n",
      "Epoch 3/500\n",
      "\u001b[1m17/31\u001b[0m \u001b[32m━━━━━━━━━━\u001b[0m\u001b[37m━━━━━━━━━━\u001b[0m \u001b[1m0s\u001b[0m 3ms/step - loss: 55.7676 - mae: 7.3573 "
     ]
    },
    {
     "name": "stderr",
     "output_type": "stream",
     "text": [
      "WARNING:absl:You are saving your model as an HDF5 file via `model.save()` or `keras.saving.save_model(model)`. This file format is considered legacy. We recommend using instead the native Keras format, e.g. `model.save('my_model.keras')` or `keras.saving.save_model(model, 'my_model.keras')`. \n"
     ]
    },
    {
     "name": "stdout",
     "output_type": "stream",
     "text": [
      "\u001b[1m31/31\u001b[0m \u001b[32m━━━━━━━━━━━━━━━━━━━━\u001b[0m\u001b[37m\u001b[0m \u001b[1m0s\u001b[0m 7ms/step - loss: 49.0809 - mae: 6.8301 - val_loss: 14.0246 - val_mae: 3.6780 - learning_rate: 0.0050\n",
      "Epoch 4/500\n",
      "\u001b[1m17/31\u001b[0m \u001b[32m━━━━━━━━━━\u001b[0m\u001b[37m━━━━━━━━━━\u001b[0m \u001b[1m0s\u001b[0m 3ms/step - loss: 9.8235 - mae: 2.7573  "
     ]
    },
    {
     "name": "stderr",
     "output_type": "stream",
     "text": [
      "WARNING:absl:You are saving your model as an HDF5 file via `model.save()` or `keras.saving.save_model(model)`. This file format is considered legacy. We recommend using instead the native Keras format, e.g. `model.save('my_model.keras')` or `keras.saving.save_model(model, 'my_model.keras')`. \n"
     ]
    },
    {
     "name": "stdout",
     "output_type": "stream",
     "text": [
      "\u001b[1m31/31\u001b[0m \u001b[32m━━━━━━━━━━━━━━━━━━━━\u001b[0m\u001b[37m\u001b[0m \u001b[1m0s\u001b[0m 7ms/step - loss: 7.7059 - mae: 2.3199 - val_loss: 0.9329 - val_mae: 0.7524 - learning_rate: 0.0050\n",
      "Epoch 5/500\n",
      "\u001b[1m31/31\u001b[0m \u001b[32m━━━━━━━━━━━━━━━━━━━━\u001b[0m\u001b[37m\u001b[0m \u001b[1m0s\u001b[0m 6ms/step - loss: 2.0875 - mae: 1.1028 - val_loss: 1.0276 - val_mae: 0.6612 - learning_rate: 0.0050\n",
      "Epoch 6/500\n",
      "\u001b[1m31/31\u001b[0m \u001b[32m━━━━━━━━━━━━━━━━━━━━\u001b[0m\u001b[37m\u001b[0m \u001b[1m0s\u001b[0m 5ms/step - loss: 1.7301 - mae: 0.9732 - val_loss: 1.1266 - val_mae: 0.8468 - learning_rate: 0.0050\n",
      "Epoch 7/500\n",
      "\u001b[1m31/31\u001b[0m \u001b[32m━━━━━━━━━━━━━━━━━━━━\u001b[0m\u001b[37m\u001b[0m \u001b[1m0s\u001b[0m 5ms/step - loss: 1.4228 - mae: 0.8840 - val_loss: 1.2307 - val_mae: 0.6234 - learning_rate: 0.0050\n",
      "Epoch 8/500\n",
      "\u001b[1m31/31\u001b[0m \u001b[32m━━━━━━━━━━━━━━━━━━━━\u001b[0m\u001b[37m\u001b[0m \u001b[1m0s\u001b[0m 5ms/step - loss: 1.4853 - mae: 0.9024 - val_loss: 1.6695 - val_mae: 0.8959 - learning_rate: 0.0050\n",
      "Epoch 9/500\n",
      "\u001b[1m18/31\u001b[0m \u001b[32m━━━━━━━━━━━\u001b[0m\u001b[37m━━━━━━━━━\u001b[0m \u001b[1m0s\u001b[0m 3ms/step - loss: 1.2234 - mae: 0.8288 "
     ]
    },
    {
     "name": "stderr",
     "output_type": "stream",
     "text": [
      "WARNING:absl:You are saving your model as an HDF5 file via `model.save()` or `keras.saving.save_model(model)`. This file format is considered legacy. We recommend using instead the native Keras format, e.g. `model.save('my_model.keras')` or `keras.saving.save_model(model, 'my_model.keras')`. \n"
     ]
    },
    {
     "name": "stdout",
     "output_type": "stream",
     "text": [
      "\u001b[1m31/31\u001b[0m \u001b[32m━━━━━━━━━━━━━━━━━━━━\u001b[0m\u001b[37m\u001b[0m \u001b[1m0s\u001b[0m 8ms/step - loss: 1.2005 - mae: 0.8162 - val_loss: 0.5568 - val_mae: 0.5233 - learning_rate: 0.0050\n",
      "Epoch 10/500\n",
      "\u001b[1m31/31\u001b[0m \u001b[32m━━━━━━━━━━━━━━━━━━━━\u001b[0m\u001b[37m\u001b[0m \u001b[1m0s\u001b[0m 3ms/step - loss: 1.2605 - mae: 0.7918"
     ]
    },
    {
     "name": "stderr",
     "output_type": "stream",
     "text": [
      "WARNING:absl:You are saving your model as an HDF5 file via `model.save()` or `keras.saving.save_model(model)`. This file format is considered legacy. We recommend using instead the native Keras format, e.g. `model.save('my_model.keras')` or `keras.saving.save_model(model, 'my_model.keras')`. \n"
     ]
    },
    {
     "name": "stdout",
     "output_type": "stream",
     "text": [
      "\u001b[1m31/31\u001b[0m \u001b[32m━━━━━━━━━━━━━━━━━━━━\u001b[0m\u001b[37m\u001b[0m \u001b[1m0s\u001b[0m 8ms/step - loss: 1.2576 - mae: 0.7915 - val_loss: 0.5326 - val_mae: 0.4599 - learning_rate: 0.0050\n",
      "Epoch 11/500\n",
      "\u001b[1m27/31\u001b[0m \u001b[32m━━━━━━━━━━━━━━━━━\u001b[0m\u001b[37m━━━\u001b[0m \u001b[1m0s\u001b[0m 4ms/step - loss: 0.9737 - mae: 0.7091"
     ]
    },
    {
     "name": "stderr",
     "output_type": "stream",
     "text": [
      "WARNING:absl:You are saving your model as an HDF5 file via `model.save()` or `keras.saving.save_model(model)`. This file format is considered legacy. We recommend using instead the native Keras format, e.g. `model.save('my_model.keras')` or `keras.saving.save_model(model, 'my_model.keras')`. \n"
     ]
    },
    {
     "name": "stdout",
     "output_type": "stream",
     "text": [
      "\u001b[1m31/31\u001b[0m \u001b[32m━━━━━━━━━━━━━━━━━━━━\u001b[0m\u001b[37m\u001b[0m \u001b[1m0s\u001b[0m 8ms/step - loss: 0.9816 - mae: 0.7120 - val_loss: 0.2315 - val_mae: 0.2478 - learning_rate: 0.0050\n",
      "Epoch 12/500\n",
      "\u001b[1m31/31\u001b[0m \u001b[32m━━━━━━━━━━━━━━━━━━━━\u001b[0m\u001b[37m\u001b[0m \u001b[1m0s\u001b[0m 6ms/step - loss: 1.0448 - mae: 0.7438 - val_loss: 0.8037 - val_mae: 0.4658 - learning_rate: 0.0050\n",
      "Epoch 13/500\n",
      "\u001b[1m31/31\u001b[0m \u001b[32m━━━━━━━━━━━━━━━━━━━━\u001b[0m\u001b[37m\u001b[0m \u001b[1m0s\u001b[0m 6ms/step - loss: 1.0200 - mae: 0.7179 - val_loss: 0.2448 - val_mae: 0.2710 - learning_rate: 0.0050\n",
      "Epoch 14/500\n",
      "\u001b[1m14/31\u001b[0m \u001b[32m━━━━━━━━━\u001b[0m\u001b[37m━━━━━━━━━━━\u001b[0m \u001b[1m0s\u001b[0m 4ms/step - loss: 0.9246 - mae: 0.6944 "
     ]
    },
    {
     "name": "stderr",
     "output_type": "stream",
     "text": [
      "WARNING:absl:You are saving your model as an HDF5 file via `model.save()` or `keras.saving.save_model(model)`. This file format is considered legacy. We recommend using instead the native Keras format, e.g. `model.save('my_model.keras')` or `keras.saving.save_model(model, 'my_model.keras')`. \n"
     ]
    },
    {
     "name": "stdout",
     "output_type": "stream",
     "text": [
      "\u001b[1m31/31\u001b[0m \u001b[32m━━━━━━━━━━━━━━━━━━━━\u001b[0m\u001b[37m\u001b[0m \u001b[1m0s\u001b[0m 7ms/step - loss: 0.9112 - mae: 0.6907 - val_loss: 0.1522 - val_mae: 0.1566 - learning_rate: 0.0050\n",
      "Epoch 15/500\n",
      "\u001b[1m19/31\u001b[0m \u001b[32m━━━━━━━━━━━━\u001b[0m\u001b[37m━━━━━━━━\u001b[0m \u001b[1m0s\u001b[0m 3ms/step - loss: 0.9433 - mae: 0.6919 "
     ]
    },
    {
     "name": "stderr",
     "output_type": "stream",
     "text": [
      "WARNING:absl:You are saving your model as an HDF5 file via `model.save()` or `keras.saving.save_model(model)`. This file format is considered legacy. We recommend using instead the native Keras format, e.g. `model.save('my_model.keras')` or `keras.saving.save_model(model, 'my_model.keras')`. \n"
     ]
    },
    {
     "name": "stdout",
     "output_type": "stream",
     "text": [
      "\u001b[1m31/31\u001b[0m \u001b[32m━━━━━━━━━━━━━━━━━━━━\u001b[0m\u001b[37m\u001b[0m \u001b[1m0s\u001b[0m 7ms/step - loss: 0.9079 - mae: 0.6818 - val_loss: 0.1458 - val_mae: 0.1428 - learning_rate: 0.0050\n",
      "Epoch 16/500\n",
      "\u001b[1m31/31\u001b[0m \u001b[32m━━━━━━━━━━━━━━━━━━━━\u001b[0m\u001b[37m\u001b[0m \u001b[1m0s\u001b[0m 5ms/step - loss: 0.8447 - mae: 0.6722 - val_loss: 0.1902 - val_mae: 0.1836 - learning_rate: 0.0050\n",
      "Epoch 17/500\n",
      "\u001b[1m31/31\u001b[0m \u001b[32m━━━━━━━━━━━━━━━━━━━━\u001b[0m\u001b[37m\u001b[0m \u001b[1m0s\u001b[0m 5ms/step - loss: 0.7843 - mae: 0.6575 - val_loss: 0.1684 - val_mae: 0.1827 - learning_rate: 0.0050\n",
      "Epoch 18/500\n",
      "\u001b[1m31/31\u001b[0m \u001b[32m━━━━━━━━━━━━━━━━━━━━\u001b[0m\u001b[37m\u001b[0m \u001b[1m0s\u001b[0m 5ms/step - loss: 0.7748 - mae: 0.6276 - val_loss: 0.2048 - val_mae: 0.2052 - learning_rate: 0.0050\n",
      "Epoch 19/500\n",
      "\u001b[1m21/31\u001b[0m \u001b[32m━━━━━━━━━━━━━\u001b[0m\u001b[37m━━━━━━━\u001b[0m \u001b[1m0s\u001b[0m 3ms/step - loss: 0.6615 - mae: 0.5848 "
     ]
    },
    {
     "name": "stderr",
     "output_type": "stream",
     "text": [
      "WARNING:absl:You are saving your model as an HDF5 file via `model.save()` or `keras.saving.save_model(model)`. This file format is considered legacy. We recommend using instead the native Keras format, e.g. `model.save('my_model.keras')` or `keras.saving.save_model(model, 'my_model.keras')`. \n"
     ]
    },
    {
     "name": "stdout",
     "output_type": "stream",
     "text": [
      "\u001b[1m31/31\u001b[0m \u001b[32m━━━━━━━━━━━━━━━━━━━━\u001b[0m\u001b[37m\u001b[0m \u001b[1m0s\u001b[0m 7ms/step - loss: 0.6745 - mae: 0.5922 - val_loss: 0.1323 - val_mae: 0.1232 - learning_rate: 0.0050\n",
      "Epoch 20/500\n",
      "\u001b[1m31/31\u001b[0m \u001b[32m━━━━━━━━━━━━━━━━━━━━\u001b[0m\u001b[37m\u001b[0m \u001b[1m0s\u001b[0m 6ms/step - loss: 0.7075 - mae: 0.6173 - val_loss: 0.1331 - val_mae: 0.1312 - learning_rate: 0.0050\n",
      "Epoch 21/500\n",
      "\u001b[1m31/31\u001b[0m \u001b[32m━━━━━━━━━━━━━━━━━━━━\u001b[0m\u001b[37m\u001b[0m \u001b[1m0s\u001b[0m 6ms/step - loss: 0.7378 - mae: 0.6252 - val_loss: 0.1360 - val_mae: 0.1373 - learning_rate: 0.0050\n",
      "Epoch 22/500\n",
      "\u001b[1m19/31\u001b[0m \u001b[32m━━━━━━━━━━━━\u001b[0m\u001b[37m━━━━━━━━\u001b[0m \u001b[1m0s\u001b[0m 3ms/step - loss: 0.7185 - mae: 0.6109 "
     ]
    },
    {
     "name": "stderr",
     "output_type": "stream",
     "text": [
      "WARNING:absl:You are saving your model as an HDF5 file via `model.save()` or `keras.saving.save_model(model)`. This file format is considered legacy. We recommend using instead the native Keras format, e.g. `model.save('my_model.keras')` or `keras.saving.save_model(model, 'my_model.keras')`. \n"
     ]
    },
    {
     "name": "stdout",
     "output_type": "stream",
     "text": [
      "\u001b[1m31/31\u001b[0m \u001b[32m━━━━━━━━━━━━━━━━━━━━\u001b[0m\u001b[37m\u001b[0m \u001b[1m0s\u001b[0m 7ms/step - loss: 0.6887 - mae: 0.5983 - val_loss: 0.1282 - val_mae: 0.1244 - learning_rate: 0.0050\n",
      "Epoch 23/500\n",
      "\u001b[1m31/31\u001b[0m \u001b[32m━━━━━━━━━━━━━━━━━━━━\u001b[0m\u001b[37m\u001b[0m \u001b[1m0s\u001b[0m 5ms/step - loss: 0.6573 - mae: 0.6028 - val_loss: 0.1502 - val_mae: 0.1882 - learning_rate: 0.0050\n",
      "Epoch 24/500\n",
      "\u001b[1m31/31\u001b[0m \u001b[32m━━━━━━━━━━━━━━━━━━━━\u001b[0m\u001b[37m\u001b[0m \u001b[1m0s\u001b[0m 9ms/step - loss: 0.6863 - mae: 0.5916 - val_loss: 0.1748 - val_mae: 0.2387 - learning_rate: 0.0050\n",
      "Epoch 25/500\n",
      "\u001b[1m25/31\u001b[0m \u001b[32m━━━━━━━━━━━━━━━━\u001b[0m\u001b[37m━━━━\u001b[0m \u001b[1m0s\u001b[0m 4ms/step - loss: 0.7429 - mae: 0.6279"
     ]
    },
    {
     "name": "stderr",
     "output_type": "stream",
     "text": [
      "WARNING:absl:You are saving your model as an HDF5 file via `model.save()` or `keras.saving.save_model(model)`. This file format is considered legacy. We recommend using instead the native Keras format, e.g. `model.save('my_model.keras')` or `keras.saving.save_model(model, 'my_model.keras')`. \n"
     ]
    },
    {
     "name": "stdout",
     "output_type": "stream",
     "text": [
      "\u001b[1m31/31\u001b[0m \u001b[32m━━━━━━━━━━━━━━━━━━━━\u001b[0m\u001b[37m\u001b[0m \u001b[1m0s\u001b[0m 8ms/step - loss: 0.7316 - mae: 0.6229 - val_loss: 0.1228 - val_mae: 0.1225 - learning_rate: 0.0050\n",
      "Epoch 26/500\n",
      "\u001b[1m31/31\u001b[0m \u001b[32m━━━━━━━━━━━━━━━━━━━━\u001b[0m\u001b[37m\u001b[0m \u001b[1m0s\u001b[0m 10ms/step - loss: 0.6293 - mae: 0.5740 - val_loss: 0.1399 - val_mae: 0.1735 - learning_rate: 0.0050\n",
      "Epoch 27/500\n",
      "\u001b[1m31/31\u001b[0m \u001b[32m━━━━━━━━━━━━━━━━━━━━\u001b[0m\u001b[37m\u001b[0m \u001b[1m0s\u001b[0m 6ms/step - loss: 0.5827 - mae: 0.5620 - val_loss: 0.1416 - val_mae: 0.1831 - learning_rate: 0.0050\n",
      "Epoch 28/500\n",
      "\u001b[1m31/31\u001b[0m \u001b[32m━━━━━━━━━━━━━━━━━━━━\u001b[0m\u001b[37m\u001b[0m \u001b[1m0s\u001b[0m 5ms/step - loss: 0.6180 - mae: 0.5782 - val_loss: 0.1259 - val_mae: 0.1455 - learning_rate: 0.0050\n",
      "Epoch 29/500\n",
      "\u001b[1m18/31\u001b[0m \u001b[32m━━━━━━━━━━━\u001b[0m\u001b[37m━━━━━━━━━\u001b[0m \u001b[1m0s\u001b[0m 3ms/step - loss: 0.6927 - mae: 0.6140 "
     ]
    },
    {
     "name": "stderr",
     "output_type": "stream",
     "text": [
      "WARNING:absl:You are saving your model as an HDF5 file via `model.save()` or `keras.saving.save_model(model)`. This file format is considered legacy. We recommend using instead the native Keras format, e.g. `model.save('my_model.keras')` or `keras.saving.save_model(model, 'my_model.keras')`. \n"
     ]
    },
    {
     "name": "stdout",
     "output_type": "stream",
     "text": [
      "\u001b[1m31/31\u001b[0m \u001b[32m━━━━━━━━━━━━━━━━━━━━\u001b[0m\u001b[37m\u001b[0m \u001b[1m0s\u001b[0m 8ms/step - loss: 0.6677 - mae: 0.5975 - val_loss: 0.1124 - val_mae: 0.1141 - learning_rate: 0.0050\n",
      "Epoch 30/500\n",
      "\u001b[1m18/31\u001b[0m \u001b[32m━━━━━━━━━━━\u001b[0m\u001b[37m━━━━━━━━━\u001b[0m \u001b[1m0s\u001b[0m 3ms/step - loss: 0.5317 - mae: 0.5030 "
     ]
    },
    {
     "name": "stderr",
     "output_type": "stream",
     "text": [
      "WARNING:absl:You are saving your model as an HDF5 file via `model.save()` or `keras.saving.save_model(model)`. This file format is considered legacy. We recommend using instead the native Keras format, e.g. `model.save('my_model.keras')` or `keras.saving.save_model(model, 'my_model.keras')`. \n"
     ]
    },
    {
     "name": "stdout",
     "output_type": "stream",
     "text": [
      "\u001b[1m31/31\u001b[0m \u001b[32m━━━━━━━━━━━━━━━━━━━━\u001b[0m\u001b[37m\u001b[0m \u001b[1m0s\u001b[0m 8ms/step - loss: 0.5421 - mae: 0.5186 - val_loss: 0.1108 - val_mae: 0.1162 - learning_rate: 0.0050\n",
      "Epoch 31/500\n",
      "\u001b[1m31/31\u001b[0m \u001b[32m━━━━━━━━━━━━━━━━━━━━\u001b[0m\u001b[37m\u001b[0m \u001b[1m0s\u001b[0m 6ms/step - loss: 0.5829 - mae: 0.5606 - val_loss: 0.1182 - val_mae: 0.1387 - learning_rate: 0.0050\n",
      "Epoch 32/500\n",
      "\u001b[1m31/31\u001b[0m \u001b[32m━━━━━━━━━━━━━━━━━━━━\u001b[0m\u001b[37m\u001b[0m \u001b[1m0s\u001b[0m 6ms/step - loss: 0.5742 - mae: 0.5556 - val_loss: 0.1310 - val_mae: 0.1636 - learning_rate: 0.0050\n",
      "Epoch 33/500\n",
      "\u001b[1m31/31\u001b[0m \u001b[32m━━━━━━━━━━━━━━━━━━━━\u001b[0m\u001b[37m\u001b[0m \u001b[1m0s\u001b[0m 6ms/step - loss: 0.6434 - mae: 0.5857 - val_loss: 0.1417 - val_mae: 0.2076 - learning_rate: 0.0050\n",
      "Epoch 34/500\n",
      "\u001b[1m31/31\u001b[0m \u001b[32m━━━━━━━━━━━━━━━━━━━━\u001b[0m\u001b[37m\u001b[0m \u001b[1m0s\u001b[0m 4ms/step - loss: 0.5218 - mae: 0.5381 - val_loss: 0.1175 - val_mae: 0.1459 - learning_rate: 0.0050\n",
      "Epoch 35/500\n",
      "\u001b[1m20/31\u001b[0m \u001b[32m━━━━━━━━━━━━\u001b[0m\u001b[37m━━━━━━━━\u001b[0m \u001b[1m0s\u001b[0m 3ms/step - loss: 0.5132 - mae: 0.5225 "
     ]
    },
    {
     "name": "stderr",
     "output_type": "stream",
     "text": [
      "WARNING:absl:You are saving your model as an HDF5 file via `model.save()` or `keras.saving.save_model(model)`. This file format is considered legacy. We recommend using instead the native Keras format, e.g. `model.save('my_model.keras')` or `keras.saving.save_model(model, 'my_model.keras')`. \n"
     ]
    },
    {
     "name": "stdout",
     "output_type": "stream",
     "text": [
      "\u001b[1m31/31\u001b[0m \u001b[32m━━━━━━━━━━━━━━━━━━━━\u001b[0m\u001b[37m\u001b[0m \u001b[1m0s\u001b[0m 6ms/step - loss: 0.5118 - mae: 0.5214 - val_loss: 0.1064 - val_mae: 0.1266 - learning_rate: 0.0050\n",
      "Epoch 36/500\n",
      "\u001b[1m31/31\u001b[0m \u001b[32m━━━━━━━━━━━━━━━━━━━━\u001b[0m\u001b[37m\u001b[0m \u001b[1m0s\u001b[0m 5ms/step - loss: 0.5280 - mae: 0.5331 - val_loss: 0.1142 - val_mae: 0.1466 - learning_rate: 0.0050\n",
      "Epoch 37/500\n",
      "\u001b[1m31/31\u001b[0m \u001b[32m━━━━━━━━━━━━━━━━━━━━\u001b[0m\u001b[37m\u001b[0m \u001b[1m0s\u001b[0m 3ms/step - loss: 0.5150 - mae: 0.5333"
     ]
    },
    {
     "name": "stderr",
     "output_type": "stream",
     "text": [
      "WARNING:absl:You are saving your model as an HDF5 file via `model.save()` or `keras.saving.save_model(model)`. This file format is considered legacy. We recommend using instead the native Keras format, e.g. `model.save('my_model.keras')` or `keras.saving.save_model(model, 'my_model.keras')`. \n"
     ]
    },
    {
     "name": "stdout",
     "output_type": "stream",
     "text": [
      "\u001b[1m31/31\u001b[0m \u001b[32m━━━━━━━━━━━━━━━━━━━━\u001b[0m\u001b[37m\u001b[0m \u001b[1m0s\u001b[0m 8ms/step - loss: 0.5146 - mae: 0.5330 - val_loss: 0.1025 - val_mae: 0.1276 - learning_rate: 0.0050\n",
      "Epoch 38/500\n",
      "\u001b[1m31/31\u001b[0m \u001b[32m━━━━━━━━━━━━━━━━━━━━\u001b[0m\u001b[37m\u001b[0m \u001b[1m0s\u001b[0m 6ms/step - loss: 0.5034 - mae: 0.5243 - val_loss: 0.1079 - val_mae: 0.1456 - learning_rate: 0.0050\n",
      "Epoch 39/500\n",
      "\u001b[1m31/31\u001b[0m \u001b[32m━━━━━━━━━━━━━━━━━━━━\u001b[0m\u001b[37m\u001b[0m \u001b[1m0s\u001b[0m 7ms/step - loss: 0.5420 - mae: 0.5520 - val_loss: 0.1218 - val_mae: 0.1872 - learning_rate: 0.0050\n",
      "Epoch 40/500\n",
      "\u001b[1m31/31\u001b[0m \u001b[32m━━━━━━━━━━━━━━━━━━━━\u001b[0m\u001b[37m\u001b[0m \u001b[1m0s\u001b[0m 5ms/step - loss: 0.5831 - mae: 0.5664 - val_loss: 0.1147 - val_mae: 0.1686 - learning_rate: 0.0050\n",
      "Epoch 41/500\n",
      "\u001b[1m31/31\u001b[0m \u001b[32m━━━━━━━━━━━━━━━━━━━━\u001b[0m\u001b[37m\u001b[0m \u001b[1m0s\u001b[0m 5ms/step - loss: 0.4482 - mae: 0.4922 - val_loss: 0.1097 - val_mae: 0.1639 - learning_rate: 0.0050\n",
      "Epoch 42/500\n",
      "\u001b[1m31/31\u001b[0m \u001b[32m━━━━━━━━━━━━━━━━━━━━\u001b[0m\u001b[37m\u001b[0m \u001b[1m0s\u001b[0m 5ms/step - loss: 0.5304 - mae: 0.5349 - val_loss: 0.1278 - val_mae: 0.2078 - learning_rate: 0.0050\n",
      "Epoch 43/500\n",
      "\u001b[1m25/31\u001b[0m \u001b[32m━━━━━━━━━━━━━━━━\u001b[0m\u001b[37m━━━━\u001b[0m \u001b[1m0s\u001b[0m 4ms/step - loss: 0.5066 - mae: 0.5387"
     ]
    },
    {
     "name": "stderr",
     "output_type": "stream",
     "text": [
      "WARNING:absl:You are saving your model as an HDF5 file via `model.save()` or `keras.saving.save_model(model)`. This file format is considered legacy. We recommend using instead the native Keras format, e.g. `model.save('my_model.keras')` or `keras.saving.save_model(model, 'my_model.keras')`. \n"
     ]
    },
    {
     "name": "stdout",
     "output_type": "stream",
     "text": [
      "\u001b[1m31/31\u001b[0m \u001b[32m━━━━━━━━━━━━━━━━━━━━\u001b[0m\u001b[37m\u001b[0m \u001b[1m0s\u001b[0m 10ms/step - loss: 0.5078 - mae: 0.5378 - val_loss: 0.0861 - val_mae: 0.1091 - learning_rate: 0.0050\n",
      "Epoch 44/500\n",
      "\u001b[1m31/31\u001b[0m \u001b[32m━━━━━━━━━━━━━━━━━━━━\u001b[0m\u001b[37m\u001b[0m \u001b[1m0s\u001b[0m 5ms/step - loss: 0.5421 - mae: 0.5511 - val_loss: 0.1116 - val_mae: 0.1670 - learning_rate: 0.0050\n",
      "Epoch 45/500\n",
      "\u001b[1m31/31\u001b[0m \u001b[32m━━━━━━━━━━━━━━━━━━━━\u001b[0m\u001b[37m\u001b[0m \u001b[1m0s\u001b[0m 9ms/step - loss: 0.5544 - mae: 0.5511 - val_loss: 0.0924 - val_mae: 0.1345 - learning_rate: 0.0050\n",
      "Epoch 46/500\n",
      "\u001b[1m31/31\u001b[0m \u001b[32m━━━━━━━━━━━━━━━━━━━━\u001b[0m\u001b[37m\u001b[0m \u001b[1m0s\u001b[0m 6ms/step - loss: 0.5337 - mae: 0.5432 - val_loss: 0.1054 - val_mae: 0.1737 - learning_rate: 0.0050\n",
      "Epoch 47/500\n",
      "\u001b[1m31/31\u001b[0m \u001b[32m━━━━━━━━━━━━━━━━━━━━\u001b[0m\u001b[37m\u001b[0m \u001b[1m0s\u001b[0m 6ms/step - loss: 0.4971 - mae: 0.5241 - val_loss: 0.0985 - val_mae: 0.1597 - learning_rate: 0.0050\n",
      "Epoch 48/500\n",
      "\u001b[1m31/31\u001b[0m \u001b[32m━━━━━━━━━━━━━━━━━━━━\u001b[0m\u001b[37m\u001b[0m \u001b[1m0s\u001b[0m 5ms/step - loss: 0.4527 - mae: 0.4893 - val_loss: 0.1252 - val_mae: 0.2205 - learning_rate: 0.0050\n",
      "Epoch 49/500\n",
      "\u001b[1m31/31\u001b[0m \u001b[32m━━━━━━━━━━━━━━━━━━━━\u001b[0m\u001b[37m\u001b[0m \u001b[1m0s\u001b[0m 5ms/step - loss: 0.5020 - mae: 0.5360 - val_loss: 0.1123 - val_mae: 0.1772 - learning_rate: 0.0050\n",
      "Epoch 50/500\n",
      "\u001b[1m19/31\u001b[0m \u001b[32m━━━━━━━━━━━━\u001b[0m\u001b[37m━━━━━━━━\u001b[0m \u001b[1m0s\u001b[0m 3ms/step - loss: 0.4239 - mae: 0.4902 "
     ]
    },
    {
     "name": "stderr",
     "output_type": "stream",
     "text": [
      "WARNING:absl:You are saving your model as an HDF5 file via `model.save()` or `keras.saving.save_model(model)`. This file format is considered legacy. We recommend using instead the native Keras format, e.g. `model.save('my_model.keras')` or `keras.saving.save_model(model, 'my_model.keras')`. \n"
     ]
    },
    {
     "name": "stdout",
     "output_type": "stream",
     "text": [
      "\u001b[1m31/31\u001b[0m \u001b[32m━━━━━━━━━━━━━━━━━━━━\u001b[0m\u001b[37m\u001b[0m \u001b[1m0s\u001b[0m 7ms/step - loss: 0.4389 - mae: 0.4949 - val_loss: 0.0780 - val_mae: 0.1155 - learning_rate: 0.0050\n",
      "Epoch 51/500\n",
      "\u001b[1m30/31\u001b[0m \u001b[32m━━━━━━━━━━━━━━━━━━━\u001b[0m\u001b[37m━\u001b[0m \u001b[1m0s\u001b[0m 4ms/step - loss: 0.4420 - mae: 0.4971"
     ]
    },
    {
     "name": "stderr",
     "output_type": "stream",
     "text": [
      "WARNING:absl:You are saving your model as an HDF5 file via `model.save()` or `keras.saving.save_model(model)`. This file format is considered legacy. We recommend using instead the native Keras format, e.g. `model.save('my_model.keras')` or `keras.saving.save_model(model, 'my_model.keras')`. \n"
     ]
    },
    {
     "name": "stdout",
     "output_type": "stream",
     "text": [
      "\u001b[1m31/31\u001b[0m \u001b[32m━━━━━━━━━━━━━━━━━━━━\u001b[0m\u001b[37m\u001b[0m \u001b[1m0s\u001b[0m 8ms/step - loss: 0.4423 - mae: 0.4971 - val_loss: 0.0774 - val_mae: 0.1156 - learning_rate: 0.0050\n",
      "Epoch 52/500\n",
      "\u001b[1m31/31\u001b[0m \u001b[32m━━━━━━━━━━━━━━━━━━━━\u001b[0m\u001b[37m\u001b[0m \u001b[1m0s\u001b[0m 6ms/step - loss: 0.4597 - mae: 0.5012 - val_loss: 0.0803 - val_mae: 0.1318 - learning_rate: 0.0050\n",
      "Epoch 53/500\n",
      "\u001b[1m31/31\u001b[0m \u001b[32m━━━━━━━━━━━━━━━━━━━━\u001b[0m\u001b[37m\u001b[0m \u001b[1m0s\u001b[0m 6ms/step - loss: 0.4311 - mae: 0.4934 - val_loss: 0.0907 - val_mae: 0.1606 - learning_rate: 0.0050\n",
      "Epoch 54/500\n",
      "\u001b[1m31/31\u001b[0m \u001b[32m━━━━━━━━━━━━━━━━━━━━\u001b[0m\u001b[37m\u001b[0m \u001b[1m0s\u001b[0m 5ms/step - loss: 0.4811 - mae: 0.5101 - val_loss: 0.1128 - val_mae: 0.2163 - learning_rate: 0.0050\n",
      "Epoch 55/500\n",
      "\u001b[1m16/31\u001b[0m \u001b[32m━━━━━━━━━━\u001b[0m\u001b[37m━━━━━━━━━━\u001b[0m \u001b[1m0s\u001b[0m 3ms/step - loss: 0.4804 - mae: 0.5245 "
     ]
    },
    {
     "name": "stderr",
     "output_type": "stream",
     "text": [
      "WARNING:absl:You are saving your model as an HDF5 file via `model.save()` or `keras.saving.save_model(model)`. This file format is considered legacy. We recommend using instead the native Keras format, e.g. `model.save('my_model.keras')` or `keras.saving.save_model(model, 'my_model.keras')`. \n"
     ]
    },
    {
     "name": "stdout",
     "output_type": "stream",
     "text": [
      "\u001b[1m31/31\u001b[0m \u001b[32m━━━━━━━━━━━━━━━━━━━━\u001b[0m\u001b[37m\u001b[0m \u001b[1m0s\u001b[0m 7ms/step - loss: 0.4841 - mae: 0.5273 - val_loss: 0.0718 - val_mae: 0.1104 - learning_rate: 0.0050\n",
      "Epoch 56/500\n",
      "\u001b[1m31/31\u001b[0m \u001b[32m━━━━━━━━━━━━━━━━━━━━\u001b[0m\u001b[37m\u001b[0m \u001b[1m0s\u001b[0m 8ms/step - loss: 0.4290 - mae: 0.4951 - val_loss: 0.0881 - val_mae: 0.1592 - learning_rate: 0.0050\n",
      "Epoch 57/500\n",
      "\u001b[1m31/31\u001b[0m \u001b[32m━━━━━━━━━━━━━━━━━━━━\u001b[0m\u001b[37m\u001b[0m \u001b[1m0s\u001b[0m 6ms/step - loss: 0.5111 - mae: 0.5354 - val_loss: 0.0894 - val_mae: 0.1684 - learning_rate: 0.0050\n",
      "Epoch 58/500\n",
      "\u001b[1m31/31\u001b[0m \u001b[32m━━━━━━━━━━━━━━━━━━━━\u001b[0m\u001b[37m\u001b[0m \u001b[1m0s\u001b[0m 5ms/step - loss: 0.4286 - mae: 0.4900 - val_loss: 0.0736 - val_mae: 0.1288 - learning_rate: 0.0050\n",
      "Epoch 59/500\n",
      "\u001b[1m31/31\u001b[0m \u001b[32m━━━━━━━━━━━━━━━━━━━━\u001b[0m\u001b[37m\u001b[0m \u001b[1m0s\u001b[0m 5ms/step - loss: 0.3654 - mae: 0.4509 - val_loss: 0.0756 - val_mae: 0.1370 - learning_rate: 0.0050\n",
      "Epoch 60/500\n",
      "\u001b[1m18/31\u001b[0m \u001b[32m━━━━━━━━━━━\u001b[0m\u001b[37m━━━━━━━━━\u001b[0m \u001b[1m0s\u001b[0m 3ms/step - loss: 0.4401 - mae: 0.5078 "
     ]
    },
    {
     "name": "stderr",
     "output_type": "stream",
     "text": [
      "WARNING:absl:You are saving your model as an HDF5 file via `model.save()` or `keras.saving.save_model(model)`. This file format is considered legacy. We recommend using instead the native Keras format, e.g. `model.save('my_model.keras')` or `keras.saving.save_model(model, 'my_model.keras')`. \n"
     ]
    },
    {
     "name": "stdout",
     "output_type": "stream",
     "text": [
      "\u001b[1m31/31\u001b[0m \u001b[32m━━━━━━━━━━━━━━━━━━━━\u001b[0m\u001b[37m\u001b[0m \u001b[1m0s\u001b[0m 6ms/step - loss: 0.4322 - mae: 0.4994 - val_loss: 0.0695 - val_mae: 0.1174 - learning_rate: 0.0050\n",
      "Epoch 61/500\n",
      "\u001b[1m31/31\u001b[0m \u001b[32m━━━━━━━━━━━━━━━━━━━━\u001b[0m\u001b[37m\u001b[0m \u001b[1m0s\u001b[0m 6ms/step - loss: 0.4433 - mae: 0.4903 - val_loss: 0.0973 - val_mae: 0.1978 - learning_rate: 0.0050\n",
      "Epoch 62/500\n",
      "\u001b[1m31/31\u001b[0m \u001b[32m━━━━━━━━━━━━━━━━━━━━\u001b[0m\u001b[37m\u001b[0m \u001b[1m0s\u001b[0m 7ms/step - loss: 0.5225 - mae: 0.5553 - val_loss: 0.0780 - val_mae: 0.1444 - learning_rate: 0.0050\n",
      "Epoch 63/500\n",
      "\u001b[1m18/31\u001b[0m \u001b[32m━━━━━━━━━━━\u001b[0m\u001b[37m━━━━━━━━━\u001b[0m \u001b[1m0s\u001b[0m 3ms/step - loss: 0.4498 - mae: 0.5085 "
     ]
    },
    {
     "name": "stderr",
     "output_type": "stream",
     "text": [
      "WARNING:absl:You are saving your model as an HDF5 file via `model.save()` or `keras.saving.save_model(model)`. This file format is considered legacy. We recommend using instead the native Keras format, e.g. `model.save('my_model.keras')` or `keras.saving.save_model(model, 'my_model.keras')`. \n"
     ]
    },
    {
     "name": "stdout",
     "output_type": "stream",
     "text": [
      "\u001b[1m31/31\u001b[0m \u001b[32m━━━━━━━━━━━━━━━━━━━━\u001b[0m\u001b[37m\u001b[0m \u001b[1m0s\u001b[0m 7ms/step - loss: 0.4469 - mae: 0.5031 - val_loss: 0.0676 - val_mae: 0.1204 - learning_rate: 0.0050\n",
      "Epoch 64/500\n",
      "\u001b[1m31/31\u001b[0m \u001b[32m━━━━━━━━━━━━━━━━━━━━\u001b[0m\u001b[37m\u001b[0m \u001b[1m0s\u001b[0m 6ms/step - loss: 0.3688 - mae: 0.4508 - val_loss: 0.0739 - val_mae: 0.1451 - learning_rate: 0.0050\n",
      "Epoch 65/500\n",
      "\u001b[1m31/31\u001b[0m \u001b[32m━━━━━━━━━━━━━━━━━━━━\u001b[0m\u001b[37m\u001b[0m \u001b[1m0s\u001b[0m 5ms/step - loss: 0.4566 - mae: 0.5104 - val_loss: 0.0822 - val_mae: 0.1714 - learning_rate: 0.0050\n",
      "Epoch 66/500\n",
      "\u001b[1m31/31\u001b[0m \u001b[32m━━━━━━━━━━━━━━━━━━━━\u001b[0m\u001b[37m\u001b[0m \u001b[1m0s\u001b[0m 5ms/step - loss: 0.4106 - mae: 0.4925 - val_loss: 0.0855 - val_mae: 0.1741 - learning_rate: 0.0050\n",
      "Epoch 67/500\n",
      "\u001b[1m25/31\u001b[0m \u001b[32m━━━━━━━━━━━━━━━━\u001b[0m\u001b[37m━━━━\u001b[0m \u001b[1m0s\u001b[0m 4ms/step - loss: 0.3875 - mae: 0.4735"
     ]
    },
    {
     "name": "stderr",
     "output_type": "stream",
     "text": [
      "WARNING:absl:You are saving your model as an HDF5 file via `model.save()` or `keras.saving.save_model(model)`. This file format is considered legacy. We recommend using instead the native Keras format, e.g. `model.save('my_model.keras')` or `keras.saving.save_model(model, 'my_model.keras')`. \n"
     ]
    },
    {
     "name": "stdout",
     "output_type": "stream",
     "text": [
      "\u001b[1m31/31\u001b[0m \u001b[32m━━━━━━━━━━━━━━━━━━━━\u001b[0m\u001b[37m\u001b[0m \u001b[1m0s\u001b[0m 8ms/step - loss: 0.3871 - mae: 0.4734 - val_loss: 0.0641 - val_mae: 0.1214 - learning_rate: 0.0050\n",
      "Epoch 68/500\n",
      "\u001b[1m31/31\u001b[0m \u001b[32m━━━━━━━━━━━━━━━━━━━━\u001b[0m\u001b[37m\u001b[0m \u001b[1m0s\u001b[0m 8ms/step - loss: 0.4343 - mae: 0.5025 - val_loss: 0.0742 - val_mae: 0.1542 - learning_rate: 0.0050\n",
      "Epoch 69/500\n",
      "\u001b[1m31/31\u001b[0m \u001b[32m━━━━━━━━━━━━━━━━━━━━\u001b[0m\u001b[37m\u001b[0m \u001b[1m0s\u001b[0m 6ms/step - loss: 0.4052 - mae: 0.4869 - val_loss: 0.0826 - val_mae: 0.1780 - learning_rate: 0.0050\n",
      "Epoch 70/500\n",
      "\u001b[1m31/31\u001b[0m \u001b[32m━━━━━━━━━━━━━━━━━━━━\u001b[0m\u001b[37m\u001b[0m \u001b[1m0s\u001b[0m 5ms/step - loss: 0.4308 - mae: 0.5112 - val_loss: 0.0708 - val_mae: 0.1421 - learning_rate: 0.0050\n",
      "Epoch 71/500\n",
      "\u001b[1m31/31\u001b[0m \u001b[32m━━━━━━━━━━━━━━━━━━━━\u001b[0m\u001b[37m\u001b[0m \u001b[1m0s\u001b[0m 5ms/step - loss: 0.4246 - mae: 0.4939 - val_loss: 0.0709 - val_mae: 0.1470 - learning_rate: 0.0050\n",
      "Epoch 72/500\n",
      "\u001b[1m31/31\u001b[0m \u001b[32m━━━━━━━━━━━━━━━━━━━━\u001b[0m\u001b[37m\u001b[0m \u001b[1m0s\u001b[0m 5ms/step - loss: 0.3978 - mae: 0.4824 - val_loss: 0.0691 - val_mae: 0.1457 - learning_rate: 0.0050\n",
      "Epoch 73/500\n",
      "\u001b[1m19/31\u001b[0m \u001b[32m━━━━━━━━━━━━\u001b[0m\u001b[37m━━━━━━━━\u001b[0m \u001b[1m0s\u001b[0m 3ms/step - loss: 0.4051 - mae: 0.4868 "
     ]
    },
    {
     "name": "stderr",
     "output_type": "stream",
     "text": [
      "WARNING:absl:You are saving your model as an HDF5 file via `model.save()` or `keras.saving.save_model(model)`. This file format is considered legacy. We recommend using instead the native Keras format, e.g. `model.save('my_model.keras')` or `keras.saving.save_model(model, 'my_model.keras')`. \n"
     ]
    },
    {
     "name": "stdout",
     "output_type": "stream",
     "text": [
      "\u001b[1m31/31\u001b[0m \u001b[32m━━━━━━━━━━━━━━━━━━━━\u001b[0m\u001b[37m\u001b[0m \u001b[1m0s\u001b[0m 6ms/step - loss: 0.3997 - mae: 0.4811 - val_loss: 0.0587 - val_mae: 0.1165 - learning_rate: 0.0050\n",
      "Epoch 74/500\n",
      "\u001b[1m31/31\u001b[0m \u001b[32m━━━━━━━━━━━━━━━━━━━━\u001b[0m\u001b[37m\u001b[0m \u001b[1m0s\u001b[0m 6ms/step - loss: 0.3915 - mae: 0.4825 - val_loss: 0.0607 - val_mae: 0.1256 - learning_rate: 0.0050\n",
      "Epoch 75/500\n",
      "\u001b[1m31/31\u001b[0m \u001b[32m━━━━━━━━━━━━━━━━━━━━\u001b[0m\u001b[37m\u001b[0m \u001b[1m0s\u001b[0m 6ms/step - loss: 0.4008 - mae: 0.4895 - val_loss: 0.0625 - val_mae: 0.1293 - learning_rate: 0.0050\n",
      "Epoch 76/500\n",
      "\u001b[1m31/31\u001b[0m \u001b[32m━━━━━━━━━━━━━━━━━━━━\u001b[0m\u001b[37m\u001b[0m \u001b[1m0s\u001b[0m 6ms/step - loss: 0.3854 - mae: 0.4785 - val_loss: 0.0694 - val_mae: 0.1558 - learning_rate: 0.0050\n",
      "Epoch 77/500\n",
      "\u001b[1m31/31\u001b[0m \u001b[32m━━━━━━━━━━━━━━━━━━━━\u001b[0m\u001b[37m\u001b[0m \u001b[1m0s\u001b[0m 6ms/step - loss: 0.3776 - mae: 0.4684 - val_loss: 0.0655 - val_mae: 0.1472 - learning_rate: 0.0050\n",
      "Epoch 78/500\n",
      "\u001b[1m31/31\u001b[0m \u001b[32m━━━━━━━━━━━━━━━━━━━━\u001b[0m\u001b[37m\u001b[0m \u001b[1m0s\u001b[0m 5ms/step - loss: 0.3460 - mae: 0.4470 - val_loss: 0.0868 - val_mae: 0.2004 - learning_rate: 0.0050\n",
      "Epoch 79/500\n",
      "\u001b[1m31/31\u001b[0m \u001b[32m━━━━━━━━━━━━━━━━━━━━\u001b[0m\u001b[37m\u001b[0m \u001b[1m0s\u001b[0m 6ms/step - loss: 0.3507 - mae: 0.4634 - val_loss: 0.0734 - val_mae: 0.1676 - learning_rate: 0.0050\n",
      "Epoch 80/500\n",
      "\u001b[1m31/31\u001b[0m \u001b[32m━━━━━━━━━━━━━━━━━━━━\u001b[0m\u001b[37m\u001b[0m \u001b[1m0s\u001b[0m 5ms/step - loss: 0.3647 - mae: 0.4706 - val_loss: 0.0619 - val_mae: 0.1364 - learning_rate: 0.0050\n",
      "Epoch 81/500\n",
      "\u001b[1m31/31\u001b[0m \u001b[32m━━━━━━━━━━━━━━━━━━━━\u001b[0m\u001b[37m\u001b[0m \u001b[1m0s\u001b[0m 5ms/step - loss: 0.3831 - mae: 0.4664 - val_loss: 0.0712 - val_mae: 0.1559 - learning_rate: 0.0050\n",
      "Epoch 82/500\n",
      "\u001b[1m31/31\u001b[0m \u001b[32m━━━━━━━━━━━━━━━━━━━━\u001b[0m\u001b[37m\u001b[0m \u001b[1m0s\u001b[0m 5ms/step - loss: 0.4150 - mae: 0.4973 - val_loss: 0.0767 - val_mae: 0.1685 - learning_rate: 0.0050\n",
      "Epoch 83/500\n",
      "\u001b[1m31/31\u001b[0m \u001b[32m━━━━━━━━━━━━━━━━━━━━\u001b[0m\u001b[37m\u001b[0m \u001b[1m0s\u001b[0m 5ms/step - loss: 0.3724 - mae: 0.4701 - val_loss: 0.0651 - val_mae: 0.1456 - learning_rate: 0.0050\n",
      "Epoch 84/500\n",
      "\u001b[1m19/31\u001b[0m \u001b[32m━━━━━━━━━━━━\u001b[0m\u001b[37m━━━━━━━━\u001b[0m \u001b[1m0s\u001b[0m 3ms/step - loss: 0.3886 - mae: 0.4719 "
     ]
    },
    {
     "name": "stderr",
     "output_type": "stream",
     "text": [
      "WARNING:absl:You are saving your model as an HDF5 file via `model.save()` or `keras.saving.save_model(model)`. This file format is considered legacy. We recommend using instead the native Keras format, e.g. `model.save('my_model.keras')` or `keras.saving.save_model(model, 'my_model.keras')`. \n"
     ]
    },
    {
     "name": "stdout",
     "output_type": "stream",
     "text": [
      "\u001b[1m31/31\u001b[0m \u001b[32m━━━━━━━━━━━━━━━━━━━━\u001b[0m\u001b[37m\u001b[0m \u001b[1m0s\u001b[0m 7ms/step - loss: 0.3825 - mae: 0.4688 - val_loss: 0.0514 - val_mae: 0.1102 - learning_rate: 0.0025\n",
      "Epoch 85/500\n",
      "\u001b[1m31/31\u001b[0m \u001b[32m━━━━━━━━━━━━━━━━━━━━\u001b[0m\u001b[37m\u001b[0m \u001b[1m0s\u001b[0m 7ms/step - loss: 0.3419 - mae: 0.4516 - val_loss: 0.0521 - val_mae: 0.1144 - learning_rate: 0.0025\n",
      "Epoch 86/500\n",
      "\u001b[1m31/31\u001b[0m \u001b[32m━━━━━━━━━━━━━━━━━━━━\u001b[0m\u001b[37m\u001b[0m \u001b[1m0s\u001b[0m 8ms/step - loss: 0.3207 - mae: 0.4290 - val_loss: 0.0570 - val_mae: 0.1273 - learning_rate: 0.0025\n",
      "Epoch 87/500\n",
      "\u001b[1m31/31\u001b[0m \u001b[32m━━━━━━━━━━━━━━━━━━━━\u001b[0m\u001b[37m\u001b[0m \u001b[1m0s\u001b[0m 6ms/step - loss: 0.3310 - mae: 0.4320 - val_loss: 0.0608 - val_mae: 0.1462 - learning_rate: 0.0025\n",
      "Epoch 88/500\n",
      "\u001b[1m16/31\u001b[0m \u001b[32m━━━━━━━━━━\u001b[0m\u001b[37m━━━━━━━━━━\u001b[0m \u001b[1m0s\u001b[0m 3ms/step - loss: 0.2992 - mae: 0.4245 "
     ]
    },
    {
     "name": "stderr",
     "output_type": "stream",
     "text": [
      "WARNING:absl:You are saving your model as an HDF5 file via `model.save()` or `keras.saving.save_model(model)`. This file format is considered legacy. We recommend using instead the native Keras format, e.g. `model.save('my_model.keras')` or `keras.saving.save_model(model, 'my_model.keras')`. \n"
     ]
    },
    {
     "name": "stdout",
     "output_type": "stream",
     "text": [
      "\u001b[1m31/31\u001b[0m \u001b[32m━━━━━━━━━━━━━━━━━━━━\u001b[0m\u001b[37m\u001b[0m \u001b[1m0s\u001b[0m 9ms/step - loss: 0.3166 - mae: 0.4350 - val_loss: 0.0511 - val_mae: 0.1154 - learning_rate: 0.0025\n",
      "Epoch 89/500\n",
      "\u001b[1m31/31\u001b[0m \u001b[32m━━━━━━━━━━━━━━━━━━━━\u001b[0m\u001b[37m\u001b[0m \u001b[1m0s\u001b[0m 6ms/step - loss: 0.4087 - mae: 0.5051 - val_loss: 0.0587 - val_mae: 0.1375 - learning_rate: 0.0025\n",
      "Epoch 90/500\n",
      "\u001b[1m31/31\u001b[0m \u001b[32m━━━━━━━━━━━━━━━━━━━━\u001b[0m\u001b[37m\u001b[0m \u001b[1m0s\u001b[0m 7ms/step - loss: 0.3484 - mae: 0.4594 - val_loss: 0.0532 - val_mae: 0.1236 - learning_rate: 0.0025\n",
      "Epoch 91/500\n",
      "\u001b[1m25/31\u001b[0m \u001b[32m━━━━━━━━━━━━━━━━\u001b[0m\u001b[37m━━━━\u001b[0m \u001b[1m0s\u001b[0m 4ms/step - loss: 0.3520 - mae: 0.4638"
     ]
    },
    {
     "name": "stderr",
     "output_type": "stream",
     "text": [
      "WARNING:absl:You are saving your model as an HDF5 file via `model.save()` or `keras.saving.save_model(model)`. This file format is considered legacy. We recommend using instead the native Keras format, e.g. `model.save('my_model.keras')` or `keras.saving.save_model(model, 'my_model.keras')`. \n"
     ]
    },
    {
     "name": "stdout",
     "output_type": "stream",
     "text": [
      "\u001b[1m31/31\u001b[0m \u001b[32m━━━━━━━━━━━━━━━━━━━━\u001b[0m\u001b[37m\u001b[0m \u001b[1m0s\u001b[0m 9ms/step - loss: 0.3573 - mae: 0.4666 - val_loss: 0.0489 - val_mae: 0.1150 - learning_rate: 0.0025\n",
      "Epoch 92/500\n",
      "\u001b[1m31/31\u001b[0m \u001b[32m━━━━━━━━━━━━━━━━━━━━\u001b[0m\u001b[37m\u001b[0m \u001b[1m0s\u001b[0m 8ms/step - loss: 0.3430 - mae: 0.4474 - val_loss: 0.0496 - val_mae: 0.1147 - learning_rate: 0.0025\n",
      "Epoch 93/500\n",
      "\u001b[1m16/31\u001b[0m \u001b[32m━━━━━━━━━━\u001b[0m\u001b[37m━━━━━━━━━━\u001b[0m \u001b[1m0s\u001b[0m 4ms/step - loss: 0.3502 - mae: 0.4554 "
     ]
    },
    {
     "name": "stderr",
     "output_type": "stream",
     "text": [
      "WARNING:absl:You are saving your model as an HDF5 file via `model.save()` or `keras.saving.save_model(model)`. This file format is considered legacy. We recommend using instead the native Keras format, e.g. `model.save('my_model.keras')` or `keras.saving.save_model(model, 'my_model.keras')`. \n"
     ]
    },
    {
     "name": "stdout",
     "output_type": "stream",
     "text": [
      "\u001b[1m31/31\u001b[0m \u001b[32m━━━━━━━━━━━━━━━━━━━━\u001b[0m\u001b[37m\u001b[0m \u001b[1m0s\u001b[0m 8ms/step - loss: 0.3531 - mae: 0.4578 - val_loss: 0.0488 - val_mae: 0.1138 - learning_rate: 0.0025\n",
      "Epoch 94/500\n",
      "\u001b[1m31/31\u001b[0m \u001b[32m━━━━━━━━━━━━━━━━━━━━\u001b[0m\u001b[37m\u001b[0m \u001b[1m0s\u001b[0m 7ms/step - loss: 0.3474 - mae: 0.4565 - val_loss: 0.0534 - val_mae: 0.1284 - learning_rate: 0.0025\n",
      "Epoch 95/500\n",
      "\u001b[1m31/31\u001b[0m \u001b[32m━━━━━━━━━━━━━━━━━━━━\u001b[0m\u001b[37m\u001b[0m \u001b[1m0s\u001b[0m 7ms/step - loss: 0.3431 - mae: 0.4574 - val_loss: 0.0561 - val_mae: 0.1383 - learning_rate: 0.0025\n",
      "Epoch 96/500\n",
      "\u001b[1m15/31\u001b[0m \u001b[32m━━━━━━━━━\u001b[0m\u001b[37m━━━━━━━━━━━\u001b[0m \u001b[1m0s\u001b[0m 4ms/step - loss: 0.3794 - mae: 0.4815 "
     ]
    },
    {
     "name": "stderr",
     "output_type": "stream",
     "text": [
      "WARNING:absl:You are saving your model as an HDF5 file via `model.save()` or `keras.saving.save_model(model)`. This file format is considered legacy. We recommend using instead the native Keras format, e.g. `model.save('my_model.keras')` or `keras.saving.save_model(model, 'my_model.keras')`. \n"
     ]
    },
    {
     "name": "stdout",
     "output_type": "stream",
     "text": [
      "\u001b[1m31/31\u001b[0m \u001b[32m━━━━━━━━━━━━━━━━━━━━\u001b[0m\u001b[37m\u001b[0m \u001b[1m0s\u001b[0m 7ms/step - loss: 0.3665 - mae: 0.4701 - val_loss: 0.0474 - val_mae: 0.1133 - learning_rate: 0.0025\n",
      "Epoch 97/500\n",
      "\u001b[1m25/31\u001b[0m \u001b[32m━━━━━━━━━━━━━━━━\u001b[0m\u001b[37m━━━━\u001b[0m \u001b[1m0s\u001b[0m 5ms/step - loss: 0.3560 - mae: 0.4528"
     ]
    },
    {
     "name": "stderr",
     "output_type": "stream",
     "text": [
      "WARNING:absl:You are saving your model as an HDF5 file via `model.save()` or `keras.saving.save_model(model)`. This file format is considered legacy. We recommend using instead the native Keras format, e.g. `model.save('my_model.keras')` or `keras.saving.save_model(model, 'my_model.keras')`. \n"
     ]
    },
    {
     "name": "stdout",
     "output_type": "stream",
     "text": [
      "\u001b[1m31/31\u001b[0m \u001b[32m━━━━━━━━━━━━━━━━━━━━\u001b[0m\u001b[37m\u001b[0m \u001b[1m0s\u001b[0m 11ms/step - loss: 0.3576 - mae: 0.4533 - val_loss: 0.0424 - val_mae: 0.0990 - learning_rate: 0.0025\n",
      "Epoch 98/500\n",
      "\u001b[1m31/31\u001b[0m \u001b[32m━━━━━━━━━━━━━━━━━━━━\u001b[0m\u001b[37m\u001b[0m \u001b[1m0s\u001b[0m 8ms/step - loss: 0.3392 - mae: 0.4454 - val_loss: 0.0547 - val_mae: 0.1359 - learning_rate: 0.0025\n",
      "Epoch 99/500\n",
      "\u001b[1m31/31\u001b[0m \u001b[32m━━━━━━━━━━━━━━━━━━━━\u001b[0m\u001b[37m\u001b[0m \u001b[1m0s\u001b[0m 8ms/step - loss: 0.3518 - mae: 0.4557 - val_loss: 0.0494 - val_mae: 0.1240 - learning_rate: 0.0025\n",
      "Epoch 100/500\n",
      "\u001b[1m31/31\u001b[0m \u001b[32m━━━━━━━━━━━━━━━━━━━━\u001b[0m\u001b[37m\u001b[0m \u001b[1m0s\u001b[0m 3ms/step - loss: 0.3360 - mae: 0.4530"
     ]
    },
    {
     "name": "stderr",
     "output_type": "stream",
     "text": [
      "WARNING:absl:You are saving your model as an HDF5 file via `model.save()` or `keras.saving.save_model(model)`. This file format is considered legacy. We recommend using instead the native Keras format, e.g. `model.save('my_model.keras')` or `keras.saving.save_model(model, 'my_model.keras')`. \n"
     ]
    },
    {
     "name": "stdout",
     "output_type": "stream",
     "text": [
      "\u001b[1m31/31\u001b[0m \u001b[32m━━━━━━━━━━━━━━━━━━━━\u001b[0m\u001b[37m\u001b[0m \u001b[1m0s\u001b[0m 8ms/step - loss: 0.3360 - mae: 0.4530 - val_loss: 0.0423 - val_mae: 0.1010 - learning_rate: 0.0025\n",
      "Epoch 101/500\n",
      "\u001b[1m31/31\u001b[0m \u001b[32m━━━━━━━━━━━━━━━━━━━━\u001b[0m\u001b[37m\u001b[0m \u001b[1m0s\u001b[0m 9ms/step - loss: 0.3080 - mae: 0.4274 - val_loss: 0.0498 - val_mae: 0.1223 - learning_rate: 0.0025\n",
      "Epoch 102/500\n",
      "\u001b[1m31/31\u001b[0m \u001b[32m━━━━━━━━━━━━━━━━━━━━\u001b[0m\u001b[37m\u001b[0m \u001b[1m0s\u001b[0m 6ms/step - loss: 0.3383 - mae: 0.4404 - val_loss: 0.0534 - val_mae: 0.1325 - learning_rate: 0.0025\n",
      "Epoch 103/500\n",
      "\u001b[1m31/31\u001b[0m \u001b[32m━━━━━━━━━━━━━━━━━━━━\u001b[0m\u001b[37m\u001b[0m \u001b[1m0s\u001b[0m 6ms/step - loss: 0.3146 - mae: 0.4228 - val_loss: 0.0493 - val_mae: 0.1212 - learning_rate: 0.0025\n",
      "Epoch 104/500\n",
      "\u001b[1m31/31\u001b[0m \u001b[32m━━━━━━━━━━━━━━━━━━━━\u001b[0m\u001b[37m\u001b[0m \u001b[1m0s\u001b[0m 7ms/step - loss: 0.3138 - mae: 0.4241 - val_loss: 0.0424 - val_mae: 0.1051 - learning_rate: 0.0025\n",
      "Epoch 105/500\n",
      "\u001b[1m31/31\u001b[0m \u001b[32m━━━━━━━━━━━━━━━━━━━━\u001b[0m\u001b[37m\u001b[0m \u001b[1m0s\u001b[0m 5ms/step - loss: 0.3274 - mae: 0.4329 - val_loss: 0.0508 - val_mae: 0.1279 - learning_rate: 0.0025\n",
      "Epoch 106/500\n",
      "\u001b[1m31/31\u001b[0m \u001b[32m━━━━━━━━━━━━━━━━━━━━\u001b[0m\u001b[37m\u001b[0m \u001b[1m0s\u001b[0m 6ms/step - loss: 0.3103 - mae: 0.4236 - val_loss: 0.0508 - val_mae: 0.1320 - learning_rate: 0.0025\n",
      "Epoch 107/500\n",
      "\u001b[1m31/31\u001b[0m \u001b[32m━━━━━━━━━━━━━━━━━━━━\u001b[0m\u001b[37m\u001b[0m \u001b[1m0s\u001b[0m 5ms/step - loss: 0.3491 - mae: 0.4498 - val_loss: 0.0441 - val_mae: 0.1120 - learning_rate: 0.0025\n",
      "Epoch 108/500\n",
      "\u001b[1m31/31\u001b[0m \u001b[32m━━━━━━━━━━━━━━━━━━━━\u001b[0m\u001b[37m\u001b[0m \u001b[1m0s\u001b[0m 5ms/step - loss: 0.3438 - mae: 0.4572 - val_loss: 0.0426 - val_mae: 0.1073 - learning_rate: 0.0012\n",
      "Epoch 109/500\n",
      "\u001b[1m16/31\u001b[0m \u001b[32m━━━━━━━━━━\u001b[0m\u001b[37m━━━━━━━━━━\u001b[0m \u001b[1m0s\u001b[0m 3ms/step - loss: 0.3162 - mae: 0.4403 "
     ]
    },
    {
     "name": "stderr",
     "output_type": "stream",
     "text": [
      "WARNING:absl:You are saving your model as an HDF5 file via `model.save()` or `keras.saving.save_model(model)`. This file format is considered legacy. We recommend using instead the native Keras format, e.g. `model.save('my_model.keras')` or `keras.saving.save_model(model, 'my_model.keras')`. \n"
     ]
    },
    {
     "name": "stdout",
     "output_type": "stream",
     "text": [
      "\u001b[1m31/31\u001b[0m \u001b[32m━━━━━━━━━━━━━━━━━━━━\u001b[0m\u001b[37m\u001b[0m \u001b[1m0s\u001b[0m 9ms/step - loss: 0.3152 - mae: 0.4376 - val_loss: 0.0407 - val_mae: 0.1038 - learning_rate: 0.0012\n",
      "Epoch 110/500\n",
      "\u001b[1m31/31\u001b[0m \u001b[32m━━━━━━━━━━━━━━━━━━━━\u001b[0m\u001b[37m\u001b[0m \u001b[1m0s\u001b[0m 7ms/step - loss: 0.3209 - mae: 0.4457 - val_loss: 0.0479 - val_mae: 0.1258 - learning_rate: 0.0012\n",
      "Epoch 111/500\n",
      "\u001b[1m31/31\u001b[0m \u001b[32m━━━━━━━━━━━━━━━━━━━━\u001b[0m\u001b[37m\u001b[0m \u001b[1m0s\u001b[0m 8ms/step - loss: 0.2957 - mae: 0.4189 - val_loss: 0.0451 - val_mae: 0.1183 - learning_rate: 0.0012\n",
      "Epoch 112/500\n",
      "\u001b[1m31/31\u001b[0m \u001b[32m━━━━━━━━━━━━━━━━━━━━\u001b[0m\u001b[37m\u001b[0m \u001b[1m0s\u001b[0m 6ms/step - loss: 0.3332 - mae: 0.4347 - val_loss: 0.0408 - val_mae: 0.1061 - learning_rate: 0.0012\n",
      "Epoch 113/500\n",
      "\u001b[1m31/31\u001b[0m \u001b[32m━━━━━━━━━━━━━━━━━━━━\u001b[0m\u001b[37m\u001b[0m \u001b[1m0s\u001b[0m 5ms/step - loss: 0.3198 - mae: 0.4365 - val_loss: 0.0467 - val_mae: 0.1233 - learning_rate: 0.0012\n",
      "Epoch 114/500\n",
      "\u001b[1m19/31\u001b[0m \u001b[32m━━━━━━━━━━━━\u001b[0m\u001b[37m━━━━━━━━\u001b[0m \u001b[1m0s\u001b[0m 3ms/step - loss: 0.3200 - mae: 0.4401 "
     ]
    },
    {
     "name": "stderr",
     "output_type": "stream",
     "text": [
      "WARNING:absl:You are saving your model as an HDF5 file via `model.save()` or `keras.saving.save_model(model)`. This file format is considered legacy. We recommend using instead the native Keras format, e.g. `model.save('my_model.keras')` or `keras.saving.save_model(model, 'my_model.keras')`. \n"
     ]
    },
    {
     "name": "stdout",
     "output_type": "stream",
     "text": [
      "\u001b[1m31/31\u001b[0m \u001b[32m━━━━━━━━━━━━━━━━━━━━\u001b[0m\u001b[37m\u001b[0m \u001b[1m0s\u001b[0m 6ms/step - loss: 0.3220 - mae: 0.4408 - val_loss: 0.0395 - val_mae: 0.1034 - learning_rate: 0.0012\n",
      "Epoch 115/500\n",
      "\u001b[1m31/31\u001b[0m \u001b[32m━━━━━━━━━━━━━━━━━━━━\u001b[0m\u001b[37m\u001b[0m \u001b[1m0s\u001b[0m 5ms/step - loss: 0.3366 - mae: 0.4523 - val_loss: 0.0448 - val_mae: 0.1216 - learning_rate: 0.0012\n",
      "Epoch 116/500\n",
      "\u001b[1m31/31\u001b[0m \u001b[32m━━━━━━━━━━━━━━━━━━━━\u001b[0m\u001b[37m\u001b[0m \u001b[1m0s\u001b[0m 7ms/step - loss: 0.2853 - mae: 0.4057 - val_loss: 0.0508 - val_mae: 0.1415 - learning_rate: 0.0012\n",
      "Epoch 117/500\n",
      "\u001b[1m31/31\u001b[0m \u001b[32m━━━━━━━━━━━━━━━━━━━━\u001b[0m\u001b[37m\u001b[0m \u001b[1m0s\u001b[0m 5ms/step - loss: 0.3296 - mae: 0.4375 - val_loss: 0.0396 - val_mae: 0.1091 - learning_rate: 0.0012\n",
      "Epoch 118/500\n",
      "\u001b[1m31/31\u001b[0m \u001b[32m━━━━━━━━━━━━━━━━━━━━\u001b[0m\u001b[37m\u001b[0m \u001b[1m0s\u001b[0m 5ms/step - loss: 0.3092 - mae: 0.4205 - val_loss: 0.0441 - val_mae: 0.1229 - learning_rate: 0.0012\n",
      "Epoch 119/500\n",
      "\u001b[1m31/31\u001b[0m \u001b[32m━━━━━━━━━━━━━━━━━━━━\u001b[0m\u001b[37m\u001b[0m \u001b[1m0s\u001b[0m 5ms/step - loss: 0.3227 - mae: 0.4384 - val_loss: 0.0479 - val_mae: 0.1336 - learning_rate: 0.0012\n",
      "Epoch 120/500\n",
      "\u001b[1m20/31\u001b[0m \u001b[32m━━━━━━━━━━━━\u001b[0m\u001b[37m━━━━━━━━\u001b[0m \u001b[1m0s\u001b[0m 3ms/step - loss: 0.3609 - mae: 0.4606 "
     ]
    },
    {
     "name": "stderr",
     "output_type": "stream",
     "text": [
      "WARNING:absl:You are saving your model as an HDF5 file via `model.save()` or `keras.saving.save_model(model)`. This file format is considered legacy. We recommend using instead the native Keras format, e.g. `model.save('my_model.keras')` or `keras.saving.save_model(model, 'my_model.keras')`. \n"
     ]
    },
    {
     "name": "stdout",
     "output_type": "stream",
     "text": [
      "\u001b[1m31/31\u001b[0m \u001b[32m━━━━━━━━━━━━━━━━━━━━\u001b[0m\u001b[37m\u001b[0m \u001b[1m0s\u001b[0m 7ms/step - loss: 0.3532 - mae: 0.4571 - val_loss: 0.0377 - val_mae: 0.1027 - learning_rate: 0.0012\n",
      "Epoch 121/500\n",
      "\u001b[1m31/31\u001b[0m \u001b[32m━━━━━━━━━━━━━━━━━━━━\u001b[0m\u001b[37m\u001b[0m \u001b[1m0s\u001b[0m 6ms/step - loss: 0.2923 - mae: 0.4150 - val_loss: 0.0463 - val_mae: 0.1271 - learning_rate: 0.0012\n",
      "Epoch 122/500\n",
      "\u001b[1m31/31\u001b[0m \u001b[32m━━━━━━━━━━━━━━━━━━━━\u001b[0m\u001b[37m\u001b[0m \u001b[1m0s\u001b[0m 7ms/step - loss: 0.3218 - mae: 0.4399 - val_loss: 0.0398 - val_mae: 0.1130 - learning_rate: 0.0012\n",
      "Epoch 123/500\n",
      "\u001b[1m31/31\u001b[0m \u001b[32m━━━━━━━━━━━━━━━━━━━━\u001b[0m\u001b[37m\u001b[0m \u001b[1m0s\u001b[0m 5ms/step - loss: 0.3031 - mae: 0.4271 - val_loss: 0.0515 - val_mae: 0.1408 - learning_rate: 0.0012\n",
      "Epoch 124/500\n",
      "\u001b[1m31/31\u001b[0m \u001b[32m━━━━━━━━━━━━━━━━━━━━\u001b[0m\u001b[37m\u001b[0m \u001b[1m0s\u001b[0m 5ms/step - loss: 0.3134 - mae: 0.4303 - val_loss: 0.0430 - val_mae: 0.1205 - learning_rate: 0.0012\n",
      "Epoch 125/500\n",
      "\u001b[1m31/31\u001b[0m \u001b[32m━━━━━━━━━━━━━━━━━━━━\u001b[0m\u001b[37m\u001b[0m \u001b[1m0s\u001b[0m 5ms/step - loss: 0.3238 - mae: 0.4419 - val_loss: 0.0428 - val_mae: 0.1210 - learning_rate: 0.0012\n",
      "Epoch 126/500\n",
      "\u001b[1m31/31\u001b[0m \u001b[32m━━━━━━━━━━━━━━━━━━━━\u001b[0m\u001b[37m\u001b[0m \u001b[1m0s\u001b[0m 5ms/step - loss: 0.3355 - mae: 0.4433 - val_loss: 0.0458 - val_mae: 0.1273 - learning_rate: 0.0012\n",
      "Epoch 127/500\n",
      "\u001b[1m31/31\u001b[0m \u001b[32m━━━━━━━━━━━━━━━━━━━━\u001b[0m\u001b[37m\u001b[0m \u001b[1m0s\u001b[0m 5ms/step - loss: 0.2900 - mae: 0.4110 - val_loss: 0.0512 - val_mae: 0.1421 - learning_rate: 0.0012\n",
      "Epoch 128/500\n",
      "\u001b[1m31/31\u001b[0m \u001b[32m━━━━━━━━━━━━━━━━━━━━\u001b[0m\u001b[37m\u001b[0m \u001b[1m0s\u001b[0m 7ms/step - loss: 0.3286 - mae: 0.4370 - val_loss: 0.0449 - val_mae: 0.1302 - learning_rate: 0.0012\n",
      "Epoch 129/500\n",
      "\u001b[1m31/31\u001b[0m \u001b[32m━━━━━━━━━━━━━━━━━━━━\u001b[0m\u001b[37m\u001b[0m \u001b[1m0s\u001b[0m 5ms/step - loss: 0.3258 - mae: 0.4489 - val_loss: 0.0391 - val_mae: 0.1110 - learning_rate: 0.0012\n",
      "Epoch 130/500\n",
      "\u001b[1m31/31\u001b[0m \u001b[32m━━━━━━━━━━━━━━━━━━━━\u001b[0m\u001b[37m\u001b[0m \u001b[1m0s\u001b[0m 5ms/step - loss: 0.3127 - mae: 0.4192 - val_loss: 0.0380 - val_mae: 0.1076 - learning_rate: 0.0012\n",
      "Epoch 131/500\n",
      "\u001b[1m31/31\u001b[0m \u001b[32m━━━━━━━━━━━━━━━━━━━━\u001b[0m\u001b[37m\u001b[0m \u001b[1m0s\u001b[0m 5ms/step - loss: 0.2992 - mae: 0.4258 - val_loss: 0.0403 - val_mae: 0.1167 - learning_rate: 6.2500e-04\n",
      "Epoch 132/500\n",
      "\u001b[1m31/31\u001b[0m \u001b[32m━━━━━━━━━━━━━━━━━━━━\u001b[0m\u001b[37m\u001b[0m \u001b[1m0s\u001b[0m 5ms/step - loss: 0.2783 - mae: 0.4105 - val_loss: 0.0456 - val_mae: 0.1289 - learning_rate: 6.2500e-04\n",
      "Epoch 133/500\n",
      "\u001b[1m31/31\u001b[0m \u001b[32m━━━━━━━━━━━━━━━━━━━━\u001b[0m\u001b[37m\u001b[0m \u001b[1m0s\u001b[0m 5ms/step - loss: 0.2601 - mae: 0.3958 - val_loss: 0.0405 - val_mae: 0.1161 - learning_rate: 6.2500e-04\n",
      "Epoch 134/500\n",
      "\u001b[1m31/31\u001b[0m \u001b[32m━━━━━━━━━━━━━━━━━━━━\u001b[0m\u001b[37m\u001b[0m \u001b[1m0s\u001b[0m 5ms/step - loss: 0.2954 - mae: 0.4193 - val_loss: 0.0431 - val_mae: 0.1249 - learning_rate: 6.2500e-04\n",
      "Epoch 135/500\n",
      "\u001b[1m31/31\u001b[0m \u001b[32m━━━━━━━━━━━━━━━━━━━━\u001b[0m\u001b[37m\u001b[0m \u001b[1m0s\u001b[0m 5ms/step - loss: 0.3222 - mae: 0.4295 - val_loss: 0.0415 - val_mae: 0.1228 - learning_rate: 6.2500e-04\n",
      "Epoch 136/500\n",
      "\u001b[1m31/31\u001b[0m \u001b[32m━━━━━━━━━━━━━━━━━━━━\u001b[0m\u001b[37m\u001b[0m \u001b[1m0s\u001b[0m 5ms/step - loss: 0.2995 - mae: 0.4235 - val_loss: 0.0421 - val_mae: 0.1207 - learning_rate: 6.2500e-04\n",
      "Epoch 137/500\n",
      "\u001b[1m31/31\u001b[0m \u001b[32m━━━━━━━━━━━━━━━━━━━━\u001b[0m\u001b[37m\u001b[0m \u001b[1m0s\u001b[0m 5ms/step - loss: 0.2949 - mae: 0.4226 - val_loss: 0.0500 - val_mae: 0.1386 - learning_rate: 6.2500e-04\n",
      "Epoch 138/500\n",
      "\u001b[1m31/31\u001b[0m \u001b[32m━━━━━━━━━━━━━━━━━━━━\u001b[0m\u001b[37m\u001b[0m \u001b[1m0s\u001b[0m 5ms/step - loss: 0.3091 - mae: 0.4318 - val_loss: 0.0431 - val_mae: 0.1279 - learning_rate: 6.2500e-04\n",
      "Epoch 139/500\n",
      "\u001b[1m18/31\u001b[0m \u001b[32m━━━━━━━━━━━\u001b[0m\u001b[37m━━━━━━━━━\u001b[0m \u001b[1m0s\u001b[0m 3ms/step - loss: 0.2455 - mae: 0.3931 "
     ]
    },
    {
     "name": "stderr",
     "output_type": "stream",
     "text": [
      "WARNING:absl:You are saving your model as an HDF5 file via `model.save()` or `keras.saving.save_model(model)`. This file format is considered legacy. We recommend using instead the native Keras format, e.g. `model.save('my_model.keras')` or `keras.saving.save_model(model, 'my_model.keras')`. \n"
     ]
    },
    {
     "name": "stdout",
     "output_type": "stream",
     "text": [
      "\u001b[1m31/31\u001b[0m \u001b[32m━━━━━━━━━━━━━━━━━━━━\u001b[0m\u001b[37m\u001b[0m \u001b[1m0s\u001b[0m 6ms/step - loss: 0.2616 - mae: 0.4039 - val_loss: 0.0344 - val_mae: 0.1009 - learning_rate: 6.2500e-04\n",
      "Epoch 140/500\n",
      "\u001b[1m31/31\u001b[0m \u001b[32m━━━━━━━━━━━━━━━━━━━━\u001b[0m\u001b[37m\u001b[0m \u001b[1m0s\u001b[0m 6ms/step - loss: 0.3255 - mae: 0.4529 - val_loss: 0.0499 - val_mae: 0.1477 - learning_rate: 6.2500e-04\n",
      "Epoch 141/500\n",
      "\u001b[1m31/31\u001b[0m \u001b[32m━━━━━━━━━━━━━━━━━━━━\u001b[0m\u001b[37m\u001b[0m \u001b[1m0s\u001b[0m 6ms/step - loss: 0.3048 - mae: 0.4252 - val_loss: 0.0366 - val_mae: 0.1086 - learning_rate: 6.2500e-04\n",
      "Epoch 142/500\n",
      "\u001b[1m31/31\u001b[0m \u001b[32m━━━━━━━━━━━━━━━━━━━━\u001b[0m\u001b[37m\u001b[0m \u001b[1m0s\u001b[0m 5ms/step - loss: 0.2984 - mae: 0.4261 - val_loss: 0.0354 - val_mae: 0.1040 - learning_rate: 6.2500e-04\n",
      "Epoch 143/500\n",
      "\u001b[1m31/31\u001b[0m \u001b[32m━━━━━━━━━━━━━━━━━━━━\u001b[0m\u001b[37m\u001b[0m \u001b[1m0s\u001b[0m 5ms/step - loss: 0.2911 - mae: 0.4134 - val_loss: 0.0380 - val_mae: 0.1142 - learning_rate: 6.2500e-04\n",
      "Epoch 144/500\n",
      "\u001b[1m31/31\u001b[0m \u001b[32m━━━━━━━━━━━━━━━━━━━━\u001b[0m\u001b[37m\u001b[0m \u001b[1m0s\u001b[0m 5ms/step - loss: 0.3190 - mae: 0.4420 - val_loss: 0.0349 - val_mae: 0.1068 - learning_rate: 6.2500e-04\n",
      "Epoch 145/500\n",
      "\u001b[1m31/31\u001b[0m \u001b[32m━━━━━━━━━━━━━━━━━━━━\u001b[0m\u001b[37m\u001b[0m \u001b[1m0s\u001b[0m 5ms/step - loss: 0.2947 - mae: 0.4213 - val_loss: 0.0392 - val_mae: 0.1215 - learning_rate: 6.2500e-04\n",
      "Epoch 146/500\n",
      "\u001b[1m31/31\u001b[0m \u001b[32m━━━━━━━━━━━━━━━━━━━━\u001b[0m\u001b[37m\u001b[0m \u001b[1m0s\u001b[0m 5ms/step - loss: 0.3021 - mae: 0.4278 - val_loss: 0.0383 - val_mae: 0.1164 - learning_rate: 6.2500e-04\n",
      "Epoch 147/500\n",
      "\u001b[1m31/31\u001b[0m \u001b[32m━━━━━━━━━━━━━━━━━━━━\u001b[0m\u001b[37m\u001b[0m \u001b[1m0s\u001b[0m 5ms/step - loss: 0.2822 - mae: 0.4169 - val_loss: 0.0387 - val_mae: 0.1184 - learning_rate: 6.2500e-04\n",
      "Epoch 148/500\n",
      "\u001b[1m31/31\u001b[0m \u001b[32m━━━━━━━━━━━━━━━━━━━━\u001b[0m\u001b[37m\u001b[0m \u001b[1m0s\u001b[0m 5ms/step - loss: 0.3104 - mae: 0.4391 - val_loss: 0.0412 - val_mae: 0.1260 - learning_rate: 6.2500e-04\n",
      "Epoch 149/500\n",
      "\u001b[1m31/31\u001b[0m \u001b[32m━━━━━━━━━━━━━━━━━━━━\u001b[0m\u001b[37m\u001b[0m \u001b[1m0s\u001b[0m 6ms/step - loss: 0.2744 - mae: 0.4114 - val_loss: 0.0440 - val_mae: 0.1343 - learning_rate: 6.2500e-04\n",
      "Epoch 150/500\n",
      "\u001b[1m31/31\u001b[0m \u001b[32m━━━━━━━━━━━━━━━━━━━━\u001b[0m\u001b[37m\u001b[0m \u001b[1m0s\u001b[0m 5ms/step - loss: 0.3083 - mae: 0.4325 - val_loss: 0.0366 - val_mae: 0.1125 - learning_rate: 3.1250e-04\n",
      "Epoch 151/500\n",
      "\u001b[1m18/31\u001b[0m \u001b[32m━━━━━━━━━━━\u001b[0m\u001b[37m━━━━━━━━━\u001b[0m \u001b[1m0s\u001b[0m 3ms/step - loss: 0.2938 - mae: 0.4217 "
     ]
    },
    {
     "name": "stderr",
     "output_type": "stream",
     "text": [
      "WARNING:absl:You are saving your model as an HDF5 file via `model.save()` or `keras.saving.save_model(model)`. This file format is considered legacy. We recommend using instead the native Keras format, e.g. `model.save('my_model.keras')` or `keras.saving.save_model(model, 'my_model.keras')`. \n"
     ]
    },
    {
     "name": "stdout",
     "output_type": "stream",
     "text": [
      "\u001b[1m31/31\u001b[0m \u001b[32m━━━━━━━━━━━━━━━━━━━━\u001b[0m\u001b[37m\u001b[0m \u001b[1m0s\u001b[0m 7ms/step - loss: 0.2980 - mae: 0.4229 - val_loss: 0.0341 - val_mae: 0.1046 - learning_rate: 3.1250e-04\n",
      "Epoch 152/500\n",
      "\u001b[1m31/31\u001b[0m \u001b[32m━━━━━━━━━━━━━━━━━━━━\u001b[0m\u001b[37m\u001b[0m \u001b[1m0s\u001b[0m 5ms/step - loss: 0.3133 - mae: 0.4330 - val_loss: 0.0375 - val_mae: 0.1167 - learning_rate: 3.1250e-04\n",
      "Epoch 153/500\n",
      "\u001b[1m31/31\u001b[0m \u001b[32m━━━━━━━━━━━━━━━━━━━━\u001b[0m\u001b[37m\u001b[0m \u001b[1m0s\u001b[0m 5ms/step - loss: 0.2646 - mae: 0.3945 - val_loss: 0.0374 - val_mae: 0.1180 - learning_rate: 3.1250e-04\n",
      "Epoch 154/500\n",
      "\u001b[1m31/31\u001b[0m \u001b[32m━━━━━━━━━━━━━━━━━━━━\u001b[0m\u001b[37m\u001b[0m \u001b[1m0s\u001b[0m 5ms/step - loss: 0.2952 - mae: 0.4100 - val_loss: 0.0350 - val_mae: 0.1101 - learning_rate: 3.1250e-04\n",
      "Epoch 155/500\n",
      "\u001b[1m17/31\u001b[0m \u001b[32m━━━━━━━━━━\u001b[0m\u001b[37m━━━━━━━━━━\u001b[0m \u001b[1m0s\u001b[0m 3ms/step - loss: 0.2891 - mae: 0.4152 "
     ]
    },
    {
     "name": "stderr",
     "output_type": "stream",
     "text": [
      "WARNING:absl:You are saving your model as an HDF5 file via `model.save()` or `keras.saving.save_model(model)`. This file format is considered legacy. We recommend using instead the native Keras format, e.g. `model.save('my_model.keras')` or `keras.saving.save_model(model, 'my_model.keras')`. \n"
     ]
    },
    {
     "name": "stdout",
     "output_type": "stream",
     "text": [
      "\u001b[1m31/31\u001b[0m \u001b[32m━━━━━━━━━━━━━━━━━━━━\u001b[0m\u001b[37m\u001b[0m \u001b[1m0s\u001b[0m 7ms/step - loss: 0.2947 - mae: 0.4184 - val_loss: 0.0331 - val_mae: 0.1016 - learning_rate: 3.1250e-04\n",
      "Epoch 156/500\n",
      "\u001b[1m31/31\u001b[0m \u001b[32m━━━━━━━━━━━━━━━━━━━━\u001b[0m\u001b[37m\u001b[0m \u001b[1m0s\u001b[0m 6ms/step - loss: 0.3131 - mae: 0.4372 - val_loss: 0.0379 - val_mae: 0.1185 - learning_rate: 3.1250e-04\n",
      "Epoch 157/500\n",
      "\u001b[1m31/31\u001b[0m \u001b[32m━━━━━━━━━━━━━━━━━━━━\u001b[0m\u001b[37m\u001b[0m \u001b[1m0s\u001b[0m 6ms/step - loss: 0.3089 - mae: 0.4303 - val_loss: 0.0353 - val_mae: 0.1088 - learning_rate: 3.1250e-04\n",
      "Epoch 158/500\n",
      "\u001b[1m31/31\u001b[0m \u001b[32m━━━━━━━━━━━━━━━━━━━━\u001b[0m\u001b[37m\u001b[0m \u001b[1m0s\u001b[0m 5ms/step - loss: 0.2860 - mae: 0.4126 - val_loss: 0.0337 - val_mae: 0.1045 - learning_rate: 3.1250e-04\n",
      "Epoch 159/500\n",
      "\u001b[1m31/31\u001b[0m \u001b[32m━━━━━━━━━━━━━━━━━━━━\u001b[0m\u001b[37m\u001b[0m \u001b[1m0s\u001b[0m 5ms/step - loss: 0.2509 - mae: 0.3802 - val_loss: 0.0346 - val_mae: 0.1074 - learning_rate: 3.1250e-04\n",
      "Epoch 160/500\n",
      "\u001b[1m31/31\u001b[0m \u001b[32m━━━━━━━━━━━━━━━━━━━━\u001b[0m\u001b[37m\u001b[0m \u001b[1m0s\u001b[0m 5ms/step - loss: 0.2953 - mae: 0.4298 - val_loss: 0.0405 - val_mae: 0.1235 - learning_rate: 3.1250e-04\n",
      "Epoch 161/500\n",
      "\u001b[1m31/31\u001b[0m \u001b[32m━━━━━━━━━━━━━━━━━━━━\u001b[0m\u001b[37m\u001b[0m \u001b[1m0s\u001b[0m 5ms/step - loss: 0.2919 - mae: 0.4128 - val_loss: 0.0378 - val_mae: 0.1180 - learning_rate: 3.1250e-04\n",
      "Epoch 162/500\n",
      "\u001b[1m31/31\u001b[0m \u001b[32m━━━━━━━━━━━━━━━━━━━━\u001b[0m\u001b[37m\u001b[0m \u001b[1m0s\u001b[0m 5ms/step - loss: 0.2887 - mae: 0.4192 - val_loss: 0.0384 - val_mae: 0.1197 - learning_rate: 3.1250e-04\n",
      "Epoch 163/500\n",
      "\u001b[1m31/31\u001b[0m \u001b[32m━━━━━━━━━━━━━━━━━━━━\u001b[0m\u001b[37m\u001b[0m \u001b[1m0s\u001b[0m 5ms/step - loss: 0.2840 - mae: 0.4175 - val_loss: 0.0398 - val_mae: 0.1225 - learning_rate: 3.1250e-04\n",
      "Epoch 164/500\n",
      "\u001b[1m31/31\u001b[0m \u001b[32m━━━━━━━━━━━━━━━━━━━━\u001b[0m\u001b[37m\u001b[0m \u001b[1m0s\u001b[0m 5ms/step - loss: 0.2765 - mae: 0.4136 - val_loss: 0.0333 - val_mae: 0.1031 - learning_rate: 3.1250e-04\n",
      "Epoch 165/500\n",
      "\u001b[1m31/31\u001b[0m \u001b[32m━━━━━━━━━━━━━━━━━━━━\u001b[0m\u001b[37m\u001b[0m \u001b[1m0s\u001b[0m 6ms/step - loss: 0.3256 - mae: 0.4524 - val_loss: 0.0362 - val_mae: 0.1139 - learning_rate: 3.1250e-04\n",
      "Epoch 166/500\n",
      "\u001b[1m31/31\u001b[0m \u001b[32m━━━━━━━━━━━━━━━━━━━━\u001b[0m\u001b[37m\u001b[0m \u001b[1m0s\u001b[0m 5ms/step - loss: 0.2483 - mae: 0.3882 - val_loss: 0.0333 - val_mae: 0.1049 - learning_rate: 1.5625e-04\n",
      "Epoch 167/500\n",
      "\u001b[1m19/31\u001b[0m \u001b[32m━━━━━━━━━━━━\u001b[0m\u001b[37m━━━━━━━━\u001b[0m \u001b[1m0s\u001b[0m 3ms/step - loss: 0.2619 - mae: 0.3907 "
     ]
    },
    {
     "name": "stderr",
     "output_type": "stream",
     "text": [
      "WARNING:absl:You are saving your model as an HDF5 file via `model.save()` or `keras.saving.save_model(model)`. This file format is considered legacy. We recommend using instead the native Keras format, e.g. `model.save('my_model.keras')` or `keras.saving.save_model(model, 'my_model.keras')`. \n"
     ]
    },
    {
     "name": "stdout",
     "output_type": "stream",
     "text": [
      "\u001b[1m31/31\u001b[0m \u001b[32m━━━━━━━━━━━━━━━━━━━━\u001b[0m\u001b[37m\u001b[0m \u001b[1m0s\u001b[0m 6ms/step - loss: 0.2733 - mae: 0.3999 - val_loss: 0.0328 - val_mae: 0.1041 - learning_rate: 1.5625e-04\n",
      "Epoch 168/500\n",
      "\u001b[1m31/31\u001b[0m \u001b[32m━━━━━━━━━━━━━━━━━━━━\u001b[0m\u001b[37m\u001b[0m \u001b[1m0s\u001b[0m 6ms/step - loss: 0.2924 - mae: 0.4194 - val_loss: 0.0336 - val_mae: 0.1066 - learning_rate: 1.5625e-04\n",
      "Epoch 169/500\n",
      "\u001b[1m31/31\u001b[0m \u001b[32m━━━━━━━━━━━━━━━━━━━━\u001b[0m\u001b[37m\u001b[0m \u001b[1m0s\u001b[0m 5ms/step - loss: 0.2752 - mae: 0.4128 - val_loss: 0.0349 - val_mae: 0.1112 - learning_rate: 1.5625e-04\n",
      "Epoch 170/500\n",
      "\u001b[1m31/31\u001b[0m \u001b[32m━━━━━━━━━━━━━━━━━━━━\u001b[0m\u001b[37m\u001b[0m \u001b[1m0s\u001b[0m 6ms/step - loss: 0.2707 - mae: 0.4036 - val_loss: 0.0337 - val_mae: 0.1077 - learning_rate: 1.5625e-04\n",
      "Epoch 171/500\n",
      "\u001b[1m31/31\u001b[0m \u001b[32m━━━━━━━━━━━━━━━━━━━━\u001b[0m\u001b[37m\u001b[0m \u001b[1m0s\u001b[0m 6ms/step - loss: 0.2801 - mae: 0.4148 - val_loss: 0.0383 - val_mae: 0.1227 - learning_rate: 1.5625e-04\n",
      "Epoch 172/500\n",
      "\u001b[1m31/31\u001b[0m \u001b[32m━━━━━━━━━━━━━━━━━━━━\u001b[0m\u001b[37m\u001b[0m \u001b[1m0s\u001b[0m 5ms/step - loss: 0.2723 - mae: 0.4068 - val_loss: 0.0357 - val_mae: 0.1152 - learning_rate: 1.5625e-04\n",
      "Epoch 173/500\n",
      "\u001b[1m18/31\u001b[0m \u001b[32m━━━━━━━━━━━\u001b[0m\u001b[37m━━━━━━━━━\u001b[0m \u001b[1m0s\u001b[0m 3ms/step - loss: 0.2848 - mae: 0.4203 "
     ]
    },
    {
     "name": "stderr",
     "output_type": "stream",
     "text": [
      "WARNING:absl:You are saving your model as an HDF5 file via `model.save()` or `keras.saving.save_model(model)`. This file format is considered legacy. We recommend using instead the native Keras format, e.g. `model.save('my_model.keras')` or `keras.saving.save_model(model, 'my_model.keras')`. \n"
     ]
    },
    {
     "name": "stdout",
     "output_type": "stream",
     "text": [
      "\u001b[1m31/31\u001b[0m \u001b[32m━━━━━━━━━━━━━━━━━━━━\u001b[0m\u001b[37m\u001b[0m \u001b[1m0s\u001b[0m 7ms/step - loss: 0.2938 - mae: 0.4265 - val_loss: 0.0314 - val_mae: 0.1004 - learning_rate: 1.5625e-04\n",
      "Epoch 174/500\n",
      "\u001b[1m31/31\u001b[0m \u001b[32m━━━━━━━━━━━━━━━━━━━━\u001b[0m\u001b[37m\u001b[0m \u001b[1m0s\u001b[0m 7ms/step - loss: 0.2840 - mae: 0.4091 - val_loss: 0.0346 - val_mae: 0.1112 - learning_rate: 1.5625e-04\n",
      "Epoch 175/500\n",
      "\u001b[1m31/31\u001b[0m \u001b[32m━━━━━━━━━━━━━━━━━━━━\u001b[0m\u001b[37m\u001b[0m \u001b[1m0s\u001b[0m 7ms/step - loss: 0.2944 - mae: 0.4139 - val_loss: 0.0360 - val_mae: 0.1158 - learning_rate: 1.5625e-04\n",
      "Epoch 176/500\n",
      "\u001b[1m31/31\u001b[0m \u001b[32m━━━━━━━━━━━━━━━━━━━━\u001b[0m\u001b[37m\u001b[0m \u001b[1m0s\u001b[0m 5ms/step - loss: 0.2508 - mae: 0.3865 - val_loss: 0.0331 - val_mae: 0.1071 - learning_rate: 1.5625e-04\n",
      "Epoch 177/500\n",
      "\u001b[1m31/31\u001b[0m \u001b[32m━━━━━━━━━━━━━━━━━━━━\u001b[0m\u001b[37m\u001b[0m \u001b[1m0s\u001b[0m 5ms/step - loss: 0.2874 - mae: 0.4115 - val_loss: 0.0344 - val_mae: 0.1121 - learning_rate: 1.5625e-04\n",
      "Epoch 178/500\n",
      "\u001b[1m31/31\u001b[0m \u001b[32m━━━━━━━━━━━━━━━━━━━━\u001b[0m\u001b[37m\u001b[0m \u001b[1m0s\u001b[0m 5ms/step - loss: 0.2974 - mae: 0.4244 - val_loss: 0.0334 - val_mae: 0.1092 - learning_rate: 1.5625e-04\n",
      "Epoch 179/500\n",
      "\u001b[1m31/31\u001b[0m \u001b[32m━━━━━━━━━━━━━━━━━━━━\u001b[0m\u001b[37m\u001b[0m \u001b[1m0s\u001b[0m 5ms/step - loss: 0.2619 - mae: 0.3992 - val_loss: 0.0371 - val_mae: 0.1213 - learning_rate: 1.5625e-04\n",
      "Epoch 180/500\n",
      "\u001b[1m31/31\u001b[0m \u001b[32m━━━━━━━━━━━━━━━━━━━━\u001b[0m\u001b[37m\u001b[0m \u001b[1m0s\u001b[0m 5ms/step - loss: 0.2813 - mae: 0.4194 - val_loss: 0.0352 - val_mae: 0.1152 - learning_rate: 1.5625e-04\n",
      "Epoch 181/500\n",
      "\u001b[1m31/31\u001b[0m \u001b[32m━━━━━━━━━━━━━━━━━━━━\u001b[0m\u001b[37m\u001b[0m \u001b[1m0s\u001b[0m 5ms/step - loss: 0.3114 - mae: 0.4372 - val_loss: 0.0363 - val_mae: 0.1179 - learning_rate: 1.5625e-04\n",
      "Epoch 182/500\n",
      "\u001b[1m31/31\u001b[0m \u001b[32m━━━━━━━━━━━━━━━━━━━━\u001b[0m\u001b[37m\u001b[0m \u001b[1m0s\u001b[0m 5ms/step - loss: 0.2946 - mae: 0.4212 - val_loss: 0.0345 - val_mae: 0.1124 - learning_rate: 1.5625e-04\n",
      "Epoch 183/500\n",
      "\u001b[1m31/31\u001b[0m \u001b[32m━━━━━━━━━━━━━━━━━━━━\u001b[0m\u001b[37m\u001b[0m \u001b[1m0s\u001b[0m 5ms/step - loss: 0.2890 - mae: 0.4239 - val_loss: 0.0332 - val_mae: 0.1079 - learning_rate: 1.5625e-04\n",
      "Epoch 184/500\n",
      "\u001b[1m31/31\u001b[0m \u001b[32m━━━━━━━━━━━━━━━━━━━━\u001b[0m\u001b[37m\u001b[0m \u001b[1m0s\u001b[0m 6ms/step - loss: 0.2824 - mae: 0.4122 - val_loss: 0.0326 - val_mae: 0.1061 - learning_rate: 7.8125e-05\n",
      "Epoch 185/500\n",
      "\u001b[1m31/31\u001b[0m \u001b[32m━━━━━━━━━━━━━━━━━━━━\u001b[0m\u001b[37m\u001b[0m \u001b[1m0s\u001b[0m 7ms/step - loss: 0.2956 - mae: 0.4237 - val_loss: 0.0331 - val_mae: 0.1078 - learning_rate: 7.8125e-05\n",
      "Epoch 186/500\n",
      "\u001b[1m31/31\u001b[0m \u001b[32m━━━━━━━━━━━━━━━━━━━━\u001b[0m\u001b[37m\u001b[0m \u001b[1m0s\u001b[0m 5ms/step - loss: 0.2800 - mae: 0.4173 - val_loss: 0.0326 - val_mae: 0.1063 - learning_rate: 7.8125e-05\n",
      "Epoch 187/500\n",
      "\u001b[1m31/31\u001b[0m \u001b[32m━━━━━━━━━━━━━━━━━━━━\u001b[0m\u001b[37m\u001b[0m \u001b[1m0s\u001b[0m 6ms/step - loss: 0.3023 - mae: 0.4262 - val_loss: 0.0321 - val_mae: 0.1048 - learning_rate: 7.8125e-05\n",
      "Epoch 188/500\n",
      "\u001b[1m31/31\u001b[0m \u001b[32m━━━━━━━━━━━━━━━━━━━━\u001b[0m\u001b[37m\u001b[0m \u001b[1m0s\u001b[0m 5ms/step - loss: 0.2762 - mae: 0.3962 - val_loss: 0.0322 - val_mae: 0.1054 - learning_rate: 7.8125e-05\n",
      "Epoch 189/500\n",
      "\u001b[1m31/31\u001b[0m \u001b[32m━━━━━━━━━━━━━━━━━━━━\u001b[0m\u001b[37m\u001b[0m \u001b[1m0s\u001b[0m 5ms/step - loss: 0.2957 - mae: 0.4288 - val_loss: 0.0317 - val_mae: 0.1040 - learning_rate: 7.8125e-05\n",
      "Epoch 190/500\n",
      "\u001b[1m31/31\u001b[0m \u001b[32m━━━━━━━━━━━━━━━━━━━━\u001b[0m\u001b[37m\u001b[0m \u001b[1m0s\u001b[0m 5ms/step - loss: 0.2780 - mae: 0.4082 - val_loss: 0.0315 - val_mae: 0.1033 - learning_rate: 7.8125e-05\n",
      "Epoch 191/500\n",
      "\u001b[1m17/31\u001b[0m \u001b[32m━━━━━━━━━━\u001b[0m\u001b[37m━━━━━━━━━━\u001b[0m \u001b[1m0s\u001b[0m 3ms/step - loss: 0.2615 - mae: 0.3992 "
     ]
    },
    {
     "name": "stderr",
     "output_type": "stream",
     "text": [
      "WARNING:absl:You are saving your model as an HDF5 file via `model.save()` or `keras.saving.save_model(model)`. This file format is considered legacy. We recommend using instead the native Keras format, e.g. `model.save('my_model.keras')` or `keras.saving.save_model(model, 'my_model.keras')`. \n"
     ]
    },
    {
     "name": "stdout",
     "output_type": "stream",
     "text": [
      "\u001b[1m31/31\u001b[0m \u001b[32m━━━━━━━━━━━━━━━━━━━━\u001b[0m\u001b[37m\u001b[0m \u001b[1m0s\u001b[0m 7ms/step - loss: 0.2732 - mae: 0.4072 - val_loss: 0.0305 - val_mae: 0.0999 - learning_rate: 7.8125e-05\n",
      "Epoch 192/500\n",
      "\u001b[1m31/31\u001b[0m \u001b[32m━━━━━━━━━━━━━━━━━━━━\u001b[0m\u001b[37m\u001b[0m \u001b[1m0s\u001b[0m 6ms/step - loss: 0.3070 - mae: 0.4336 - val_loss: 0.0317 - val_mae: 0.1046 - learning_rate: 7.8125e-05\n",
      "Epoch 193/500\n",
      "\u001b[1m31/31\u001b[0m \u001b[32m━━━━━━━━━━━━━━━━━━━━\u001b[0m\u001b[37m\u001b[0m \u001b[1m0s\u001b[0m 6ms/step - loss: 0.2750 - mae: 0.4171 - val_loss: 0.0316 - val_mae: 0.1043 - learning_rate: 7.8125e-05\n",
      "Epoch 194/500\n",
      "\u001b[1m31/31\u001b[0m \u001b[32m━━━━━━━━━━━━━━━━━━━━\u001b[0m\u001b[37m\u001b[0m \u001b[1m0s\u001b[0m 5ms/step - loss: 0.2773 - mae: 0.4147 - val_loss: 0.0321 - val_mae: 0.1062 - learning_rate: 7.8125e-05\n",
      "Epoch 195/500\n",
      "\u001b[1m31/31\u001b[0m \u001b[32m━━━━━━━━━━━━━━━━━━━━\u001b[0m\u001b[37m\u001b[0m \u001b[1m0s\u001b[0m 6ms/step - loss: 0.2977 - mae: 0.4263 - val_loss: 0.0340 - val_mae: 0.1121 - learning_rate: 7.8125e-05\n",
      "Epoch 196/500\n",
      "\u001b[1m31/31\u001b[0m \u001b[32m━━━━━━━━━━━━━━━━━━━━\u001b[0m\u001b[37m\u001b[0m \u001b[1m0s\u001b[0m 5ms/step - loss: 0.3081 - mae: 0.4280 - val_loss: 0.0321 - val_mae: 0.1063 - learning_rate: 7.8125e-05\n",
      "Epoch 197/500\n",
      "\u001b[1m31/31\u001b[0m \u001b[32m━━━━━━━━━━━━━━━━━━━━\u001b[0m\u001b[37m\u001b[0m \u001b[1m0s\u001b[0m 5ms/step - loss: 0.2550 - mae: 0.3965 - val_loss: 0.0317 - val_mae: 0.1048 - learning_rate: 7.8125e-05\n",
      "Epoch 198/500\n",
      "\u001b[1m31/31\u001b[0m \u001b[32m━━━━━━━━━━━━━━━━━━━━\u001b[0m\u001b[37m\u001b[0m \u001b[1m0s\u001b[0m 5ms/step - loss: 0.2880 - mae: 0.4181 - val_loss: 0.0326 - val_mae: 0.1079 - learning_rate: 7.8125e-05\n",
      "Epoch 199/500\n",
      "\u001b[1m31/31\u001b[0m \u001b[32m━━━━━━━━━━━━━━━━━━━━\u001b[0m\u001b[37m\u001b[0m \u001b[1m0s\u001b[0m 5ms/step - loss: 0.2729 - mae: 0.4031 - val_loss: 0.0327 - val_mae: 0.1087 - learning_rate: 7.8125e-05\n",
      "Epoch 200/500\n",
      "\u001b[1m31/31\u001b[0m \u001b[32m━━━━━━━━━━━━━━━━━━━━\u001b[0m\u001b[37m\u001b[0m \u001b[1m0s\u001b[0m 6ms/step - loss: 0.2575 - mae: 0.3870 - val_loss: 0.0339 - val_mae: 0.1122 - learning_rate: 7.8125e-05\n",
      "Epoch 201/500\n",
      "\u001b[1m31/31\u001b[0m \u001b[32m━━━━━━━━━━━━━━━━━━━━\u001b[0m\u001b[37m\u001b[0m \u001b[1m0s\u001b[0m 5ms/step - loss: 0.2777 - mae: 0.4128 - val_loss: 0.0337 - val_mae: 0.1115 - learning_rate: 7.8125e-05\n",
      "Epoch 202/500\n",
      "\u001b[1m31/31\u001b[0m \u001b[32m━━━━━━━━━━━━━━━━━━━━\u001b[0m\u001b[37m\u001b[0m \u001b[1m0s\u001b[0m 5ms/step - loss: 0.2935 - mae: 0.4359 - val_loss: 0.0331 - val_mae: 0.1098 - learning_rate: 3.9062e-05\n",
      "Epoch 203/500\n",
      "\u001b[1m31/31\u001b[0m \u001b[32m━━━━━━━━━━━━━━━━━━━━\u001b[0m\u001b[37m\u001b[0m \u001b[1m0s\u001b[0m 5ms/step - loss: 0.2992 - mae: 0.4276 - val_loss: 0.0330 - val_mae: 0.1093 - learning_rate: 3.9062e-05\n",
      "Epoch 204/500\n",
      "\u001b[1m31/31\u001b[0m \u001b[32m━━━━━━━━━━━━━━━━━━━━\u001b[0m\u001b[37m\u001b[0m \u001b[1m0s\u001b[0m 7ms/step - loss: 0.2608 - mae: 0.4036 - val_loss: 0.0340 - val_mae: 0.1125 - learning_rate: 3.9062e-05\n",
      "Epoch 205/500\n",
      "\u001b[1m31/31\u001b[0m \u001b[32m━━━━━━━━━━━━━━━━━━━━\u001b[0m\u001b[37m\u001b[0m \u001b[1m0s\u001b[0m 5ms/step - loss: 0.2712 - mae: 0.4064 - val_loss: 0.0340 - val_mae: 0.1124 - learning_rate: 3.9062e-05\n",
      "Epoch 206/500\n",
      "\u001b[1m31/31\u001b[0m \u001b[32m━━━━━━━━━━━━━━━━━━━━\u001b[0m\u001b[37m\u001b[0m \u001b[1m0s\u001b[0m 5ms/step - loss: 0.2950 - mae: 0.4253 - val_loss: 0.0335 - val_mae: 0.1109 - learning_rate: 3.9062e-05\n",
      "Epoch 207/500\n",
      "\u001b[1m31/31\u001b[0m \u001b[32m━━━━━━━━━━━━━━━━━━━━\u001b[0m\u001b[37m\u001b[0m \u001b[1m0s\u001b[0m 5ms/step - loss: 0.2874 - mae: 0.4205 - val_loss: 0.0332 - val_mae: 0.1096 - learning_rate: 3.9062e-05\n",
      "Epoch 208/500\n",
      "\u001b[1m31/31\u001b[0m \u001b[32m━━━━━━━━━━━━━━━━━━━━\u001b[0m\u001b[37m\u001b[0m \u001b[1m0s\u001b[0m 5ms/step - loss: 0.2930 - mae: 0.4206 - val_loss: 0.0323 - val_mae: 0.1069 - learning_rate: 3.9062e-05\n",
      "Epoch 209/500\n",
      "\u001b[1m31/31\u001b[0m \u001b[32m━━━━━━━━━━━━━━━━━━━━\u001b[0m\u001b[37m\u001b[0m \u001b[1m0s\u001b[0m 5ms/step - loss: 0.3200 - mae: 0.4365 - val_loss: 0.0320 - val_mae: 0.1062 - learning_rate: 3.9062e-05\n",
      "Epoch 210/500\n",
      "\u001b[1m31/31\u001b[0m \u001b[32m━━━━━━━━━━━━━━━━━━━━\u001b[0m\u001b[37m\u001b[0m \u001b[1m0s\u001b[0m 5ms/step - loss: 0.2898 - mae: 0.4254 - val_loss: 0.0323 - val_mae: 0.1072 - learning_rate: 3.9062e-05\n",
      "Epoch 211/500\n",
      "\u001b[1m31/31\u001b[0m \u001b[32m━━━━━━━━━━━━━━━━━━━━\u001b[0m\u001b[37m\u001b[0m \u001b[1m0s\u001b[0m 5ms/step - loss: 0.3316 - mae: 0.4456 - val_loss: 0.0318 - val_mae: 0.1057 - learning_rate: 3.9062e-05\n",
      "Epoch 212/500\n",
      "\u001b[1m31/31\u001b[0m \u001b[32m━━━━━━━━━━━━━━━━━━━━\u001b[0m\u001b[37m\u001b[0m \u001b[1m0s\u001b[0m 5ms/step - loss: 0.2788 - mae: 0.4080 - val_loss: 0.0320 - val_mae: 0.1064 - learning_rate: 1.9531e-05\n",
      "Epoch 213/500\n",
      "\u001b[1m31/31\u001b[0m \u001b[32m━━━━━━━━━━━━━━━━━━━━\u001b[0m\u001b[37m\u001b[0m \u001b[1m0s\u001b[0m 5ms/step - loss: 0.2648 - mae: 0.3959 - val_loss: 0.0318 - val_mae: 0.1059 - learning_rate: 1.9531e-05\n",
      "Epoch 214/500\n",
      "\u001b[1m31/31\u001b[0m \u001b[32m━━━━━━━━━━━━━━━━━━━━\u001b[0m\u001b[37m\u001b[0m \u001b[1m0s\u001b[0m 5ms/step - loss: 0.2730 - mae: 0.4057 - val_loss: 0.0319 - val_mae: 0.1061 - learning_rate: 1.9531e-05\n",
      "Epoch 215/500\n",
      "\u001b[1m31/31\u001b[0m \u001b[32m━━━━━━━━━━━━━━━━━━━━\u001b[0m\u001b[37m\u001b[0m \u001b[1m0s\u001b[0m 5ms/step - loss: 0.2986 - mae: 0.4148 - val_loss: 0.0320 - val_mae: 0.1066 - learning_rate: 1.9531e-05\n",
      "Epoch 216/500\n",
      "\u001b[1m31/31\u001b[0m \u001b[32m━━━━━━━━━━━━━━━━━━━━\u001b[0m\u001b[37m\u001b[0m \u001b[1m0s\u001b[0m 5ms/step - loss: 0.2793 - mae: 0.4104 - val_loss: 0.0319 - val_mae: 0.1064 - learning_rate: 1.9531e-05\n",
      "Epoch 217/500\n",
      "\u001b[1m31/31\u001b[0m \u001b[32m━━━━━━━━━━━━━━━━━━━━\u001b[0m\u001b[37m\u001b[0m \u001b[1m0s\u001b[0m 4ms/step - loss: 0.2620 - mae: 0.3874 - val_loss: 0.0317 - val_mae: 0.1058 - learning_rate: 1.9531e-05\n",
      "Epoch 218/500\n",
      "\u001b[1m31/31\u001b[0m \u001b[32m━━━━━━━━━━━━━━━━━━━━\u001b[0m\u001b[37m\u001b[0m \u001b[1m0s\u001b[0m 5ms/step - loss: 0.2901 - mae: 0.4194 - val_loss: 0.0316 - val_mae: 0.1054 - learning_rate: 1.9531e-05\n",
      "Epoch 219/500\n",
      "\u001b[1m31/31\u001b[0m \u001b[32m━━━━━━━━━━━━━━━━━━━━\u001b[0m\u001b[37m\u001b[0m \u001b[1m0s\u001b[0m 6ms/step - loss: 0.2519 - mae: 0.3933 - val_loss: 0.0321 - val_mae: 0.1072 - learning_rate: 1.9531e-05\n",
      "Epoch 220/500\n",
      "\u001b[1m31/31\u001b[0m \u001b[32m━━━━━━━━━━━━━━━━━━━━\u001b[0m\u001b[37m\u001b[0m \u001b[1m0s\u001b[0m 5ms/step - loss: 0.3052 - mae: 0.4280 - val_loss: 0.0318 - val_mae: 0.1061 - learning_rate: 1.9531e-05\n",
      "Epoch 221/500\n",
      "\u001b[1m31/31\u001b[0m \u001b[32m━━━━━━━━━━━━━━━━━━━━\u001b[0m\u001b[37m\u001b[0m \u001b[1m0s\u001b[0m 5ms/step - loss: 0.2667 - mae: 0.3993 - val_loss: 0.0318 - val_mae: 0.1062 - learning_rate: 1.9531e-05\n",
      "Epoch 222/500\n",
      "\u001b[1m31/31\u001b[0m \u001b[32m━━━━━━━━━━━━━━━━━━━━\u001b[0m\u001b[37m\u001b[0m \u001b[1m0s\u001b[0m 5ms/step - loss: 0.2940 - mae: 0.4211 - val_loss: 0.0315 - val_mae: 0.1054 - learning_rate: 9.7656e-06\n",
      "Epoch 223/500\n",
      "\u001b[1m31/31\u001b[0m \u001b[32m━━━━━━━━━━━━━━━━━━━━\u001b[0m\u001b[37m\u001b[0m \u001b[1m0s\u001b[0m 5ms/step - loss: 0.2785 - mae: 0.4170 - val_loss: 0.0315 - val_mae: 0.1054 - learning_rate: 9.7656e-06\n",
      "Epoch 224/500\n",
      "\u001b[1m31/31\u001b[0m \u001b[32m━━━━━━━━━━━━━━━━━━━━\u001b[0m\u001b[37m\u001b[0m \u001b[1m0s\u001b[0m 5ms/step - loss: 0.2676 - mae: 0.4024 - val_loss: 0.0317 - val_mae: 0.1060 - learning_rate: 9.7656e-06\n",
      "Epoch 225/500\n",
      "\u001b[1m31/31\u001b[0m \u001b[32m━━━━━━━━━━━━━━━━━━━━\u001b[0m\u001b[37m\u001b[0m \u001b[1m0s\u001b[0m 5ms/step - loss: 0.2693 - mae: 0.4039 - val_loss: 0.0319 - val_mae: 0.1065 - learning_rate: 9.7656e-06\n",
      "Epoch 226/500\n",
      "\u001b[1m31/31\u001b[0m \u001b[32m━━━━━━━━━━━━━━━━━━━━\u001b[0m\u001b[37m\u001b[0m \u001b[1m0s\u001b[0m 6ms/step - loss: 0.2845 - mae: 0.4087 - val_loss: 0.0319 - val_mae: 0.1064 - learning_rate: 9.7656e-06\n",
      "Epoch 227/500\n",
      "\u001b[1m31/31\u001b[0m \u001b[32m━━━━━━━━━━━━━━━━━━━━\u001b[0m\u001b[37m\u001b[0m \u001b[1m0s\u001b[0m 5ms/step - loss: 0.2735 - mae: 0.3940 - val_loss: 0.0318 - val_mae: 0.1062 - learning_rate: 9.7656e-06\n",
      "Epoch 228/500\n",
      "\u001b[1m31/31\u001b[0m \u001b[32m━━━━━━━━━━━━━━━━━━━━\u001b[0m\u001b[37m\u001b[0m \u001b[1m0s\u001b[0m 5ms/step - loss: 0.2925 - mae: 0.4067 - val_loss: 0.0316 - val_mae: 0.1054 - learning_rate: 9.7656e-06\n",
      "Epoch 229/500\n",
      "\u001b[1m31/31\u001b[0m \u001b[32m━━━━━━━━━━━━━━━━━━━━\u001b[0m\u001b[37m\u001b[0m \u001b[1m0s\u001b[0m 5ms/step - loss: 0.2960 - mae: 0.4266 - val_loss: 0.0313 - val_mae: 0.1046 - learning_rate: 9.7656e-06\n",
      "Epoch 230/500\n",
      "\u001b[1m31/31\u001b[0m \u001b[32m━━━━━━━━━━━━━━━━━━━━\u001b[0m\u001b[37m\u001b[0m \u001b[1m0s\u001b[0m 5ms/step - loss: 0.3047 - mae: 0.4169 - val_loss: 0.0312 - val_mae: 0.1040 - learning_rate: 9.7656e-06\n",
      "Epoch 231/500\n",
      "\u001b[1m31/31\u001b[0m \u001b[32m━━━━━━━━━━━━━━━━━━━━\u001b[0m\u001b[37m\u001b[0m \u001b[1m0s\u001b[0m 4ms/step - loss: 0.2588 - mae: 0.4013 - val_loss: 0.0310 - val_mae: 0.1035 - learning_rate: 9.7656e-06\n",
      "Epoch 232/500\n",
      "\u001b[1m31/31\u001b[0m \u001b[32m━━━━━━━━━━━━━━━━━━━━\u001b[0m\u001b[37m\u001b[0m \u001b[1m0s\u001b[0m 5ms/step - loss: 0.2851 - mae: 0.4147 - val_loss: 0.0309 - val_mae: 0.1031 - learning_rate: 4.8828e-06\n",
      "Epoch 233/500\n",
      "\u001b[1m31/31\u001b[0m \u001b[32m━━━━━━━━━━━━━━━━━━━━\u001b[0m\u001b[37m\u001b[0m \u001b[1m0s\u001b[0m 5ms/step - loss: 0.2845 - mae: 0.4131 - val_loss: 0.0309 - val_mae: 0.1030 - learning_rate: 4.8828e-06\n",
      "Epoch 234/500\n",
      "\u001b[1m31/31\u001b[0m \u001b[32m━━━━━━━━━━━━━━━━━━━━\u001b[0m\u001b[37m\u001b[0m \u001b[1m0s\u001b[0m 5ms/step - loss: 0.2711 - mae: 0.4055 - val_loss: 0.0308 - val_mae: 0.1030 - learning_rate: 4.8828e-06\n",
      "Epoch 235/500\n",
      "\u001b[1m31/31\u001b[0m \u001b[32m━━━━━━━━━━━━━━━━━━━━\u001b[0m\u001b[37m\u001b[0m \u001b[1m0s\u001b[0m 5ms/step - loss: 0.2781 - mae: 0.4181 - val_loss: 0.0310 - val_mae: 0.1034 - learning_rate: 4.8828e-06\n",
      "Epoch 236/500\n",
      "\u001b[1m31/31\u001b[0m \u001b[32m━━━━━━━━━━━━━━━━━━━━\u001b[0m\u001b[37m\u001b[0m \u001b[1m0s\u001b[0m 4ms/step - loss: 0.3116 - mae: 0.4181 - val_loss: 0.0311 - val_mae: 0.1036 - learning_rate: 4.8828e-06\n",
      "Epoch 237/500\n",
      "\u001b[1m31/31\u001b[0m \u001b[32m━━━━━━━━━━━━━━━━━━━━\u001b[0m\u001b[37m\u001b[0m \u001b[1m0s\u001b[0m 5ms/step - loss: 0.3132 - mae: 0.4338 - val_loss: 0.0312 - val_mae: 0.1041 - learning_rate: 4.8828e-06\n",
      "Epoch 238/500\n",
      "\u001b[1m31/31\u001b[0m \u001b[32m━━━━━━━━━━━━━━━━━━━━\u001b[0m\u001b[37m\u001b[0m \u001b[1m0s\u001b[0m 5ms/step - loss: 0.3094 - mae: 0.4354 - val_loss: 0.0309 - val_mae: 0.1031 - learning_rate: 4.8828e-06\n",
      "Epoch 239/500\n",
      "\u001b[1m31/31\u001b[0m \u001b[32m━━━━━━━━━━━━━━━━━━━━\u001b[0m\u001b[37m\u001b[0m \u001b[1m0s\u001b[0m 5ms/step - loss: 0.2729 - mae: 0.4036 - val_loss: 0.0309 - val_mae: 0.1032 - learning_rate: 4.8828e-06\n",
      "Epoch 240/500\n",
      "\u001b[1m31/31\u001b[0m \u001b[32m━━━━━━━━━━━━━━━━━━━━\u001b[0m\u001b[37m\u001b[0m \u001b[1m0s\u001b[0m 5ms/step - loss: 0.2830 - mae: 0.4094 - val_loss: 0.0310 - val_mae: 0.1034 - learning_rate: 4.8828e-06\n",
      "Epoch 241/500\n",
      "\u001b[1m31/31\u001b[0m \u001b[32m━━━━━━━━━━━━━━━━━━━━\u001b[0m\u001b[37m\u001b[0m \u001b[1m0s\u001b[0m 4ms/step - loss: 0.2973 - mae: 0.4289 - val_loss: 0.0310 - val_mae: 0.1036 - learning_rate: 4.8828e-06\n",
      "Epoch 242/500\n",
      "\u001b[1m31/31\u001b[0m \u001b[32m━━━━━━━━━━━━━━━━━━━━\u001b[0m\u001b[37m\u001b[0m \u001b[1m0s\u001b[0m 5ms/step - loss: 0.2931 - mae: 0.4231 - val_loss: 0.0309 - val_mae: 0.1031 - learning_rate: 2.4414e-06\n",
      "Epoch 243/500\n",
      "\u001b[1m31/31\u001b[0m \u001b[32m━━━━━━━━━━━━━━━━━━━━\u001b[0m\u001b[37m\u001b[0m \u001b[1m0s\u001b[0m 5ms/step - loss: 0.2653 - mae: 0.3949 - val_loss: 0.0310 - val_mae: 0.1036 - learning_rate: 2.4414e-06\n",
      "Epoch 244/500\n",
      "\u001b[1m31/31\u001b[0m \u001b[32m━━━━━━━━━━━━━━━━━━━━\u001b[0m\u001b[37m\u001b[0m \u001b[1m0s\u001b[0m 5ms/step - loss: 0.2689 - mae: 0.4063 - val_loss: 0.0310 - val_mae: 0.1033 - learning_rate: 2.4414e-06\n",
      "Epoch 245/500\n",
      "\u001b[1m31/31\u001b[0m \u001b[32m━━━━━━━━━━━━━━━━━━━━\u001b[0m\u001b[37m\u001b[0m \u001b[1m0s\u001b[0m 5ms/step - loss: 0.2875 - mae: 0.4093 - val_loss: 0.0309 - val_mae: 0.1031 - learning_rate: 2.4414e-06\n",
      "Epoch 246/500\n",
      "\u001b[1m31/31\u001b[0m \u001b[32m━━━━━━━━━━━━━━━━━━━━\u001b[0m\u001b[37m\u001b[0m \u001b[1m0s\u001b[0m 5ms/step - loss: 0.2647 - mae: 0.4016 - val_loss: 0.0310 - val_mae: 0.1035 - learning_rate: 2.4414e-06\n",
      "Epoch 247/500\n",
      "\u001b[1m31/31\u001b[0m \u001b[32m━━━━━━━━━━━━━━━━━━━━\u001b[0m\u001b[37m\u001b[0m \u001b[1m0s\u001b[0m 5ms/step - loss: 0.3034 - mae: 0.4317 - val_loss: 0.0310 - val_mae: 0.1035 - learning_rate: 2.4414e-06\n",
      "Epoch 248/500\n",
      "\u001b[1m31/31\u001b[0m \u001b[32m━━━━━━━━━━━━━━━━━━━━\u001b[0m\u001b[37m\u001b[0m \u001b[1m0s\u001b[0m 5ms/step - loss: 0.2546 - mae: 0.3923 - val_loss: 0.0311 - val_mae: 0.1036 - learning_rate: 2.4414e-06\n",
      "Epoch 249/500\n",
      "\u001b[1m31/31\u001b[0m \u001b[32m━━━━━━━━━━━━━━━━━━━━\u001b[0m\u001b[37m\u001b[0m \u001b[1m0s\u001b[0m 5ms/step - loss: 0.2923 - mae: 0.4284 - val_loss: 0.0311 - val_mae: 0.1036 - learning_rate: 2.4414e-06\n",
      "Epoch 250/500\n",
      "\u001b[1m31/31\u001b[0m \u001b[32m━━━━━━━━━━━━━━━━━━━━\u001b[0m\u001b[37m\u001b[0m \u001b[1m0s\u001b[0m 5ms/step - loss: 0.3207 - mae: 0.4407 - val_loss: 0.0309 - val_mae: 0.1031 - learning_rate: 2.4414e-06\n",
      "Epoch 251/500\n",
      "\u001b[1m31/31\u001b[0m \u001b[32m━━━━━━━━━━━━━━━━━━━━\u001b[0m\u001b[37m\u001b[0m \u001b[1m0s\u001b[0m 5ms/step - loss: 0.2774 - mae: 0.4100 - val_loss: 0.0309 - val_mae: 0.1033 - learning_rate: 2.4414e-06\n",
      "Epoch 252/500\n",
      "\u001b[1m31/31\u001b[0m \u001b[32m━━━━━━━━━━━━━━━━━━━━\u001b[0m\u001b[37m\u001b[0m \u001b[1m0s\u001b[0m 4ms/step - loss: 0.2991 - mae: 0.4279 - val_loss: 0.0312 - val_mae: 0.1040 - learning_rate: 1.2207e-06\n",
      "Epoch 253/500\n",
      "\u001b[1m31/31\u001b[0m \u001b[32m━━━━━━━━━━━━━━━━━━━━\u001b[0m\u001b[37m\u001b[0m \u001b[1m0s\u001b[0m 5ms/step - loss: 0.2728 - mae: 0.4043 - val_loss: 0.0311 - val_mae: 0.1036 - learning_rate: 1.2207e-06\n",
      "Epoch 254/500\n",
      "\u001b[1m31/31\u001b[0m \u001b[32m━━━━━━━━━━━━━━━━━━━━\u001b[0m\u001b[37m\u001b[0m \u001b[1m0s\u001b[0m 5ms/step - loss: 0.3024 - mae: 0.4246 - val_loss: 0.0310 - val_mae: 0.1033 - learning_rate: 1.2207e-06\n",
      "Epoch 255/500\n",
      "\u001b[1m31/31\u001b[0m \u001b[32m━━━━━━━━━━━━━━━━━━━━\u001b[0m\u001b[37m\u001b[0m \u001b[1m0s\u001b[0m 5ms/step - loss: 0.3304 - mae: 0.4559 - val_loss: 0.0309 - val_mae: 0.1030 - learning_rate: 1.2207e-06\n",
      "Epoch 256/500\n",
      "\u001b[1m31/31\u001b[0m \u001b[32m━━━━━━━━━━━━━━━━━━━━\u001b[0m\u001b[37m\u001b[0m \u001b[1m0s\u001b[0m 7ms/step - loss: 0.2934 - mae: 0.4240 - val_loss: 0.0309 - val_mae: 0.1031 - learning_rate: 1.2207e-06\n",
      "Epoch 257/500\n",
      "\u001b[1m31/31\u001b[0m \u001b[32m━━━━━━━━━━━━━━━━━━━━\u001b[0m\u001b[37m\u001b[0m \u001b[1m0s\u001b[0m 5ms/step - loss: 0.2994 - mae: 0.4272 - val_loss: 0.0309 - val_mae: 0.1032 - learning_rate: 1.2207e-06\n",
      "Epoch 258/500\n",
      "\u001b[1m31/31\u001b[0m \u001b[32m━━━━━━━━━━━━━━━━━━━━\u001b[0m\u001b[37m\u001b[0m \u001b[1m0s\u001b[0m 5ms/step - loss: 0.3123 - mae: 0.4323 - val_loss: 0.0311 - val_mae: 0.1037 - learning_rate: 1.2207e-06\n",
      "Epoch 259/500\n",
      "\u001b[1m31/31\u001b[0m \u001b[32m━━━━━━━━━━━━━━━━━━━━\u001b[0m\u001b[37m\u001b[0m \u001b[1m0s\u001b[0m 5ms/step - loss: 0.2703 - mae: 0.4033 - val_loss: 0.0311 - val_mae: 0.1040 - learning_rate: 1.2207e-06\n",
      "Epoch 260/500\n",
      "\u001b[1m31/31\u001b[0m \u001b[32m━━━━━━━━━━━━━━━━━━━━\u001b[0m\u001b[37m\u001b[0m \u001b[1m0s\u001b[0m 5ms/step - loss: 0.2812 - mae: 0.4054 - val_loss: 0.0311 - val_mae: 0.1038 - learning_rate: 1.2207e-06\n",
      "Epoch 261/500\n",
      "\u001b[1m31/31\u001b[0m \u001b[32m━━━━━━━━━━━━━━━━━━━━\u001b[0m\u001b[37m\u001b[0m \u001b[1m0s\u001b[0m 5ms/step - loss: 0.2798 - mae: 0.4124 - val_loss: 0.0310 - val_mae: 0.1036 - learning_rate: 1.2207e-06\n",
      "Epoch 262/500\n",
      "\u001b[1m31/31\u001b[0m \u001b[32m━━━━━━━━━━━━━━━━━━━━\u001b[0m\u001b[37m\u001b[0m \u001b[1m0s\u001b[0m 4ms/step - loss: 0.2869 - mae: 0.4206 - val_loss: 0.0310 - val_mae: 0.1034 - learning_rate: 6.1035e-07\n",
      "Epoch 263/500\n",
      "\u001b[1m31/31\u001b[0m \u001b[32m━━━━━━━━━━━━━━━━━━━━\u001b[0m\u001b[37m\u001b[0m \u001b[1m0s\u001b[0m 5ms/step - loss: 0.3137 - mae: 0.4447 - val_loss: 0.0309 - val_mae: 0.1031 - learning_rate: 6.1035e-07\n",
      "Epoch 264/500\n",
      "\u001b[1m31/31\u001b[0m \u001b[32m━━━━━━━━━━━━━━━━━━━━\u001b[0m\u001b[37m\u001b[0m \u001b[1m0s\u001b[0m 5ms/step - loss: 0.2938 - mae: 0.4216 - val_loss: 0.0308 - val_mae: 0.1031 - learning_rate: 6.1035e-07\n",
      "Epoch 265/500\n",
      "\u001b[1m31/31\u001b[0m \u001b[32m━━━━━━━━━━━━━━━━━━━━\u001b[0m\u001b[37m\u001b[0m \u001b[1m0s\u001b[0m 5ms/step - loss: 0.3266 - mae: 0.4467 - val_loss: 0.0310 - val_mae: 0.1034 - learning_rate: 6.1035e-07\n",
      "Epoch 266/500\n",
      "\u001b[1m31/31\u001b[0m \u001b[32m━━━━━━━━━━━━━━━━━━━━\u001b[0m\u001b[37m\u001b[0m \u001b[1m0s\u001b[0m 5ms/step - loss: 0.3310 - mae: 0.4488 - val_loss: 0.0309 - val_mae: 0.1031 - learning_rate: 6.1035e-07\n",
      "Epoch 267/500\n",
      "\u001b[1m31/31\u001b[0m \u001b[32m━━━━━━━━━━━━━━━━━━━━\u001b[0m\u001b[37m\u001b[0m \u001b[1m0s\u001b[0m 5ms/step - loss: 0.2951 - mae: 0.4250 - val_loss: 0.0307 - val_mae: 0.1027 - learning_rate: 6.1035e-07\n",
      "Epoch 268/500\n",
      "\u001b[1m31/31\u001b[0m \u001b[32m━━━━━━━━━━━━━━━━━━━━\u001b[0m\u001b[37m\u001b[0m \u001b[1m0s\u001b[0m 5ms/step - loss: 0.2975 - mae: 0.4205 - val_loss: 0.0309 - val_mae: 0.1030 - learning_rate: 6.1035e-07\n",
      "Epoch 269/500\n",
      "\u001b[1m31/31\u001b[0m \u001b[32m━━━━━━━━━━━━━━━━━━━━\u001b[0m\u001b[37m\u001b[0m \u001b[1m0s\u001b[0m 4ms/step - loss: 0.3252 - mae: 0.4416 - val_loss: 0.0310 - val_mae: 0.1036 - learning_rate: 6.1035e-07\n",
      "Epoch 270/500\n",
      "\u001b[1m31/31\u001b[0m \u001b[32m━━━━━━━━━━━━━━━━━━━━\u001b[0m\u001b[37m\u001b[0m \u001b[1m0s\u001b[0m 5ms/step - loss: 0.2738 - mae: 0.4135 - val_loss: 0.0311 - val_mae: 0.1038 - learning_rate: 6.1035e-07\n",
      "Epoch 271/500\n",
      "\u001b[1m31/31\u001b[0m \u001b[32m━━━━━━━━━━━━━━━━━━━━\u001b[0m\u001b[37m\u001b[0m \u001b[1m0s\u001b[0m 4ms/step - loss: 0.3189 - mae: 0.4427 - val_loss: 0.0311 - val_mae: 0.1039 - learning_rate: 6.1035e-07\n",
      "Epoch 272/500\n",
      "\u001b[1m31/31\u001b[0m \u001b[32m━━━━━━━━━━━━━━━━━━━━\u001b[0m\u001b[37m\u001b[0m \u001b[1m0s\u001b[0m 5ms/step - loss: 0.2875 - mae: 0.4124 - val_loss: 0.0312 - val_mae: 0.1042 - learning_rate: 3.0518e-07\n",
      "Epoch 273/500\n",
      "\u001b[1m31/31\u001b[0m \u001b[32m━━━━━━━━━━━━━━━━━━━━\u001b[0m\u001b[37m\u001b[0m \u001b[1m0s\u001b[0m 5ms/step - loss: 0.2941 - mae: 0.4240 - val_loss: 0.0313 - val_mae: 0.1044 - learning_rate: 3.0518e-07\n",
      "Epoch 274/500\n",
      "\u001b[1m31/31\u001b[0m \u001b[32m━━━━━━━━━━━━━━━━━━━━\u001b[0m\u001b[37m\u001b[0m \u001b[1m0s\u001b[0m 5ms/step - loss: 0.2737 - mae: 0.4107 - val_loss: 0.0311 - val_mae: 0.1039 - learning_rate: 3.0518e-07\n",
      "Epoch 275/500\n",
      "\u001b[1m31/31\u001b[0m \u001b[32m━━━━━━━━━━━━━━━━━━━━\u001b[0m\u001b[37m\u001b[0m \u001b[1m0s\u001b[0m 5ms/step - loss: 0.2595 - mae: 0.4010 - val_loss: 0.0310 - val_mae: 0.1037 - learning_rate: 3.0518e-07\n",
      "Epoch 276/500\n",
      "\u001b[1m31/31\u001b[0m \u001b[32m━━━━━━━━━━━━━━━━━━━━\u001b[0m\u001b[37m\u001b[0m \u001b[1m0s\u001b[0m 4ms/step - loss: 0.3193 - mae: 0.4412 - val_loss: 0.0309 - val_mae: 0.1034 - learning_rate: 3.0518e-07\n",
      "Epoch 277/500\n",
      "\u001b[1m31/31\u001b[0m \u001b[32m━━━━━━━━━━━━━━━━━━━━\u001b[0m\u001b[37m\u001b[0m \u001b[1m0s\u001b[0m 5ms/step - loss: 0.2701 - mae: 0.4042 - val_loss: 0.0311 - val_mae: 0.1038 - learning_rate: 3.0518e-07\n",
      "Epoch 278/500\n",
      "\u001b[1m31/31\u001b[0m \u001b[32m━━━━━━━━━━━━━━━━━━━━\u001b[0m\u001b[37m\u001b[0m \u001b[1m0s\u001b[0m 5ms/step - loss: 0.3096 - mae: 0.4260 - val_loss: 0.0310 - val_mae: 0.1037 - learning_rate: 3.0518e-07\n",
      "Epoch 279/500\n",
      "\u001b[1m31/31\u001b[0m \u001b[32m━━━━━━━━━━━━━━━━━━━━\u001b[0m\u001b[37m\u001b[0m \u001b[1m0s\u001b[0m 5ms/step - loss: 0.2790 - mae: 0.4104 - val_loss: 0.0310 - val_mae: 0.1036 - learning_rate: 3.0518e-07\n",
      "Epoch 280/500\n",
      "\u001b[1m31/31\u001b[0m \u001b[32m━━━━━━━━━━━━━━━━━━━━\u001b[0m\u001b[37m\u001b[0m \u001b[1m0s\u001b[0m 4ms/step - loss: 0.2996 - mae: 0.4264 - val_loss: 0.0309 - val_mae: 0.1033 - learning_rate: 3.0518e-07\n",
      "Epoch 281/500\n",
      "\u001b[1m31/31\u001b[0m \u001b[32m━━━━━━━━━━━━━━━━━━━━\u001b[0m\u001b[37m\u001b[0m \u001b[1m0s\u001b[0m 5ms/step - loss: 0.3013 - mae: 0.4268 - val_loss: 0.0308 - val_mae: 0.1028 - learning_rate: 3.0518e-07\n",
      "Epoch 282/500\n",
      "\u001b[1m31/31\u001b[0m \u001b[32m━━━━━━━━━━━━━━━━━━━━\u001b[0m\u001b[37m\u001b[0m \u001b[1m0s\u001b[0m 5ms/step - loss: 0.3132 - mae: 0.4378 - val_loss: 0.0311 - val_mae: 0.1036 - learning_rate: 1.5259e-07\n",
      "Epoch 283/500\n",
      "\u001b[1m31/31\u001b[0m \u001b[32m━━━━━━━━━━━━━━━━━━━━\u001b[0m\u001b[37m\u001b[0m \u001b[1m0s\u001b[0m 5ms/step - loss: 0.2778 - mae: 0.4129 - val_loss: 0.0310 - val_mae: 0.1035 - learning_rate: 1.5259e-07\n",
      "Epoch 284/500\n",
      "\u001b[1m31/31\u001b[0m \u001b[32m━━━━━━━━━━━━━━━━━━━━\u001b[0m\u001b[37m\u001b[0m \u001b[1m0s\u001b[0m 6ms/step - loss: 0.3133 - mae: 0.4325 - val_loss: 0.0310 - val_mae: 0.1035 - learning_rate: 1.5259e-07\n",
      "Epoch 285/500\n",
      "\u001b[1m31/31\u001b[0m \u001b[32m━━━━━━━━━━━━━━━━━━━━\u001b[0m\u001b[37m\u001b[0m \u001b[1m0s\u001b[0m 5ms/step - loss: 0.2669 - mae: 0.4015 - val_loss: 0.0308 - val_mae: 0.1027 - learning_rate: 1.5259e-07\n",
      "Epoch 286/500\n",
      "\u001b[1m31/31\u001b[0m \u001b[32m━━━━━━━━━━━━━━━━━━━━\u001b[0m\u001b[37m\u001b[0m \u001b[1m0s\u001b[0m 6ms/step - loss: 0.2700 - mae: 0.4131 - val_loss: 0.0309 - val_mae: 0.1031 - learning_rate: 1.5259e-07\n",
      "Epoch 287/500\n",
      "\u001b[1m31/31\u001b[0m \u001b[32m━━━━━━━━━━━━━━━━━━━━\u001b[0m\u001b[37m\u001b[0m \u001b[1m0s\u001b[0m 5ms/step - loss: 0.2726 - mae: 0.4129 - val_loss: 0.0310 - val_mae: 0.1034 - learning_rate: 1.5259e-07\n",
      "Epoch 288/500\n",
      "\u001b[1m31/31\u001b[0m \u001b[32m━━━━━━━━━━━━━━━━━━━━\u001b[0m\u001b[37m\u001b[0m \u001b[1m0s\u001b[0m 5ms/step - loss: 0.2818 - mae: 0.4129 - val_loss: 0.0310 - val_mae: 0.1034 - learning_rate: 1.5259e-07\n",
      "Epoch 289/500\n",
      "\u001b[1m31/31\u001b[0m \u001b[32m━━━━━━━━━━━━━━━━━━━━\u001b[0m\u001b[37m\u001b[0m \u001b[1m0s\u001b[0m 5ms/step - loss: 0.2962 - mae: 0.4283 - val_loss: 0.0311 - val_mae: 0.1037 - learning_rate: 1.5259e-07\n",
      "Epoch 290/500\n",
      "\u001b[1m31/31\u001b[0m \u001b[32m━━━━━━━━━━━━━━━━━━━━\u001b[0m\u001b[37m\u001b[0m \u001b[1m0s\u001b[0m 5ms/step - loss: 0.2700 - mae: 0.4029 - val_loss: 0.0311 - val_mae: 0.1037 - learning_rate: 1.5259e-07\n",
      "Epoch 291/500\n",
      "\u001b[1m31/31\u001b[0m \u001b[32m━━━━━━━━━━━━━━━━━━━━\u001b[0m\u001b[37m\u001b[0m \u001b[1m0s\u001b[0m 5ms/step - loss: 0.3156 - mae: 0.4362 - val_loss: 0.0310 - val_mae: 0.1035 - learning_rate: 1.5259e-07\n",
      "Epoch 292/500\n",
      "\u001b[1m31/31\u001b[0m \u001b[32m━━━━━━━━━━━━━━━━━━━━\u001b[0m\u001b[37m\u001b[0m \u001b[1m0s\u001b[0m 5ms/step - loss: 0.2959 - mae: 0.4257 - val_loss: 0.0310 - val_mae: 0.1036 - learning_rate: 7.6294e-08\n",
      "Epoch 293/500\n",
      "\u001b[1m31/31\u001b[0m \u001b[32m━━━━━━━━━━━━━━━━━━━━\u001b[0m\u001b[37m\u001b[0m \u001b[1m0s\u001b[0m 5ms/step - loss: 0.3052 - mae: 0.4298 - val_loss: 0.0309 - val_mae: 0.1033 - learning_rate: 7.6294e-08\n",
      "Epoch 294/500\n",
      "\u001b[1m31/31\u001b[0m \u001b[32m━━━━━━━━━━━━━━━━━━━━\u001b[0m\u001b[37m\u001b[0m \u001b[1m0s\u001b[0m 5ms/step - loss: 0.3032 - mae: 0.4306 - val_loss: 0.0308 - val_mae: 0.1029 - learning_rate: 7.6294e-08\n",
      "Epoch 295/500\n",
      "\u001b[1m31/31\u001b[0m \u001b[32m━━━━━━━━━━━━━━━━━━━━\u001b[0m\u001b[37m\u001b[0m \u001b[1m0s\u001b[0m 5ms/step - loss: 0.3313 - mae: 0.4470 - val_loss: 0.0307 - val_mae: 0.1027 - learning_rate: 7.6294e-08\n",
      "Epoch 296/500\n",
      "\u001b[1m31/31\u001b[0m \u001b[32m━━━━━━━━━━━━━━━━━━━━\u001b[0m\u001b[37m\u001b[0m \u001b[1m0s\u001b[0m 6ms/step - loss: 0.2633 - mae: 0.3914 - val_loss: 0.0308 - val_mae: 0.1029 - learning_rate: 7.6294e-08\n",
      "Epoch 297/500\n",
      "\u001b[1m31/31\u001b[0m \u001b[32m━━━━━━━━━━━━━━━━━━━━\u001b[0m\u001b[37m\u001b[0m \u001b[1m0s\u001b[0m 5ms/step - loss: 0.2788 - mae: 0.4155 - val_loss: 0.0307 - val_mae: 0.1024 - learning_rate: 7.6294e-08\n",
      "Epoch 298/500\n",
      "\u001b[1m31/31\u001b[0m \u001b[32m━━━━━━━━━━━━━━━━━━━━\u001b[0m\u001b[37m\u001b[0m \u001b[1m0s\u001b[0m 4ms/step - loss: 0.3030 - mae: 0.4213 - val_loss: 0.0308 - val_mae: 0.1028 - learning_rate: 7.6294e-08\n",
      "Epoch 299/500\n",
      "\u001b[1m31/31\u001b[0m \u001b[32m━━━━━━━━━━━━━━━━━━━━\u001b[0m\u001b[37m\u001b[0m \u001b[1m0s\u001b[0m 5ms/step - loss: 0.2723 - mae: 0.4048 - val_loss: 0.0309 - val_mae: 0.1032 - learning_rate: 7.6294e-08\n",
      "Epoch 300/500\n",
      "\u001b[1m31/31\u001b[0m \u001b[32m━━━━━━━━━━━━━━━━━━━━\u001b[0m\u001b[37m\u001b[0m \u001b[1m0s\u001b[0m 4ms/step - loss: 0.2692 - mae: 0.4010 - val_loss: 0.0309 - val_mae: 0.1032 - learning_rate: 7.6294e-08\n",
      "Epoch 301/500\n",
      "\u001b[1m31/31\u001b[0m \u001b[32m━━━━━━━━━━━━━━━━━━━━\u001b[0m\u001b[37m\u001b[0m \u001b[1m0s\u001b[0m 4ms/step - loss: 0.2882 - mae: 0.4142 - val_loss: 0.0309 - val_mae: 0.1031 - learning_rate: 7.6294e-08\n",
      "Epoch 302/500\n",
      "\u001b[1m31/31\u001b[0m \u001b[32m━━━━━━━━━━━━━━━━━━━━\u001b[0m\u001b[37m\u001b[0m \u001b[1m0s\u001b[0m 4ms/step - loss: 0.2990 - mae: 0.4291 - val_loss: 0.0308 - val_mae: 0.1029 - learning_rate: 3.8147e-08\n",
      "Epoch 303/500\n",
      "\u001b[1m31/31\u001b[0m \u001b[32m━━━━━━━━━━━━━━━━━━━━\u001b[0m\u001b[37m\u001b[0m \u001b[1m0s\u001b[0m 4ms/step - loss: 0.3033 - mae: 0.4157 - val_loss: 0.0310 - val_mae: 0.1035 - learning_rate: 3.8147e-08\n",
      "Epoch 304/500\n",
      "\u001b[1m31/31\u001b[0m \u001b[32m━━━━━━━━━━━━━━━━━━━━\u001b[0m\u001b[37m\u001b[0m \u001b[1m0s\u001b[0m 4ms/step - loss: 0.2814 - mae: 0.4147 - val_loss: 0.0310 - val_mae: 0.1034 - learning_rate: 3.8147e-08\n",
      "Epoch 305/500\n",
      "\u001b[1m31/31\u001b[0m \u001b[32m━━━━━━━━━━━━━━━━━━━━\u001b[0m\u001b[37m\u001b[0m \u001b[1m0s\u001b[0m 4ms/step - loss: 0.2851 - mae: 0.4179 - val_loss: 0.0309 - val_mae: 0.1032 - learning_rate: 3.8147e-08\n",
      "Epoch 306/500\n",
      "\u001b[1m31/31\u001b[0m \u001b[32m━━━━━━━━━━━━━━━━━━━━\u001b[0m\u001b[37m\u001b[0m \u001b[1m0s\u001b[0m 4ms/step - loss: 0.2840 - mae: 0.4083 - val_loss: 0.0309 - val_mae: 0.1032 - learning_rate: 3.8147e-08\n",
      "Epoch 307/500\n",
      "\u001b[1m31/31\u001b[0m \u001b[32m━━━━━━━━━━━━━━━━━━━━\u001b[0m\u001b[37m\u001b[0m \u001b[1m0s\u001b[0m 4ms/step - loss: 0.2949 - mae: 0.4116 - val_loss: 0.0309 - val_mae: 0.1031 - learning_rate: 3.8147e-08\n",
      "Epoch 308/500\n",
      "\u001b[1m31/31\u001b[0m \u001b[32m━━━━━━━━━━━━━━━━━━━━\u001b[0m\u001b[37m\u001b[0m \u001b[1m0s\u001b[0m 5ms/step - loss: 0.3094 - mae: 0.4288 - val_loss: 0.0311 - val_mae: 0.1037 - learning_rate: 3.8147e-08\n",
      "Epoch 309/500\n",
      "\u001b[1m31/31\u001b[0m \u001b[32m━━━━━━━━━━━━━━━━━━━━\u001b[0m\u001b[37m\u001b[0m \u001b[1m0s\u001b[0m 5ms/step - loss: 0.2626 - mae: 0.4061 - val_loss: 0.0311 - val_mae: 0.1037 - learning_rate: 3.8147e-08\n",
      "Epoch 310/500\n",
      "\u001b[1m31/31\u001b[0m \u001b[32m━━━━━━━━━━━━━━━━━━━━\u001b[0m\u001b[37m\u001b[0m \u001b[1m0s\u001b[0m 5ms/step - loss: 0.3123 - mae: 0.4330 - val_loss: 0.0310 - val_mae: 0.1036 - learning_rate: 3.8147e-08\n",
      "Epoch 311/500\n",
      "\u001b[1m31/31\u001b[0m \u001b[32m━━━━━━━━━━━━━━━━━━━━\u001b[0m\u001b[37m\u001b[0m \u001b[1m0s\u001b[0m 5ms/step - loss: 0.2749 - mae: 0.4157 - val_loss: 0.0311 - val_mae: 0.1038 - learning_rate: 3.8147e-08\n",
      "Epoch 312/500\n",
      "\u001b[1m31/31\u001b[0m \u001b[32m━━━━━━━━━━━━━━━━━━━━\u001b[0m\u001b[37m\u001b[0m \u001b[1m0s\u001b[0m 5ms/step - loss: 0.2968 - mae: 0.4241 - val_loss: 0.0310 - val_mae: 0.1036 - learning_rate: 1.9073e-08\n",
      "Epoch 313/500\n",
      "\u001b[1m31/31\u001b[0m \u001b[32m━━━━━━━━━━━━━━━━━━━━\u001b[0m\u001b[37m\u001b[0m \u001b[1m0s\u001b[0m 5ms/step - loss: 0.3063 - mae: 0.4320 - val_loss: 0.0310 - val_mae: 0.1035 - learning_rate: 1.9073e-08\n",
      "Epoch 314/500\n",
      "\u001b[1m31/31\u001b[0m \u001b[32m━━━━━━━━━━━━━━━━━━━━\u001b[0m\u001b[37m\u001b[0m \u001b[1m0s\u001b[0m 6ms/step - loss: 0.2959 - mae: 0.4219 - val_loss: 0.0310 - val_mae: 0.1036 - learning_rate: 1.9073e-08\n",
      "Epoch 315/500\n",
      "\u001b[1m31/31\u001b[0m \u001b[32m━━━━━━━━━━━━━━━━━━━━\u001b[0m\u001b[37m\u001b[0m \u001b[1m0s\u001b[0m 5ms/step - loss: 0.2751 - mae: 0.4128 - val_loss: 0.0309 - val_mae: 0.1034 - learning_rate: 1.9073e-08\n",
      "Epoch 316/500\n",
      "\u001b[1m31/31\u001b[0m \u001b[32m━━━━━━━━━━━━━━━━━━━━\u001b[0m\u001b[37m\u001b[0m \u001b[1m0s\u001b[0m 5ms/step - loss: 0.2713 - mae: 0.3957 - val_loss: 0.0308 - val_mae: 0.1030 - learning_rate: 1.9073e-08\n",
      "Epoch 317/500\n",
      "\u001b[1m31/31\u001b[0m \u001b[32m━━━━━━━━━━━━━━━━━━━━\u001b[0m\u001b[37m\u001b[0m \u001b[1m0s\u001b[0m 5ms/step - loss: 0.2901 - mae: 0.4202 - val_loss: 0.0308 - val_mae: 0.1030 - learning_rate: 1.9073e-08\n",
      "Epoch 318/500\n",
      "\u001b[1m31/31\u001b[0m \u001b[32m━━━━━━━━━━━━━━━━━━━━\u001b[0m\u001b[37m\u001b[0m \u001b[1m0s\u001b[0m 5ms/step - loss: 0.2928 - mae: 0.4131 - val_loss: 0.0309 - val_mae: 0.1033 - learning_rate: 1.9073e-08\n",
      "Epoch 319/500\n",
      "\u001b[1m31/31\u001b[0m \u001b[32m━━━━━━━━━━━━━━━━━━━━\u001b[0m\u001b[37m\u001b[0m \u001b[1m0s\u001b[0m 5ms/step - loss: 0.3029 - mae: 0.4202 - val_loss: 0.0310 - val_mae: 0.1036 - learning_rate: 1.9073e-08\n",
      "Epoch 320/500\n",
      "\u001b[1m31/31\u001b[0m \u001b[32m━━━━━━━━━━━━━━━━━━━━\u001b[0m\u001b[37m\u001b[0m \u001b[1m0s\u001b[0m 4ms/step - loss: 0.3039 - mae: 0.4290 - val_loss: 0.0311 - val_mae: 0.1036 - learning_rate: 1.9073e-08\n",
      "Epoch 321/500\n",
      "\u001b[1m31/31\u001b[0m \u001b[32m━━━━━━━━━━━━━━━━━━━━\u001b[0m\u001b[37m\u001b[0m \u001b[1m0s\u001b[0m 5ms/step - loss: 0.2970 - mae: 0.4282 - val_loss: 0.0311 - val_mae: 0.1038 - learning_rate: 1.9073e-08\n",
      "Epoch 322/500\n",
      "\u001b[1m31/31\u001b[0m \u001b[32m━━━━━━━━━━━━━━━━━━━━\u001b[0m\u001b[37m\u001b[0m \u001b[1m0s\u001b[0m 4ms/step - loss: 0.2833 - mae: 0.3971 - val_loss: 0.0312 - val_mae: 0.1040 - learning_rate: 9.5367e-09\n",
      "Epoch 323/500\n",
      "\u001b[1m31/31\u001b[0m \u001b[32m━━━━━━━━━━━━━━━━━━━━\u001b[0m\u001b[37m\u001b[0m \u001b[1m0s\u001b[0m 4ms/step - loss: 0.2840 - mae: 0.4243 - val_loss: 0.0311 - val_mae: 0.1037 - learning_rate: 9.5367e-09\n",
      "Epoch 324/500\n",
      "\u001b[1m31/31\u001b[0m \u001b[32m━━━━━━━━━━━━━━━━━━━━\u001b[0m\u001b[37m\u001b[0m \u001b[1m0s\u001b[0m 4ms/step - loss: 0.2885 - mae: 0.4174 - val_loss: 0.0312 - val_mae: 0.1039 - learning_rate: 9.5367e-09\n",
      "Epoch 325/500\n",
      "\u001b[1m31/31\u001b[0m \u001b[32m━━━━━━━━━━━━━━━━━━━━\u001b[0m\u001b[37m\u001b[0m \u001b[1m0s\u001b[0m 4ms/step - loss: 0.2787 - mae: 0.4103 - val_loss: 0.0310 - val_mae: 0.1036 - learning_rate: 9.5367e-09\n",
      "Epoch 326/500\n",
      "\u001b[1m31/31\u001b[0m \u001b[32m━━━━━━━━━━━━━━━━━━━━\u001b[0m\u001b[37m\u001b[0m \u001b[1m0s\u001b[0m 4ms/step - loss: 0.2587 - mae: 0.3952 - val_loss: 0.0310 - val_mae: 0.1034 - learning_rate: 9.5367e-09\n",
      "Epoch 327/500\n",
      "\u001b[1m31/31\u001b[0m \u001b[32m━━━━━━━━━━━━━━━━━━━━\u001b[0m\u001b[37m\u001b[0m \u001b[1m0s\u001b[0m 6ms/step - loss: 0.2904 - mae: 0.4265 - val_loss: 0.0309 - val_mae: 0.1032 - learning_rate: 9.5367e-09\n",
      "Epoch 328/500\n",
      "\u001b[1m31/31\u001b[0m \u001b[32m━━━━━━━━━━━━━━━━━━━━\u001b[0m\u001b[37m\u001b[0m \u001b[1m0s\u001b[0m 4ms/step - loss: 0.2647 - mae: 0.3972 - val_loss: 0.0310 - val_mae: 0.1033 - learning_rate: 9.5367e-09\n",
      "Epoch 329/500\n",
      "\u001b[1m31/31\u001b[0m \u001b[32m━━━━━━━━━━━━━━━━━━━━\u001b[0m\u001b[37m\u001b[0m \u001b[1m0s\u001b[0m 4ms/step - loss: 0.2671 - mae: 0.3959 - val_loss: 0.0308 - val_mae: 0.1026 - learning_rate: 9.5367e-09\n",
      "Epoch 330/500\n",
      "\u001b[1m31/31\u001b[0m \u001b[32m━━━━━━━━━━━━━━━━━━━━\u001b[0m\u001b[37m\u001b[0m \u001b[1m0s\u001b[0m 4ms/step - loss: 0.2687 - mae: 0.4117 - val_loss: 0.0307 - val_mae: 0.1025 - learning_rate: 9.5367e-09\n",
      "Epoch 331/500\n",
      "\u001b[1m31/31\u001b[0m \u001b[32m━━━━━━━━━━━━━━━━━━━━\u001b[0m\u001b[37m\u001b[0m \u001b[1m0s\u001b[0m 4ms/step - loss: 0.2963 - mae: 0.4263 - val_loss: 0.0307 - val_mae: 0.1025 - learning_rate: 9.5367e-09\n",
      "Epoch 332/500\n",
      "\u001b[1m31/31\u001b[0m \u001b[32m━━━━━━━━━━━━━━━━━━━━\u001b[0m\u001b[37m\u001b[0m \u001b[1m0s\u001b[0m 4ms/step - loss: 0.2467 - mae: 0.3905 - val_loss: 0.0308 - val_mae: 0.1028 - learning_rate: 4.7684e-09\n",
      "Epoch 333/500\n",
      "\u001b[1m31/31\u001b[0m \u001b[32m━━━━━━━━━━━━━━━━━━━━\u001b[0m\u001b[37m\u001b[0m \u001b[1m0s\u001b[0m 4ms/step - loss: 0.2662 - mae: 0.3965 - val_loss: 0.0307 - val_mae: 0.1026 - learning_rate: 4.7684e-09\n",
      "Epoch 334/500\n",
      "\u001b[1m31/31\u001b[0m \u001b[32m━━━━━━━━━━━━━━━━━━━━\u001b[0m\u001b[37m\u001b[0m \u001b[1m0s\u001b[0m 4ms/step - loss: 0.3084 - mae: 0.4297 - val_loss: 0.0308 - val_mae: 0.1027 - learning_rate: 4.7684e-09\n",
      "Epoch 335/500\n",
      "\u001b[1m31/31\u001b[0m \u001b[32m━━━━━━━━━━━━━━━━━━━━\u001b[0m\u001b[37m\u001b[0m \u001b[1m0s\u001b[0m 4ms/step - loss: 0.2827 - mae: 0.4171 - val_loss: 0.0307 - val_mae: 0.1026 - learning_rate: 4.7684e-09\n",
      "Epoch 336/500\n",
      "\u001b[1m31/31\u001b[0m \u001b[32m━━━━━━━━━━━━━━━━━━━━\u001b[0m\u001b[37m\u001b[0m \u001b[1m0s\u001b[0m 4ms/step - loss: 0.2921 - mae: 0.4235 - val_loss: 0.0306 - val_mae: 0.1023 - learning_rate: 4.7684e-09\n",
      "Epoch 337/500\n",
      "\u001b[1m31/31\u001b[0m \u001b[32m━━━━━━━━━━━━━━━━━━━━\u001b[0m\u001b[37m\u001b[0m \u001b[1m0s\u001b[0m 4ms/step - loss: 0.2741 - mae: 0.4042 - val_loss: 0.0307 - val_mae: 0.1025 - learning_rate: 4.7684e-09\n",
      "Epoch 338/500\n",
      "\u001b[1m31/31\u001b[0m \u001b[32m━━━━━━━━━━━━━━━━━━━━\u001b[0m\u001b[37m\u001b[0m \u001b[1m0s\u001b[0m 4ms/step - loss: 0.2898 - mae: 0.4291 - val_loss: 0.0309 - val_mae: 0.1032 - learning_rate: 4.7684e-09\n",
      "Epoch 339/500\n",
      "\u001b[1m31/31\u001b[0m \u001b[32m━━━━━━━━━━━━━━━━━━━━\u001b[0m\u001b[37m\u001b[0m \u001b[1m0s\u001b[0m 4ms/step - loss: 0.3137 - mae: 0.4358 - val_loss: 0.0309 - val_mae: 0.1032 - learning_rate: 4.7684e-09\n",
      "Epoch 340/500\n",
      "\u001b[1m31/31\u001b[0m \u001b[32m━━━━━━━━━━━━━━━━━━━━\u001b[0m\u001b[37m\u001b[0m \u001b[1m0s\u001b[0m 5ms/step - loss: 0.2803 - mae: 0.4049 - val_loss: 0.0308 - val_mae: 0.1029 - learning_rate: 4.7684e-09\n",
      "Epoch 341/500\n",
      "\u001b[1m31/31\u001b[0m \u001b[32m━━━━━━━━━━━━━━━━━━━━\u001b[0m\u001b[37m\u001b[0m \u001b[1m0s\u001b[0m 4ms/step - loss: 0.3256 - mae: 0.4403 - val_loss: 0.0307 - val_mae: 0.1025 - learning_rate: 4.7684e-09\n",
      "Epoch 342/500\n",
      "\u001b[1m31/31\u001b[0m \u001b[32m━━━━━━━━━━━━━━━━━━━━\u001b[0m\u001b[37m\u001b[0m \u001b[1m0s\u001b[0m 4ms/step - loss: 0.3166 - mae: 0.4275 - val_loss: 0.0306 - val_mae: 0.1024 - learning_rate: 2.3842e-09\n",
      "Epoch 343/500\n",
      "\u001b[1m31/31\u001b[0m \u001b[32m━━━━━━━━━━━━━━━━━━━━\u001b[0m\u001b[37m\u001b[0m \u001b[1m0s\u001b[0m 4ms/step - loss: 0.3103 - mae: 0.4369 - val_loss: 0.0308 - val_mae: 0.1028 - learning_rate: 2.3842e-09\n",
      "Epoch 344/500\n",
      "\u001b[1m31/31\u001b[0m \u001b[32m━━━━━━━━━━━━━━━━━━━━\u001b[0m\u001b[37m\u001b[0m \u001b[1m0s\u001b[0m 4ms/step - loss: 0.3216 - mae: 0.4366 - val_loss: 0.0308 - val_mae: 0.1029 - learning_rate: 2.3842e-09\n",
      "Epoch 345/500\n",
      "\u001b[1m31/31\u001b[0m \u001b[32m━━━━━━━━━━━━━━━━━━━━\u001b[0m\u001b[37m\u001b[0m \u001b[1m0s\u001b[0m 5ms/step - loss: 0.2753 - mae: 0.4113 - val_loss: 0.0308 - val_mae: 0.1030 - learning_rate: 2.3842e-09\n",
      "Epoch 346/500\n",
      "\u001b[1m31/31\u001b[0m \u001b[32m━━━━━━━━━━━━━━━━━━━━\u001b[0m\u001b[37m\u001b[0m \u001b[1m0s\u001b[0m 5ms/step - loss: 0.2641 - mae: 0.3940 - val_loss: 0.0308 - val_mae: 0.1029 - learning_rate: 2.3842e-09\n",
      "Epoch 347/500\n",
      "\u001b[1m31/31\u001b[0m \u001b[32m━━━━━━━━━━━━━━━━━━━━\u001b[0m\u001b[37m\u001b[0m \u001b[1m0s\u001b[0m 5ms/step - loss: 0.2807 - mae: 0.4089 - val_loss: 0.0308 - val_mae: 0.1030 - learning_rate: 2.3842e-09\n",
      "Epoch 348/500\n",
      "\u001b[1m31/31\u001b[0m \u001b[32m━━━━━━━━━━━━━━━━━━━━\u001b[0m\u001b[37m\u001b[0m \u001b[1m0s\u001b[0m 5ms/step - loss: 0.3128 - mae: 0.4390 - val_loss: 0.0308 - val_mae: 0.1029 - learning_rate: 2.3842e-09\n",
      "Epoch 349/500\n",
      "\u001b[1m31/31\u001b[0m \u001b[32m━━━━━━━━━━━━━━━━━━━━\u001b[0m\u001b[37m\u001b[0m \u001b[1m0s\u001b[0m 5ms/step - loss: 0.2818 - mae: 0.4200 - val_loss: 0.0308 - val_mae: 0.1028 - learning_rate: 2.3842e-09\n",
      "Epoch 350/500\n",
      "\u001b[1m31/31\u001b[0m \u001b[32m━━━━━━━━━━━━━━━━━━━━\u001b[0m\u001b[37m\u001b[0m \u001b[1m0s\u001b[0m 4ms/step - loss: 0.2821 - mae: 0.4122 - val_loss: 0.0307 - val_mae: 0.1026 - learning_rate: 2.3842e-09\n",
      "Epoch 351/500\n",
      "\u001b[1m31/31\u001b[0m \u001b[32m━━━━━━━━━━━━━━━━━━━━\u001b[0m\u001b[37m\u001b[0m \u001b[1m0s\u001b[0m 4ms/step - loss: 0.2921 - mae: 0.4135 - val_loss: 0.0308 - val_mae: 0.1030 - learning_rate: 2.3842e-09\n",
      "Epoch 352/500\n",
      "\u001b[1m31/31\u001b[0m \u001b[32m━━━━━━━━━━━━━━━━━━━━\u001b[0m\u001b[37m\u001b[0m \u001b[1m0s\u001b[0m 4ms/step - loss: 0.2727 - mae: 0.4085 - val_loss: 0.0308 - val_mae: 0.1027 - learning_rate: 1.1921e-09\n",
      "Epoch 353/500\n",
      "\u001b[1m31/31\u001b[0m \u001b[32m━━━━━━━━━━━━━━━━━━━━\u001b[0m\u001b[37m\u001b[0m \u001b[1m0s\u001b[0m 4ms/step - loss: 0.2971 - mae: 0.4207 - val_loss: 0.0309 - val_mae: 0.1031 - learning_rate: 1.1921e-09\n",
      "Epoch 354/500\n",
      "\u001b[1m31/31\u001b[0m \u001b[32m━━━━━━━━━━━━━━━━━━━━\u001b[0m\u001b[37m\u001b[0m \u001b[1m0s\u001b[0m 4ms/step - loss: 0.2693 - mae: 0.4096 - val_loss: 0.0309 - val_mae: 0.1031 - learning_rate: 1.1921e-09\n",
      "Epoch 355/500\n",
      "\u001b[1m31/31\u001b[0m \u001b[32m━━━━━━━━━━━━━━━━━━━━\u001b[0m\u001b[37m\u001b[0m \u001b[1m0s\u001b[0m 4ms/step - loss: 0.2759 - mae: 0.4153 - val_loss: 0.0307 - val_mae: 0.1026 - learning_rate: 1.1921e-09\n",
      "Epoch 356/500\n",
      "\u001b[1m31/31\u001b[0m \u001b[32m━━━━━━━━━━━━━━━━━━━━\u001b[0m\u001b[37m\u001b[0m \u001b[1m0s\u001b[0m 4ms/step - loss: 0.2993 - mae: 0.4262 - val_loss: 0.0307 - val_mae: 0.1027 - learning_rate: 1.1921e-09\n",
      "Epoch 357/500\n",
      "\u001b[1m31/31\u001b[0m \u001b[32m━━━━━━━━━━━━━━━━━━━━\u001b[0m\u001b[37m\u001b[0m \u001b[1m0s\u001b[0m 4ms/step - loss: 0.2918 - mae: 0.4173 - val_loss: 0.0310 - val_mae: 0.1034 - learning_rate: 1.1921e-09\n",
      "Epoch 358/500\n",
      "\u001b[1m31/31\u001b[0m \u001b[32m━━━━━━━━━━━━━━━━━━━━\u001b[0m\u001b[37m\u001b[0m \u001b[1m0s\u001b[0m 4ms/step - loss: 0.3281 - mae: 0.4508 - val_loss: 0.0309 - val_mae: 0.1032 - learning_rate: 1.1921e-09\n",
      "Epoch 359/500\n",
      "\u001b[1m31/31\u001b[0m \u001b[32m━━━━━━━━━━━━━━━━━━━━\u001b[0m\u001b[37m\u001b[0m \u001b[1m0s\u001b[0m 4ms/step - loss: 0.2901 - mae: 0.4184 - val_loss: 0.0310 - val_mae: 0.1034 - learning_rate: 1.1921e-09\n",
      "Epoch 360/500\n",
      "\u001b[1m31/31\u001b[0m \u001b[32m━━━━━━━━━━━━━━━━━━━━\u001b[0m\u001b[37m\u001b[0m \u001b[1m0s\u001b[0m 5ms/step - loss: 0.2687 - mae: 0.3988 - val_loss: 0.0311 - val_mae: 0.1037 - learning_rate: 1.1921e-09\n",
      "Epoch 361/500\n",
      "\u001b[1m31/31\u001b[0m \u001b[32m━━━━━━━━━━━━━━━━━━━━\u001b[0m\u001b[37m\u001b[0m \u001b[1m0s\u001b[0m 5ms/step - loss: 0.2733 - mae: 0.4010 - val_loss: 0.0310 - val_mae: 0.1035 - learning_rate: 1.1921e-09\n",
      "Epoch 362/500\n",
      "\u001b[1m31/31\u001b[0m \u001b[32m━━━━━━━━━━━━━━━━━━━━\u001b[0m\u001b[37m\u001b[0m \u001b[1m0s\u001b[0m 5ms/step - loss: 0.2820 - mae: 0.4209 - val_loss: 0.0309 - val_mae: 0.1031 - learning_rate: 5.9605e-10\n",
      "Epoch 363/500\n",
      "\u001b[1m31/31\u001b[0m \u001b[32m━━━━━━━━━━━━━━━━━━━━\u001b[0m\u001b[37m\u001b[0m \u001b[1m0s\u001b[0m 5ms/step - loss: 0.2883 - mae: 0.4128 - val_loss: 0.0307 - val_mae: 0.1028 - learning_rate: 5.9605e-10\n",
      "Epoch 364/500\n",
      "\u001b[1m31/31\u001b[0m \u001b[32m━━━━━━━━━━━━━━━━━━━━\u001b[0m\u001b[37m\u001b[0m \u001b[1m0s\u001b[0m 5ms/step - loss: 0.3281 - mae: 0.4475 - val_loss: 0.0310 - val_mae: 0.1035 - learning_rate: 5.9605e-10\n",
      "Epoch 365/500\n",
      "\u001b[1m31/31\u001b[0m \u001b[32m━━━━━━━━━━━━━━━━━━━━\u001b[0m\u001b[37m\u001b[0m \u001b[1m0s\u001b[0m 5ms/step - loss: 0.2876 - mae: 0.4084 - val_loss: 0.0310 - val_mae: 0.1034 - learning_rate: 5.9605e-10\n",
      "Epoch 366/500\n",
      "\u001b[1m31/31\u001b[0m \u001b[32m━━━━━━━━━━━━━━━━━━━━\u001b[0m\u001b[37m\u001b[0m \u001b[1m0s\u001b[0m 5ms/step - loss: 0.2970 - mae: 0.4178 - val_loss: 0.0310 - val_mae: 0.1034 - learning_rate: 5.9605e-10\n",
      "Epoch 367/500\n",
      "\u001b[1m31/31\u001b[0m \u001b[32m━━━━━━━━━━━━━━━━━━━━\u001b[0m\u001b[37m\u001b[0m \u001b[1m0s\u001b[0m 5ms/step - loss: 0.2883 - mae: 0.4081 - val_loss: 0.0310 - val_mae: 0.1035 - learning_rate: 5.9605e-10\n",
      "Epoch 368/500\n",
      "\u001b[1m31/31\u001b[0m \u001b[32m━━━━━━━━━━━━━━━━━━━━\u001b[0m\u001b[37m\u001b[0m \u001b[1m0s\u001b[0m 5ms/step - loss: 0.2796 - mae: 0.4093 - val_loss: 0.0309 - val_mae: 0.1031 - learning_rate: 5.9605e-10\n",
      "Epoch 369/500\n",
      "\u001b[1m31/31\u001b[0m \u001b[32m━━━━━━━━━━━━━━━━━━━━\u001b[0m\u001b[37m\u001b[0m \u001b[1m0s\u001b[0m 5ms/step - loss: 0.2695 - mae: 0.4054 - val_loss: 0.0309 - val_mae: 0.1032 - learning_rate: 5.9605e-10\n",
      "Epoch 370/500\n",
      "\u001b[1m31/31\u001b[0m \u001b[32m━━━━━━━━━━━━━━━━━━━━\u001b[0m\u001b[37m\u001b[0m \u001b[1m0s\u001b[0m 4ms/step - loss: 0.2974 - mae: 0.4294 - val_loss: 0.0309 - val_mae: 0.1031 - learning_rate: 5.9605e-10\n",
      "Epoch 371/500\n",
      "\u001b[1m31/31\u001b[0m \u001b[32m━━━━━━━━━━━━━━━━━━━━\u001b[0m\u001b[37m\u001b[0m \u001b[1m0s\u001b[0m 4ms/step - loss: 0.2664 - mae: 0.4101 - val_loss: 0.0310 - val_mae: 0.1034 - learning_rate: 5.9605e-10\n",
      "Epoch 372/500\n",
      "\u001b[1m31/31\u001b[0m \u001b[32m━━━━━━━━━━━━━━━━━━━━\u001b[0m\u001b[37m\u001b[0m \u001b[1m0s\u001b[0m 4ms/step - loss: 0.2978 - mae: 0.4247 - val_loss: 0.0308 - val_mae: 0.1030 - learning_rate: 2.9802e-10\n",
      "Epoch 373/500\n",
      "\u001b[1m31/31\u001b[0m \u001b[32m━━━━━━━━━━━━━━━━━━━━\u001b[0m\u001b[37m\u001b[0m \u001b[1m0s\u001b[0m 5ms/step - loss: 0.3136 - mae: 0.4307 - val_loss: 0.0309 - val_mae: 0.1033 - learning_rate: 2.9802e-10\n",
      "Epoch 374/500\n",
      "\u001b[1m31/31\u001b[0m \u001b[32m━━━━━━━━━━━━━━━━━━━━\u001b[0m\u001b[37m\u001b[0m \u001b[1m0s\u001b[0m 4ms/step - loss: 0.2922 - mae: 0.4189 - val_loss: 0.0310 - val_mae: 0.1035 - learning_rate: 2.9802e-10\n",
      "Epoch 375/500\n",
      "\u001b[1m31/31\u001b[0m \u001b[32m━━━━━━━━━━━━━━━━━━━━\u001b[0m\u001b[37m\u001b[0m \u001b[1m0s\u001b[0m 5ms/step - loss: 0.3304 - mae: 0.4468 - val_loss: 0.0310 - val_mae: 0.1036 - learning_rate: 2.9802e-10\n",
      "Epoch 376/500\n",
      "\u001b[1m31/31\u001b[0m \u001b[32m━━━━━━━━━━━━━━━━━━━━\u001b[0m\u001b[37m\u001b[0m \u001b[1m0s\u001b[0m 5ms/step - loss: 0.2735 - mae: 0.4093 - val_loss: 0.0311 - val_mae: 0.1038 - learning_rate: 2.9802e-10\n",
      "Epoch 377/500\n",
      "\u001b[1m31/31\u001b[0m \u001b[32m━━━━━━━━━━━━━━━━━━━━\u001b[0m\u001b[37m\u001b[0m \u001b[1m0s\u001b[0m 5ms/step - loss: 0.2757 - mae: 0.4044 - val_loss: 0.0310 - val_mae: 0.1035 - learning_rate: 2.9802e-10\n",
      "Epoch 378/500\n",
      "\u001b[1m31/31\u001b[0m \u001b[32m━━━━━━━━━━━━━━━━━━━━\u001b[0m\u001b[37m\u001b[0m \u001b[1m0s\u001b[0m 5ms/step - loss: 0.3160 - mae: 0.4437 - val_loss: 0.0311 - val_mae: 0.1036 - learning_rate: 2.9802e-10\n",
      "Epoch 379/500\n",
      "\u001b[1m31/31\u001b[0m \u001b[32m━━━━━━━━━━━━━━━━━━━━\u001b[0m\u001b[37m\u001b[0m \u001b[1m0s\u001b[0m 5ms/step - loss: 0.2920 - mae: 0.4204 - val_loss: 0.0310 - val_mae: 0.1035 - learning_rate: 2.9802e-10\n",
      "Epoch 380/500\n",
      "\u001b[1m31/31\u001b[0m \u001b[32m━━━━━━━━━━━━━━━━━━━━\u001b[0m\u001b[37m\u001b[0m \u001b[1m0s\u001b[0m 5ms/step - loss: 0.2677 - mae: 0.3986 - val_loss: 0.0310 - val_mae: 0.1035 - learning_rate: 2.9802e-10\n",
      "Epoch 381/500\n",
      "\u001b[1m31/31\u001b[0m \u001b[32m━━━━━━━━━━━━━━━━━━━━\u001b[0m\u001b[37m\u001b[0m \u001b[1m0s\u001b[0m 5ms/step - loss: 0.2863 - mae: 0.4135 - val_loss: 0.0312 - val_mae: 0.1041 - learning_rate: 2.9802e-10\n",
      "Epoch 382/500\n",
      "\u001b[1m31/31\u001b[0m \u001b[32m━━━━━━━━━━━━━━━━━━━━\u001b[0m\u001b[37m\u001b[0m \u001b[1m0s\u001b[0m 4ms/step - loss: 0.2936 - mae: 0.4256 - val_loss: 0.0312 - val_mae: 0.1041 - learning_rate: 1.4901e-10\n",
      "Epoch 383/500\n",
      "\u001b[1m31/31\u001b[0m \u001b[32m━━━━━━━━━━━━━━━━━━━━\u001b[0m\u001b[37m\u001b[0m \u001b[1m0s\u001b[0m 4ms/step - loss: 0.3121 - mae: 0.4382 - val_loss: 0.0311 - val_mae: 0.1039 - learning_rate: 1.4901e-10\n",
      "Epoch 384/500\n",
      "\u001b[1m31/31\u001b[0m \u001b[32m━━━━━━━━━━━━━━━━━━━━\u001b[0m\u001b[37m\u001b[0m \u001b[1m0s\u001b[0m 4ms/step - loss: 0.2694 - mae: 0.4025 - val_loss: 0.0311 - val_mae: 0.1038 - learning_rate: 1.4901e-10\n",
      "Epoch 385/500\n",
      "\u001b[1m31/31\u001b[0m \u001b[32m━━━━━━━━━━━━━━━━━━━━\u001b[0m\u001b[37m\u001b[0m \u001b[1m0s\u001b[0m 6ms/step - loss: 0.3046 - mae: 0.4351 - val_loss: 0.0309 - val_mae: 0.1033 - learning_rate: 1.4901e-10\n",
      "Epoch 386/500\n",
      "\u001b[1m31/31\u001b[0m \u001b[32m━━━━━━━━━━━━━━━━━━━━\u001b[0m\u001b[37m\u001b[0m \u001b[1m0s\u001b[0m 4ms/step - loss: 0.2729 - mae: 0.4061 - val_loss: 0.0308 - val_mae: 0.1029 - learning_rate: 1.4901e-10\n",
      "Epoch 387/500\n",
      "\u001b[1m31/31\u001b[0m \u001b[32m━━━━━━━━━━━━━━━━━━━━\u001b[0m\u001b[37m\u001b[0m \u001b[1m0s\u001b[0m 5ms/step - loss: 0.2930 - mae: 0.4233 - val_loss: 0.0309 - val_mae: 0.1031 - learning_rate: 1.4901e-10\n",
      "Epoch 388/500\n",
      "\u001b[1m31/31\u001b[0m \u001b[32m━━━━━━━━━━━━━━━━━━━━\u001b[0m\u001b[37m\u001b[0m \u001b[1m0s\u001b[0m 4ms/step - loss: 0.2937 - mae: 0.4307 - val_loss: 0.0307 - val_mae: 0.1025 - learning_rate: 1.4901e-10\n",
      "Epoch 389/500\n",
      "\u001b[1m31/31\u001b[0m \u001b[32m━━━━━━━━━━━━━━━━━━━━\u001b[0m\u001b[37m\u001b[0m \u001b[1m0s\u001b[0m 4ms/step - loss: 0.3018 - mae: 0.4308 - val_loss: 0.0307 - val_mae: 0.1027 - learning_rate: 1.4901e-10\n",
      "Epoch 390/500\n",
      "\u001b[1m31/31\u001b[0m \u001b[32m━━━━━━━━━━━━━━━━━━━━\u001b[0m\u001b[37m\u001b[0m \u001b[1m0s\u001b[0m 4ms/step - loss: 0.2672 - mae: 0.4007 - val_loss: 0.0308 - val_mae: 0.1028 - learning_rate: 1.4901e-10\n",
      "Epoch 391/500\n",
      "\u001b[1m31/31\u001b[0m \u001b[32m━━━━━━━━━━━━━━━━━━━━\u001b[0m\u001b[37m\u001b[0m \u001b[1m0s\u001b[0m 4ms/step - loss: 0.2870 - mae: 0.4220 - val_loss: 0.0307 - val_mae: 0.1027 - learning_rate: 1.4901e-10\n",
      "Epoch 392/500\n",
      "\u001b[1m31/31\u001b[0m \u001b[32m━━━━━━━━━━━━━━━━━━━━\u001b[0m\u001b[37m\u001b[0m \u001b[1m0s\u001b[0m 4ms/step - loss: 0.2714 - mae: 0.3975 - val_loss: 0.0309 - val_mae: 0.1033 - learning_rate: 7.4506e-11\n",
      "Epoch 393/500\n",
      "\u001b[1m31/31\u001b[0m \u001b[32m━━━━━━━━━━━━━━━━━━━━\u001b[0m\u001b[37m\u001b[0m \u001b[1m0s\u001b[0m 5ms/step - loss: 0.2771 - mae: 0.4028 - val_loss: 0.0310 - val_mae: 0.1035 - learning_rate: 7.4506e-11\n",
      "Epoch 394/500\n",
      "\u001b[1m31/31\u001b[0m \u001b[32m━━━━━━━━━━━━━━━━━━━━\u001b[0m\u001b[37m\u001b[0m \u001b[1m0s\u001b[0m 4ms/step - loss: 0.3022 - mae: 0.4370 - val_loss: 0.0312 - val_mae: 0.1040 - learning_rate: 7.4506e-11\n",
      "Epoch 395/500\n",
      "\u001b[1m31/31\u001b[0m \u001b[32m━━━━━━━━━━━━━━━━━━━━\u001b[0m\u001b[37m\u001b[0m \u001b[1m0s\u001b[0m 5ms/step - loss: 0.3032 - mae: 0.4307 - val_loss: 0.0313 - val_mae: 0.1044 - learning_rate: 7.4506e-11\n",
      "Epoch 396/500\n",
      "\u001b[1m31/31\u001b[0m \u001b[32m━━━━━━━━━━━━━━━━━━━━\u001b[0m\u001b[37m\u001b[0m \u001b[1m0s\u001b[0m 5ms/step - loss: 0.2939 - mae: 0.4175 - val_loss: 0.0312 - val_mae: 0.1040 - learning_rate: 7.4506e-11\n",
      "Epoch 397/500\n",
      "\u001b[1m31/31\u001b[0m \u001b[32m━━━━━━━━━━━━━━━━━━━━\u001b[0m\u001b[37m\u001b[0m \u001b[1m0s\u001b[0m 4ms/step - loss: 0.3032 - mae: 0.4287 - val_loss: 0.0312 - val_mae: 0.1040 - learning_rate: 7.4506e-11\n",
      "Epoch 398/500\n",
      "\u001b[1m31/31\u001b[0m \u001b[32m━━━━━━━━━━━━━━━━━━━━\u001b[0m\u001b[37m\u001b[0m \u001b[1m0s\u001b[0m 4ms/step - loss: 0.2858 - mae: 0.4136 - val_loss: 0.0312 - val_mae: 0.1041 - learning_rate: 7.4506e-11\n",
      "Epoch 399/500\n",
      "\u001b[1m31/31\u001b[0m \u001b[32m━━━━━━━━━━━━━━━━━━━━\u001b[0m\u001b[37m\u001b[0m \u001b[1m0s\u001b[0m 4ms/step - loss: 0.2982 - mae: 0.4173 - val_loss: 0.0312 - val_mae: 0.1040 - learning_rate: 7.4506e-11\n",
      "Epoch 400/500\n",
      "\u001b[1m31/31\u001b[0m \u001b[32m━━━━━━━━━━━━━━━━━━━━\u001b[0m\u001b[37m\u001b[0m \u001b[1m0s\u001b[0m 5ms/step - loss: 0.3031 - mae: 0.4290 - val_loss: 0.0312 - val_mae: 0.1040 - learning_rate: 7.4506e-11\n",
      "Epoch 401/500\n",
      "\u001b[1m31/31\u001b[0m \u001b[32m━━━━━━━━━━━━━━━━━━━━\u001b[0m\u001b[37m\u001b[0m \u001b[1m0s\u001b[0m 4ms/step - loss: 0.2719 - mae: 0.4029 - val_loss: 0.0310 - val_mae: 0.1035 - learning_rate: 7.4506e-11\n",
      "Epoch 402/500\n",
      "\u001b[1m31/31\u001b[0m \u001b[32m━━━━━━━━━━━━━━━━━━━━\u001b[0m\u001b[37m\u001b[0m \u001b[1m0s\u001b[0m 4ms/step - loss: 0.2664 - mae: 0.4016 - val_loss: 0.0310 - val_mae: 0.1035 - learning_rate: 3.7253e-11\n",
      "Epoch 403/500\n",
      "\u001b[1m31/31\u001b[0m \u001b[32m━━━━━━━━━━━━━━━━━━━━\u001b[0m\u001b[37m\u001b[0m \u001b[1m0s\u001b[0m 4ms/step - loss: 0.2827 - mae: 0.4196 - val_loss: 0.0308 - val_mae: 0.1028 - learning_rate: 3.7253e-11\n",
      "Epoch 404/500\n",
      "\u001b[1m31/31\u001b[0m \u001b[32m━━━━━━━━━━━━━━━━━━━━\u001b[0m\u001b[37m\u001b[0m \u001b[1m0s\u001b[0m 4ms/step - loss: 0.2807 - mae: 0.4070 - val_loss: 0.0308 - val_mae: 0.1029 - learning_rate: 3.7253e-11\n",
      "Epoch 405/500\n",
      "\u001b[1m31/31\u001b[0m \u001b[32m━━━━━━━━━━━━━━━━━━━━\u001b[0m\u001b[37m\u001b[0m \u001b[1m0s\u001b[0m 5ms/step - loss: 0.2830 - mae: 0.4097 - val_loss: 0.0310 - val_mae: 0.1034 - learning_rate: 3.7253e-11\n",
      "Epoch 406/500\n",
      "\u001b[1m31/31\u001b[0m \u001b[32m━━━━━━━━━━━━━━━━━━━━\u001b[0m\u001b[37m\u001b[0m \u001b[1m0s\u001b[0m 5ms/step - loss: 0.2380 - mae: 0.3749 - val_loss: 0.0309 - val_mae: 0.1031 - learning_rate: 3.7253e-11\n",
      "Epoch 407/500\n",
      "\u001b[1m31/31\u001b[0m \u001b[32m━━━━━━━━━━━━━━━━━━━━\u001b[0m\u001b[37m\u001b[0m \u001b[1m0s\u001b[0m 5ms/step - loss: 0.3159 - mae: 0.4348 - val_loss: 0.0309 - val_mae: 0.1030 - learning_rate: 3.7253e-11\n",
      "Epoch 408/500\n",
      "\u001b[1m31/31\u001b[0m \u001b[32m━━━━━━━━━━━━━━━━━━━━\u001b[0m\u001b[37m\u001b[0m \u001b[1m0s\u001b[0m 5ms/step - loss: 0.2647 - mae: 0.3902 - val_loss: 0.0308 - val_mae: 0.1030 - learning_rate: 3.7253e-11\n",
      "Epoch 409/500\n",
      "\u001b[1m31/31\u001b[0m \u001b[32m━━━━━━━━━━━━━━━━━━━━\u001b[0m\u001b[37m\u001b[0m \u001b[1m0s\u001b[0m 5ms/step - loss: 0.3652 - mae: 0.4678 - val_loss: 0.0310 - val_mae: 0.1034 - learning_rate: 3.7253e-11\n",
      "Epoch 410/500\n",
      "\u001b[1m31/31\u001b[0m \u001b[32m━━━━━━━━━━━━━━━━━━━━\u001b[0m\u001b[37m\u001b[0m \u001b[1m0s\u001b[0m 6ms/step - loss: 0.3114 - mae: 0.4347 - val_loss: 0.0310 - val_mae: 0.1035 - learning_rate: 3.7253e-11\n",
      "Epoch 411/500\n",
      "\u001b[1m31/31\u001b[0m \u001b[32m━━━━━━━━━━━━━━━━━━━━\u001b[0m\u001b[37m\u001b[0m \u001b[1m0s\u001b[0m 4ms/step - loss: 0.2834 - mae: 0.4195 - val_loss: 0.0309 - val_mae: 0.1031 - learning_rate: 3.7253e-11\n",
      "Epoch 412/500\n",
      "\u001b[1m31/31\u001b[0m \u001b[32m━━━━━━━━━━━━━━━━━━━━\u001b[0m\u001b[37m\u001b[0m \u001b[1m0s\u001b[0m 4ms/step - loss: 0.3042 - mae: 0.4256 - val_loss: 0.0309 - val_mae: 0.1030 - learning_rate: 1.8626e-11\n",
      "Epoch 413/500\n",
      "\u001b[1m31/31\u001b[0m \u001b[32m━━━━━━━━━━━━━━━━━━━━\u001b[0m\u001b[37m\u001b[0m \u001b[1m0s\u001b[0m 4ms/step - loss: 0.2821 - mae: 0.4122 - val_loss: 0.0310 - val_mae: 0.1035 - learning_rate: 1.8626e-11\n",
      "Epoch 414/500\n",
      "\u001b[1m31/31\u001b[0m \u001b[32m━━━━━━━━━━━━━━━━━━━━\u001b[0m\u001b[37m\u001b[0m \u001b[1m0s\u001b[0m 5ms/step - loss: 0.2760 - mae: 0.4083 - val_loss: 0.0310 - val_mae: 0.1036 - learning_rate: 1.8626e-11\n",
      "Epoch 415/500\n",
      "\u001b[1m31/31\u001b[0m \u001b[32m━━━━━━━━━━━━━━━━━━━━\u001b[0m\u001b[37m\u001b[0m \u001b[1m0s\u001b[0m 4ms/step - loss: 0.2933 - mae: 0.4203 - val_loss: 0.0311 - val_mae: 0.1037 - learning_rate: 1.8626e-11\n",
      "Epoch 416/500\n",
      "\u001b[1m31/31\u001b[0m \u001b[32m━━━━━━━━━━━━━━━━━━━━\u001b[0m\u001b[37m\u001b[0m \u001b[1m0s\u001b[0m 5ms/step - loss: 0.3240 - mae: 0.4285 - val_loss: 0.0312 - val_mae: 0.1041 - learning_rate: 1.8626e-11\n",
      "Epoch 417/500\n",
      "\u001b[1m31/31\u001b[0m \u001b[32m━━━━━━━━━━━━━━━━━━━━\u001b[0m\u001b[37m\u001b[0m \u001b[1m0s\u001b[0m 5ms/step - loss: 0.2780 - mae: 0.4075 - val_loss: 0.0310 - val_mae: 0.1034 - learning_rate: 1.8626e-11\n",
      "Epoch 418/500\n",
      "\u001b[1m31/31\u001b[0m \u001b[32m━━━━━━━━━━━━━━━━━━━━\u001b[0m\u001b[37m\u001b[0m \u001b[1m0s\u001b[0m 5ms/step - loss: 0.2926 - mae: 0.4176 - val_loss: 0.0310 - val_mae: 0.1034 - learning_rate: 1.8626e-11\n",
      "Epoch 419/500\n",
      "\u001b[1m31/31\u001b[0m \u001b[32m━━━━━━━━━━━━━━━━━━━━\u001b[0m\u001b[37m\u001b[0m \u001b[1m0s\u001b[0m 5ms/step - loss: 0.2962 - mae: 0.4341 - val_loss: 0.0309 - val_mae: 0.1033 - learning_rate: 1.8626e-11\n",
      "Epoch 420/500\n",
      "\u001b[1m31/31\u001b[0m \u001b[32m━━━━━━━━━━━━━━━━━━━━\u001b[0m\u001b[37m\u001b[0m \u001b[1m0s\u001b[0m 4ms/step - loss: 0.2754 - mae: 0.4104 - val_loss: 0.0310 - val_mae: 0.1035 - learning_rate: 1.8626e-11\n",
      "Epoch 421/500\n",
      "\u001b[1m31/31\u001b[0m \u001b[32m━━━━━━━━━━━━━━━━━━━━\u001b[0m\u001b[37m\u001b[0m \u001b[1m0s\u001b[0m 5ms/step - loss: 0.3240 - mae: 0.4367 - val_loss: 0.0310 - val_mae: 0.1037 - learning_rate: 1.8626e-11\n",
      "Epoch 422/500\n",
      "\u001b[1m31/31\u001b[0m \u001b[32m━━━━━━━━━━━━━━━━━━━━\u001b[0m\u001b[37m\u001b[0m \u001b[1m0s\u001b[0m 4ms/step - loss: 0.2944 - mae: 0.4306 - val_loss: 0.0310 - val_mae: 0.1035 - learning_rate: 9.3132e-12\n",
      "Epoch 423/500\n",
      "\u001b[1m31/31\u001b[0m \u001b[32m━━━━━━━━━━━━━━━━━━━━\u001b[0m\u001b[37m\u001b[0m \u001b[1m0s\u001b[0m 4ms/step - loss: 0.3007 - mae: 0.4156 - val_loss: 0.0309 - val_mae: 0.1031 - learning_rate: 9.3132e-12\n",
      "Epoch 424/500\n",
      "\u001b[1m31/31\u001b[0m \u001b[32m━━━━━━━━━━━━━━━━━━━━\u001b[0m\u001b[37m\u001b[0m \u001b[1m0s\u001b[0m 4ms/step - loss: 0.2918 - mae: 0.4275 - val_loss: 0.0309 - val_mae: 0.1032 - learning_rate: 9.3132e-12\n",
      "Epoch 425/500\n",
      "\u001b[1m31/31\u001b[0m \u001b[32m━━━━━━━━━━━━━━━━━━━━\u001b[0m\u001b[37m\u001b[0m \u001b[1m0s\u001b[0m 4ms/step - loss: 0.2635 - mae: 0.4025 - val_loss: 0.0306 - val_mae: 0.1024 - learning_rate: 9.3132e-12\n",
      "Epoch 426/500\n",
      "\u001b[1m31/31\u001b[0m \u001b[32m━━━━━━━━━━━━━━━━━━━━\u001b[0m\u001b[37m\u001b[0m \u001b[1m0s\u001b[0m 5ms/step - loss: 0.2659 - mae: 0.3995 - val_loss: 0.0308 - val_mae: 0.1028 - learning_rate: 9.3132e-12\n",
      "Epoch 427/500\n",
      "\u001b[1m31/31\u001b[0m \u001b[32m━━━━━━━━━━━━━━━━━━━━\u001b[0m\u001b[37m\u001b[0m \u001b[1m0s\u001b[0m 5ms/step - loss: 0.3009 - mae: 0.4260 - val_loss: 0.0309 - val_mae: 0.1032 - learning_rate: 9.3132e-12\n",
      "Epoch 428/500\n",
      "\u001b[1m31/31\u001b[0m \u001b[32m━━━━━━━━━━━━━━━━━━━━\u001b[0m\u001b[37m\u001b[0m \u001b[1m0s\u001b[0m 4ms/step - loss: 0.2855 - mae: 0.4156 - val_loss: 0.0309 - val_mae: 0.1033 - learning_rate: 9.3132e-12\n",
      "Epoch 429/500\n",
      "\u001b[1m31/31\u001b[0m \u001b[32m━━━━━━━━━━━━━━━━━━━━\u001b[0m\u001b[37m\u001b[0m \u001b[1m0s\u001b[0m 4ms/step - loss: 0.3012 - mae: 0.4274 - val_loss: 0.0309 - val_mae: 0.1033 - learning_rate: 9.3132e-12\n",
      "Epoch 430/500\n",
      "\u001b[1m31/31\u001b[0m \u001b[32m━━━━━━━━━━━━━━━━━━━━\u001b[0m\u001b[37m\u001b[0m \u001b[1m0s\u001b[0m 4ms/step - loss: 0.2869 - mae: 0.4249 - val_loss: 0.0308 - val_mae: 0.1030 - learning_rate: 9.3132e-12\n",
      "Epoch 431/500\n",
      "\u001b[1m31/31\u001b[0m \u001b[32m━━━━━━━━━━━━━━━━━━━━\u001b[0m\u001b[37m\u001b[0m \u001b[1m0s\u001b[0m 4ms/step - loss: 0.3047 - mae: 0.4348 - val_loss: 0.0309 - val_mae: 0.1034 - learning_rate: 9.3132e-12\n",
      "Epoch 432/500\n",
      "\u001b[1m31/31\u001b[0m \u001b[32m━━━━━━━━━━━━━━━━━━━━\u001b[0m\u001b[37m\u001b[0m \u001b[1m0s\u001b[0m 4ms/step - loss: 0.3042 - mae: 0.4335 - val_loss: 0.0310 - val_mae: 0.1037 - learning_rate: 4.6566e-12\n",
      "Epoch 433/500\n",
      "\u001b[1m31/31\u001b[0m \u001b[32m━━━━━━━━━━━━━━━━━━━━\u001b[0m\u001b[37m\u001b[0m \u001b[1m0s\u001b[0m 6ms/step - loss: 0.2867 - mae: 0.4148 - val_loss: 0.0312 - val_mae: 0.1040 - learning_rate: 4.6566e-12\n",
      "Epoch 434/500\n",
      "\u001b[1m31/31\u001b[0m \u001b[32m━━━━━━━━━━━━━━━━━━━━\u001b[0m\u001b[37m\u001b[0m \u001b[1m0s\u001b[0m 5ms/step - loss: 0.2879 - mae: 0.4195 - val_loss: 0.0313 - val_mae: 0.1043 - learning_rate: 4.6566e-12\n",
      "Epoch 435/500\n",
      "\u001b[1m31/31\u001b[0m \u001b[32m━━━━━━━━━━━━━━━━━━━━\u001b[0m\u001b[37m\u001b[0m \u001b[1m0s\u001b[0m 5ms/step - loss: 0.3226 - mae: 0.4471 - val_loss: 0.0311 - val_mae: 0.1039 - learning_rate: 4.6566e-12\n",
      "Epoch 436/500\n",
      "\u001b[1m31/31\u001b[0m \u001b[32m━━━━━━━━━━━━━━━━━━━━\u001b[0m\u001b[37m\u001b[0m \u001b[1m0s\u001b[0m 5ms/step - loss: 0.2554 - mae: 0.3982 - val_loss: 0.0313 - val_mae: 0.1042 - learning_rate: 4.6566e-12\n",
      "Epoch 437/500\n",
      "\u001b[1m31/31\u001b[0m \u001b[32m━━━━━━━━━━━━━━━━━━━━\u001b[0m\u001b[37m\u001b[0m \u001b[1m0s\u001b[0m 5ms/step - loss: 0.3278 - mae: 0.4381 - val_loss: 0.0311 - val_mae: 0.1037 - learning_rate: 4.6566e-12\n",
      "Epoch 438/500\n",
      "\u001b[1m31/31\u001b[0m \u001b[32m━━━━━━━━━━━━━━━━━━━━\u001b[0m\u001b[37m\u001b[0m \u001b[1m0s\u001b[0m 5ms/step - loss: 0.2561 - mae: 0.3932 - val_loss: 0.0309 - val_mae: 0.1031 - learning_rate: 4.6566e-12\n",
      "Epoch 439/500\n",
      "\u001b[1m31/31\u001b[0m \u001b[32m━━━━━━━━━━━━━━━━━━━━\u001b[0m\u001b[37m\u001b[0m \u001b[1m0s\u001b[0m 5ms/step - loss: 0.2949 - mae: 0.4117 - val_loss: 0.0308 - val_mae: 0.1028 - learning_rate: 4.6566e-12\n",
      "Epoch 440/500\n",
      "\u001b[1m31/31\u001b[0m \u001b[32m━━━━━━━━━━━━━━━━━━━━\u001b[0m\u001b[37m\u001b[0m \u001b[1m0s\u001b[0m 5ms/step - loss: 0.3301 - mae: 0.4383 - val_loss: 0.0308 - val_mae: 0.1029 - learning_rate: 4.6566e-12\n",
      "Epoch 441/500\n",
      "\u001b[1m31/31\u001b[0m \u001b[32m━━━━━━━━━━━━━━━━━━━━\u001b[0m\u001b[37m\u001b[0m \u001b[1m0s\u001b[0m 4ms/step - loss: 0.3276 - mae: 0.4480 - val_loss: 0.0307 - val_mae: 0.1024 - learning_rate: 4.6566e-12\n",
      "Epoch 442/500\n",
      "\u001b[1m31/31\u001b[0m \u001b[32m━━━━━━━━━━━━━━━━━━━━\u001b[0m\u001b[37m\u001b[0m \u001b[1m0s\u001b[0m 4ms/step - loss: 0.2842 - mae: 0.4172 - val_loss: 0.0307 - val_mae: 0.1027 - learning_rate: 2.3283e-12\n",
      "Epoch 443/500\n",
      "\u001b[1m31/31\u001b[0m \u001b[32m━━━━━━━━━━━━━━━━━━━━\u001b[0m\u001b[37m\u001b[0m \u001b[1m0s\u001b[0m 5ms/step - loss: 0.2919 - mae: 0.4194 - val_loss: 0.0308 - val_mae: 0.1030 - learning_rate: 2.3283e-12\n",
      "Epoch 444/500\n",
      "\u001b[1m31/31\u001b[0m \u001b[32m━━━━━━━━━━━━━━━━━━━━\u001b[0m\u001b[37m\u001b[0m \u001b[1m0s\u001b[0m 4ms/step - loss: 0.3303 - mae: 0.4436 - val_loss: 0.0309 - val_mae: 0.1031 - learning_rate: 2.3283e-12\n",
      "Epoch 445/500\n",
      "\u001b[1m31/31\u001b[0m \u001b[32m━━━━━━━━━━━━━━━━━━━━\u001b[0m\u001b[37m\u001b[0m \u001b[1m0s\u001b[0m 4ms/step - loss: 0.2856 - mae: 0.4123 - val_loss: 0.0309 - val_mae: 0.1033 - learning_rate: 2.3283e-12\n",
      "Epoch 446/500\n",
      "\u001b[1m31/31\u001b[0m \u001b[32m━━━━━━━━━━━━━━━━━━━━\u001b[0m\u001b[37m\u001b[0m \u001b[1m0s\u001b[0m 4ms/step - loss: 0.3184 - mae: 0.4424 - val_loss: 0.0309 - val_mae: 0.1031 - learning_rate: 2.3283e-12\n",
      "Epoch 447/500\n",
      "\u001b[1m31/31\u001b[0m \u001b[32m━━━━━━━━━━━━━━━━━━━━\u001b[0m\u001b[37m\u001b[0m \u001b[1m0s\u001b[0m 4ms/step - loss: 0.3118 - mae: 0.4248 - val_loss: 0.0309 - val_mae: 0.1033 - learning_rate: 2.3283e-12\n",
      "Epoch 448/500\n",
      "\u001b[1m31/31\u001b[0m \u001b[32m━━━━━━━━━━━━━━━━━━━━\u001b[0m\u001b[37m\u001b[0m \u001b[1m0s\u001b[0m 5ms/step - loss: 0.2879 - mae: 0.4189 - val_loss: 0.0310 - val_mae: 0.1034 - learning_rate: 2.3283e-12\n",
      "Epoch 449/500\n",
      "\u001b[1m31/31\u001b[0m \u001b[32m━━━━━━━━━━━━━━━━━━━━\u001b[0m\u001b[37m\u001b[0m \u001b[1m0s\u001b[0m 4ms/step - loss: 0.2844 - mae: 0.4177 - val_loss: 0.0310 - val_mae: 0.1034 - learning_rate: 2.3283e-12\n",
      "Epoch 450/500\n",
      "\u001b[1m31/31\u001b[0m \u001b[32m━━━━━━━━━━━━━━━━━━━━\u001b[0m\u001b[37m\u001b[0m \u001b[1m0s\u001b[0m 4ms/step - loss: 0.2935 - mae: 0.4179 - val_loss: 0.0310 - val_mae: 0.1035 - learning_rate: 2.3283e-12\n",
      "Epoch 451/500\n",
      "\u001b[1m31/31\u001b[0m \u001b[32m━━━━━━━━━━━━━━━━━━━━\u001b[0m\u001b[37m\u001b[0m \u001b[1m0s\u001b[0m 5ms/step - loss: 0.2884 - mae: 0.4192 - val_loss: 0.0310 - val_mae: 0.1036 - learning_rate: 2.3283e-12\n",
      "Epoch 452/500\n",
      "\u001b[1m31/31\u001b[0m \u001b[32m━━━━━━━━━━━━━━━━━━━━\u001b[0m\u001b[37m\u001b[0m \u001b[1m0s\u001b[0m 5ms/step - loss: 0.2724 - mae: 0.4070 - val_loss: 0.0311 - val_mae: 0.1037 - learning_rate: 1.1642e-12\n",
      "Epoch 453/500\n",
      "\u001b[1m31/31\u001b[0m \u001b[32m━━━━━━━━━━━━━━━━━━━━\u001b[0m\u001b[37m\u001b[0m \u001b[1m0s\u001b[0m 4ms/step - loss: 0.2849 - mae: 0.4202 - val_loss: 0.0309 - val_mae: 0.1032 - learning_rate: 1.1642e-12\n",
      "Epoch 454/500\n",
      "\u001b[1m31/31\u001b[0m \u001b[32m━━━━━━━━━━━━━━━━━━━━\u001b[0m\u001b[37m\u001b[0m \u001b[1m0s\u001b[0m 5ms/step - loss: 0.2890 - mae: 0.4267 - val_loss: 0.0309 - val_mae: 0.1031 - learning_rate: 1.1642e-12\n",
      "Epoch 455/500\n",
      "\u001b[1m31/31\u001b[0m \u001b[32m━━━━━━━━━━━━━━━━━━━━\u001b[0m\u001b[37m\u001b[0m \u001b[1m0s\u001b[0m 6ms/step - loss: 0.2640 - mae: 0.3936 - val_loss: 0.0309 - val_mae: 0.1032 - learning_rate: 1.1642e-12\n",
      "Epoch 456/500\n",
      "\u001b[1m31/31\u001b[0m \u001b[32m━━━━━━━━━━━━━━━━━━━━\u001b[0m\u001b[37m\u001b[0m \u001b[1m0s\u001b[0m 4ms/step - loss: 0.2682 - mae: 0.4046 - val_loss: 0.0310 - val_mae: 0.1033 - learning_rate: 1.1642e-12\n",
      "Epoch 457/500\n",
      "\u001b[1m31/31\u001b[0m \u001b[32m━━━━━━━━━━━━━━━━━━━━\u001b[0m\u001b[37m\u001b[0m \u001b[1m0s\u001b[0m 4ms/step - loss: 0.2957 - mae: 0.4256 - val_loss: 0.0310 - val_mae: 0.1034 - learning_rate: 1.1642e-12\n",
      "Epoch 458/500\n",
      "\u001b[1m31/31\u001b[0m \u001b[32m━━━━━━━━━━━━━━━━━━━━\u001b[0m\u001b[37m\u001b[0m \u001b[1m0s\u001b[0m 4ms/step - loss: 0.2797 - mae: 0.4116 - val_loss: 0.0308 - val_mae: 0.1029 - learning_rate: 1.1642e-12\n",
      "Epoch 459/500\n",
      "\u001b[1m31/31\u001b[0m \u001b[32m━━━━━━━━━━━━━━━━━━━━\u001b[0m\u001b[37m\u001b[0m \u001b[1m0s\u001b[0m 4ms/step - loss: 0.2938 - mae: 0.4201 - val_loss: 0.0309 - val_mae: 0.1031 - learning_rate: 1.1642e-12\n",
      "Epoch 460/500\n",
      "\u001b[1m31/31\u001b[0m \u001b[32m━━━━━━━━━━━━━━━━━━━━\u001b[0m\u001b[37m\u001b[0m \u001b[1m0s\u001b[0m 5ms/step - loss: 0.2546 - mae: 0.3970 - val_loss: 0.0309 - val_mae: 0.1030 - learning_rate: 1.1642e-12\n",
      "Epoch 461/500\n",
      "\u001b[1m31/31\u001b[0m \u001b[32m━━━━━━━━━━━━━━━━━━━━\u001b[0m\u001b[37m\u001b[0m \u001b[1m0s\u001b[0m 4ms/step - loss: 0.3077 - mae: 0.4379 - val_loss: 0.0308 - val_mae: 0.1030 - learning_rate: 1.1642e-12\n",
      "Epoch 462/500\n",
      "\u001b[1m31/31\u001b[0m \u001b[32m━━━━━━━━━━━━━━━━━━━━\u001b[0m\u001b[37m\u001b[0m \u001b[1m0s\u001b[0m 5ms/step - loss: 0.2896 - mae: 0.4217 - val_loss: 0.0309 - val_mae: 0.1033 - learning_rate: 5.8208e-13\n",
      "Epoch 463/500\n",
      "\u001b[1m31/31\u001b[0m \u001b[32m━━━━━━━━━━━━━━━━━━━━\u001b[0m\u001b[37m\u001b[0m \u001b[1m0s\u001b[0m 4ms/step - loss: 0.2958 - mae: 0.4264 - val_loss: 0.0310 - val_mae: 0.1035 - learning_rate: 5.8208e-13\n",
      "Epoch 464/500\n",
      "\u001b[1m31/31\u001b[0m \u001b[32m━━━━━━━━━━━━━━━━━━━━\u001b[0m\u001b[37m\u001b[0m \u001b[1m0s\u001b[0m 5ms/step - loss: 0.2557 - mae: 0.4000 - val_loss: 0.0309 - val_mae: 0.1034 - learning_rate: 5.8208e-13\n",
      "Epoch 465/500\n",
      "\u001b[1m31/31\u001b[0m \u001b[32m━━━━━━━━━━━━━━━━━━━━\u001b[0m\u001b[37m\u001b[0m \u001b[1m0s\u001b[0m 4ms/step - loss: 0.2717 - mae: 0.4030 - val_loss: 0.0310 - val_mae: 0.1036 - learning_rate: 5.8208e-13\n",
      "Epoch 466/500\n",
      "\u001b[1m31/31\u001b[0m \u001b[32m━━━━━━━━━━━━━━━━━━━━\u001b[0m\u001b[37m\u001b[0m \u001b[1m0s\u001b[0m 5ms/step - loss: 0.2790 - mae: 0.4112 - val_loss: 0.0309 - val_mae: 0.1031 - learning_rate: 5.8208e-13\n",
      "Epoch 467/500\n",
      "\u001b[1m31/31\u001b[0m \u001b[32m━━━━━━━━━━━━━━━━━━━━\u001b[0m\u001b[37m\u001b[0m \u001b[1m0s\u001b[0m 5ms/step - loss: 0.2737 - mae: 0.4071 - val_loss: 0.0309 - val_mae: 0.1032 - learning_rate: 5.8208e-13\n",
      "Epoch 468/500\n",
      "\u001b[1m31/31\u001b[0m \u001b[32m━━━━━━━━━━━━━━━━━━━━\u001b[0m\u001b[37m\u001b[0m \u001b[1m0s\u001b[0m 6ms/step - loss: 0.2812 - mae: 0.4178 - val_loss: 0.0311 - val_mae: 0.1038 - learning_rate: 5.8208e-13\n",
      "Epoch 469/500\n",
      "\u001b[1m31/31\u001b[0m \u001b[32m━━━━━━━━━━━━━━━━━━━━\u001b[0m\u001b[37m\u001b[0m \u001b[1m0s\u001b[0m 5ms/step - loss: 0.3259 - mae: 0.4433 - val_loss: 0.0309 - val_mae: 0.1031 - learning_rate: 5.8208e-13\n",
      "Epoch 470/500\n",
      "\u001b[1m31/31\u001b[0m \u001b[32m━━━━━━━━━━━━━━━━━━━━\u001b[0m\u001b[37m\u001b[0m \u001b[1m0s\u001b[0m 5ms/step - loss: 0.2864 - mae: 0.4097 - val_loss: 0.0307 - val_mae: 0.1026 - learning_rate: 5.8208e-13\n",
      "Epoch 471/500\n",
      "\u001b[1m31/31\u001b[0m \u001b[32m━━━━━━━━━━━━━━━━━━━━\u001b[0m\u001b[37m\u001b[0m \u001b[1m0s\u001b[0m 5ms/step - loss: 0.2924 - mae: 0.4270 - val_loss: 0.0307 - val_mae: 0.1027 - learning_rate: 5.8208e-13\n",
      "Epoch 472/500\n",
      "\u001b[1m31/31\u001b[0m \u001b[32m━━━━━━━━━━━━━━━━━━━━\u001b[0m\u001b[37m\u001b[0m \u001b[1m0s\u001b[0m 5ms/step - loss: 0.2703 - mae: 0.4109 - val_loss: 0.0307 - val_mae: 0.1026 - learning_rate: 2.9104e-13\n",
      "Epoch 473/500\n",
      "\u001b[1m31/31\u001b[0m \u001b[32m━━━━━━━━━━━━━━━━━━━━\u001b[0m\u001b[37m\u001b[0m \u001b[1m0s\u001b[0m 4ms/step - loss: 0.2684 - mae: 0.4075 - val_loss: 0.0309 - val_mae: 0.1031 - learning_rate: 2.9104e-13\n",
      "Epoch 474/500\n",
      "\u001b[1m31/31\u001b[0m \u001b[32m━━━━━━━━━━━━━━━━━━━━\u001b[0m\u001b[37m\u001b[0m \u001b[1m0s\u001b[0m 4ms/step - loss: 0.3077 - mae: 0.4401 - val_loss: 0.0308 - val_mae: 0.1026 - learning_rate: 2.9104e-13\n",
      "Epoch 475/500\n",
      "\u001b[1m31/31\u001b[0m \u001b[32m━━━━━━━━━━━━━━━━━━━━\u001b[0m\u001b[37m\u001b[0m \u001b[1m0s\u001b[0m 7ms/step - loss: 0.2999 - mae: 0.4273 - val_loss: 0.0307 - val_mae: 0.1025 - learning_rate: 2.9104e-13\n",
      "Epoch 476/500\n",
      "\u001b[1m31/31\u001b[0m \u001b[32m━━━━━━━━━━━━━━━━━━━━\u001b[0m\u001b[37m\u001b[0m \u001b[1m0s\u001b[0m 5ms/step - loss: 0.2772 - mae: 0.4073 - val_loss: 0.0309 - val_mae: 0.1033 - learning_rate: 2.9104e-13\n",
      "Epoch 477/500\n",
      "\u001b[1m31/31\u001b[0m \u001b[32m━━━━━━━━━━━━━━━━━━━━\u001b[0m\u001b[37m\u001b[0m \u001b[1m0s\u001b[0m 4ms/step - loss: 0.3041 - mae: 0.4272 - val_loss: 0.0311 - val_mae: 0.1037 - learning_rate: 2.9104e-13\n",
      "Epoch 478/500\n",
      "\u001b[1m31/31\u001b[0m \u001b[32m━━━━━━━━━━━━━━━━━━━━\u001b[0m\u001b[37m\u001b[0m \u001b[1m0s\u001b[0m 4ms/step - loss: 0.2910 - mae: 0.4241 - val_loss: 0.0312 - val_mae: 0.1042 - learning_rate: 2.9104e-13\n",
      "Epoch 479/500\n",
      "\u001b[1m31/31\u001b[0m \u001b[32m━━━━━━━━━━━━━━━━━━━━\u001b[0m\u001b[37m\u001b[0m \u001b[1m0s\u001b[0m 4ms/step - loss: 0.2781 - mae: 0.4094 - val_loss: 0.0310 - val_mae: 0.1035 - learning_rate: 2.9104e-13\n",
      "Epoch 480/500\n",
      "\u001b[1m31/31\u001b[0m \u001b[32m━━━━━━━━━━━━━━━━━━━━\u001b[0m\u001b[37m\u001b[0m \u001b[1m0s\u001b[0m 4ms/step - loss: 0.2790 - mae: 0.4048 - val_loss: 0.0312 - val_mae: 0.1040 - learning_rate: 2.9104e-13\n",
      "Epoch 481/500\n",
      "\u001b[1m31/31\u001b[0m \u001b[32m━━━━━━━━━━━━━━━━━━━━\u001b[0m\u001b[37m\u001b[0m \u001b[1m0s\u001b[0m 4ms/step - loss: 0.2413 - mae: 0.3765 - val_loss: 0.0311 - val_mae: 0.1039 - learning_rate: 2.9104e-13\n",
      "Epoch 482/500\n",
      "\u001b[1m31/31\u001b[0m \u001b[32m━━━━━━━━━━━━━━━━━━━━\u001b[0m\u001b[37m\u001b[0m \u001b[1m0s\u001b[0m 4ms/step - loss: 0.3126 - mae: 0.4272 - val_loss: 0.0312 - val_mae: 0.1041 - learning_rate: 1.4552e-13\n",
      "Epoch 483/500\n",
      "\u001b[1m31/31\u001b[0m \u001b[32m━━━━━━━━━━━━━━━━━━━━\u001b[0m\u001b[37m\u001b[0m \u001b[1m0s\u001b[0m 4ms/step - loss: 0.2896 - mae: 0.4160 - val_loss: 0.0313 - val_mae: 0.1045 - learning_rate: 1.4552e-13\n",
      "Epoch 484/500\n",
      "\u001b[1m31/31\u001b[0m \u001b[32m━━━━━━━━━━━━━━━━━━━━\u001b[0m\u001b[37m\u001b[0m \u001b[1m0s\u001b[0m 5ms/step - loss: 0.3093 - mae: 0.4289 - val_loss: 0.0312 - val_mae: 0.1041 - learning_rate: 1.4552e-13\n",
      "Epoch 485/500\n",
      "\u001b[1m31/31\u001b[0m \u001b[32m━━━━━━━━━━━━━━━━━━━━\u001b[0m\u001b[37m\u001b[0m \u001b[1m0s\u001b[0m 4ms/step - loss: 0.3511 - mae: 0.4490 - val_loss: 0.0311 - val_mae: 0.1038 - learning_rate: 1.4552e-13\n",
      "Epoch 486/500\n",
      "\u001b[1m31/31\u001b[0m \u001b[32m━━━━━━━━━━━━━━━━━━━━\u001b[0m\u001b[37m\u001b[0m \u001b[1m0s\u001b[0m 4ms/step - loss: 0.2823 - mae: 0.4135 - val_loss: 0.0310 - val_mae: 0.1035 - learning_rate: 1.4552e-13\n",
      "Epoch 487/500\n",
      "\u001b[1m31/31\u001b[0m \u001b[32m━━━━━━━━━━━━━━━━━━━━\u001b[0m\u001b[37m\u001b[0m \u001b[1m0s\u001b[0m 4ms/step - loss: 0.2766 - mae: 0.4043 - val_loss: 0.0308 - val_mae: 0.1030 - learning_rate: 1.4552e-13\n",
      "Epoch 488/500\n",
      "\u001b[1m31/31\u001b[0m \u001b[32m━━━━━━━━━━━━━━━━━━━━\u001b[0m\u001b[37m\u001b[0m \u001b[1m0s\u001b[0m 5ms/step - loss: 0.2716 - mae: 0.4090 - val_loss: 0.0308 - val_mae: 0.1030 - learning_rate: 1.4552e-13\n",
      "Epoch 489/500\n",
      "\u001b[1m31/31\u001b[0m \u001b[32m━━━━━━━━━━━━━━━━━━━━\u001b[0m\u001b[37m\u001b[0m \u001b[1m0s\u001b[0m 5ms/step - loss: 0.3247 - mae: 0.4424 - val_loss: 0.0308 - val_mae: 0.1028 - learning_rate: 1.4552e-13\n",
      "Epoch 490/500\n",
      "\u001b[1m31/31\u001b[0m \u001b[32m━━━━━━━━━━━━━━━━━━━━\u001b[0m\u001b[37m\u001b[0m \u001b[1m0s\u001b[0m 5ms/step - loss: 0.3078 - mae: 0.4368 - val_loss: 0.0307 - val_mae: 0.1025 - learning_rate: 1.4552e-13\n",
      "Epoch 491/500\n",
      "\u001b[1m31/31\u001b[0m \u001b[32m━━━━━━━━━━━━━━━━━━━━\u001b[0m\u001b[37m\u001b[0m \u001b[1m0s\u001b[0m 5ms/step - loss: 0.2811 - mae: 0.4079 - val_loss: 0.0307 - val_mae: 0.1026 - learning_rate: 1.4552e-13\n",
      "Epoch 492/500\n",
      "\u001b[1m31/31\u001b[0m \u001b[32m━━━━━━━━━━━━━━━━━━━━\u001b[0m\u001b[37m\u001b[0m \u001b[1m0s\u001b[0m 4ms/step - loss: 0.2836 - mae: 0.4089 - val_loss: 0.0309 - val_mae: 0.1031 - learning_rate: 7.2760e-14\n",
      "Epoch 493/500\n",
      "\u001b[1m31/31\u001b[0m \u001b[32m━━━━━━━━━━━━━━━━━━━━\u001b[0m\u001b[37m\u001b[0m \u001b[1m0s\u001b[0m 4ms/step - loss: 0.2874 - mae: 0.4137 - val_loss: 0.0309 - val_mae: 0.1032 - learning_rate: 7.2760e-14\n",
      "Epoch 494/500\n",
      "\u001b[1m31/31\u001b[0m \u001b[32m━━━━━━━━━━━━━━━━━━━━\u001b[0m\u001b[37m\u001b[0m \u001b[1m0s\u001b[0m 4ms/step - loss: 0.3074 - mae: 0.4329 - val_loss: 0.0308 - val_mae: 0.1029 - learning_rate: 7.2760e-14\n",
      "Epoch 495/500\n",
      "\u001b[1m31/31\u001b[0m \u001b[32m━━━━━━━━━━━━━━━━━━━━\u001b[0m\u001b[37m\u001b[0m \u001b[1m0s\u001b[0m 6ms/step - loss: 0.3095 - mae: 0.4280 - val_loss: 0.0310 - val_mae: 0.1033 - learning_rate: 7.2760e-14\n",
      "Epoch 496/500\n",
      "\u001b[1m31/31\u001b[0m \u001b[32m━━━━━━━━━━━━━━━━━━━━\u001b[0m\u001b[37m\u001b[0m \u001b[1m0s\u001b[0m 5ms/step - loss: 0.2897 - mae: 0.4132 - val_loss: 0.0311 - val_mae: 0.1038 - learning_rate: 7.2760e-14\n",
      "Epoch 497/500\n",
      "\u001b[1m31/31\u001b[0m \u001b[32m━━━━━━━━━━━━━━━━━━━━\u001b[0m\u001b[37m\u001b[0m \u001b[1m0s\u001b[0m 5ms/step - loss: 0.2963 - mae: 0.4177 - val_loss: 0.0312 - val_mae: 0.1040 - learning_rate: 7.2760e-14\n",
      "Epoch 498/500\n",
      "\u001b[1m31/31\u001b[0m \u001b[32m━━━━━━━━━━━━━━━━━━━━\u001b[0m\u001b[37m\u001b[0m \u001b[1m0s\u001b[0m 5ms/step - loss: 0.2806 - mae: 0.4165 - val_loss: 0.0311 - val_mae: 0.1037 - learning_rate: 7.2760e-14\n",
      "Epoch 499/500\n",
      "\u001b[1m31/31\u001b[0m \u001b[32m━━━━━━━━━━━━━━━━━━━━\u001b[0m\u001b[37m\u001b[0m \u001b[1m0s\u001b[0m 5ms/step - loss: 0.2617 - mae: 0.4045 - val_loss: 0.0311 - val_mae: 0.1038 - learning_rate: 7.2760e-14\n",
      "Epoch 500/500\n",
      "\u001b[1m31/31\u001b[0m \u001b[32m━━━━━━━━━━━━━━━━━━━━\u001b[0m\u001b[37m\u001b[0m \u001b[1m0s\u001b[0m 5ms/step - loss: 0.3292 - mae: 0.4499 - val_loss: 0.0310 - val_mae: 0.1034 - learning_rate: 7.2760e-14\n"
     ]
    },
    {
     "data": {
      "image/png": "[encoded data removed]",
      "text/plain": [
       "<Figure size 1200x500 with 2 Axes>"
      ]
     },
     "metadata": {},
     "output_type": "display_data"
    }
   ],
   "source": [
    "\n",
    "\n",
    "# %% [code]\n",
    "# === PASO 6: ENTRENAMIENTO CON CALLBACKS ===\n",
    "\n",
    "callbacks = [\n",
    "    # EarlyStopping(patience=30, restore_best_weights=True),\n",
    "    ModelCheckpoint('best_model.h5', save_best_only=True),\n",
    "    ReduceLROnPlateau(factor=0.5, patience=10)\n",
    "]\n",
    "\n",
    "history = model.fit(\n",
    "    X_train_selected, y_train,\n",
    "    validation_data=(X_val_selected, y_val),\n",
    "    epochs=500,\n",
    "    batch_size=32,\n",
    "    callbacks=callbacks,\n",
    "    verbose=1\n",
    ")\n",
    "\n",
    "# Visualización del entrenamiento\n",
    "plt.figure(figsize=(12, 5))\n",
    "plt.subplot(1, 2, 1)\n",
    "plt.plot(history.history['loss'], label='Entrenamiento')\n",
    "plt.plot(history.history['val_loss'], label='Validación')\n",
    "plt.title('Evolución de la Pérdida')\n",
    "plt.ylabel('MSE')\n",
    "plt.xlabel('Época')\n",
    "plt.legend()\n",
    "\n",
    "plt.subplot(1, 2, 2)\n",
    "plt.plot(history.history['mae'], label='Entrenamiento')\n",
    "plt.plot(history.history['val_mae'], label='Validación')\n",
    "plt.title('Evolución del MAE')\n",
    "plt.ylabel('MAE')\n",
    "plt.xlabel('Época')\n",
    "plt.legend()\n",
    "plt.tight_layout()\n",
    "plt.show()\n"
   ]
  },
  {
   "cell_type": "code",
   "execution_count": 65,
   "metadata": {},
   "outputs": [
    {
     "name": "stdout",
     "output_type": "stream",
     "text": [
      "\u001b[1m7/7\u001b[0m \u001b[32m━━━━━━━━━━━━━━━━━━━━\u001b[0m\u001b[37m\u001b[0m \u001b[1m0s\u001b[0m 17ms/step\n",
      "\n",
      "Métricas Finales:\n",
      "MAE: 18118.7172695491\n",
      "RMSE: 30307.925665003597\n",
      "R²: 0.8868556008391077\n",
      "RMSE (%): 16.80%\n",
      "\n",
      "Tabla Comparativa (Primeras Filas):\n",
      "   Precio Real (USD)  Precio Predicho (USD)  Error Absoluto (USD)\n",
      "0           154500.0          152504.593750           1995.406250\n",
      "1           325000.0          298382.375000          26617.625000\n",
      "2           115000.0          117987.992188           2987.992188\n",
      "3           159000.0          170822.734375          11822.734375\n",
      "4           315500.0          290223.812500          25276.187500\n",
      "5            75500.0           83302.195312           7802.195312\n",
      "6           311500.0          221946.453125          89553.546875\n",
      "7           146000.0          157994.015625          11994.015625\n",
      "8            84500.0           80402.203125           4097.796875\n",
      "9           135500.0          143448.078125           7948.078125\n"
     ]
    },
    {
     "data": {
      "image/png": "[encoded data removed]",
      "text/plain": [
       "<Figure size 1000x600 with 1 Axes>"
      ]
     },
     "metadata": {},
     "output_type": "display_data"
    }
   ],
   "source": [
    "# === PASO 7: EVALUACIÓN FINAL ===\n",
    "\n",
    "best_model = tf.keras.models.load_model('best_model.h5', compile=False)\n",
    "\n",
    "# Predicciones y transformación inversa\n",
    "y_pred = best_model.predict(X_test_selected)\n",
    "y_test_exp = np.expm1(y_test)  # Transformación inversa de los valores reales\n",
    "y_pred_exp = np.expm1(y_pred).flatten()  # Transformación inversa de las predicciones\n",
    "\n",
    "# Cálculo del RMSE en porcentaje\n",
    "rmsep = ((np.sqrt(mean_squared_error(y_test_exp, y_pred_exp))) / y_test_exp.mean()) * 100\n",
    "\n",
    "# Métricas finales\n",
    "metrics = {\n",
    "    'MAE': mean_absolute_error(y_test_exp, y_pred_exp),\n",
    "    'RMSE': np.sqrt(mean_squared_error(y_test_exp, y_pred_exp)),\n",
    "    'R²': r2_score(y_test_exp, y_pred_exp),\n",
    "    'RMSE (%)': f\"{rmsep:.2f}%\"  # Conversión a cadena con formato\n",
    "}\n",
    "\n",
    "print(\"\\nMétricas Finales:\")\n",
    "for k, v in metrics.items():\n",
    "    print(f\"{k}: {v}\")\n",
    "\n",
    "# Crear una tabla comparativa entre valores reales y predichos\n",
    "comparison_df = pd.DataFrame({\n",
    "    'Precio Real (USD)': y_test_exp,\n",
    "    'Precio Predicho (USD)': y_pred_exp,\n",
    "    'Error Absoluto (USD)': np.abs(y_test_exp - y_pred_exp)\n",
    "}).reset_index(drop=True)\n",
    "\n",
    "print(\"\\nTabla Comparativa (Primeras Filas):\")\n",
    "print(comparison_df.head(10))  # Mostrar las primeras 10 filas para comparación\n",
    "\n",
    "# Gráfico de predicciones vs reales\n",
    "plt.figure(figsize=(10, 6))\n",
    "sns.scatterplot(x=y_test_exp, y=y_pred_exp, alpha=0.6)\n",
    "plt.plot([y_test_exp.min(), y_test_exp.max()], \n",
    "         [y_test_exp.min(), y_test_exp.max()], 'r--')\n",
    "plt.title('Predicciones vs Valores Reales', fontsize=14)\n",
    "plt.xlabel('Precio Real (USD)')\n",
    "plt.ylabel('Precio Predicho (USD)')\n",
    "plt.grid(True)\n",
    "plt.show()\n"
   ]
  },
  {
   "cell_type": "code",
   "execution_count": 66,
   "metadata": {},
   "outputs": [
    {
     "data": {
      "text/plain": [
       "['selector.joblib']"
      ]
     },
     "execution_count": 66,
     "metadata": {},
     "output_type": "execute_result"
    }
   ],
   "source": [
    "import joblib\n",
    "\n",
    "# Ajustas tu preprocessor y selector con X_train\n",
    "# ...\n",
    "joblib.dump(preprocessor, 'preprocessor.joblib')\n",
    "joblib.dump(selector, 'selector.joblib')\n"
   ]
  },
  {
   "cell_type": "code",
   "execution_count": 67,
   "metadata": {},
   "outputs": [],
   "source": [
    "preprocessor = joblib.load('preprocessor.joblib')\n",
    "selector = joblib.load('selector.joblib')\n"
   ]
  },
  {
   "cell_type": "code",
   "execution_count": 68,
   "metadata": {},
   "outputs": [],
   "source": [
    "import joblib\n",
    "\n",
    "# Supongamos que 'preprocessor' y 'selector' ya fueron ajustados en X_train\n",
    "# Guardamos ambos objetos\n",
    "joblib.dump(preprocessor, 'preprocessor.joblib')\n",
    "joblib.dump(selector, 'selector.joblib')\n",
    "\n",
    "# Guardamos X_test, y_test para usarlos en el servidor\n",
    "X_test.to_csv('X_test.csv', index=False)\n",
    "y_test.to_csv('y_test.csv', index=False)\n"
   ]
  },
  {
   "cell_type": "code",
   "execution_count": 55,
   "metadata": {},
   "outputs": [
    {
     "data": {
      "image/png": "[encoded data removed]",
      "text/plain": [
       "<Figure size 1200x600 with 2 Axes>"
      ]
     },
     "metadata": {},
     "output_type": "display_data"
    }
   ],
   "source": [
    "\n",
    "\n",
    "# %% [code]\n",
    "# === PASO 8: ANÁLISIS DE ERRORES ===\n",
    "\n",
    "errors = y_test_exp - y_pred_exp\n",
    "plt.figure(figsize=(12, 6))\n",
    "\n",
    "plt.subplot(1, 2, 1)\n",
    "sns.histplot(errors, kde=True, bins=30)\n",
    "plt.title('Distribución de Erros', fontsize=14)\n",
    "plt.xlabel('Error (USD)')\n",
    "\n",
    "plt.subplot(1, 2, 2)\n",
    "sns.boxplot(x=errors)\n",
    "plt.title('Distribución de Errores', fontsize=14)\n",
    "plt.xlabel('Error (USD)')\n",
    "\n",
    "plt.tight_layout()\n",
    "plt.show()\n"
   ]
  },
  {
   "cell_type": "code",
   "execution_count": 73,
   "metadata": {},
   "outputs": [
    {
     "name": "stdout",
     "output_type": "stream",
     "text": [
      "\n",
      "Predicción de ejemplo:\n",
      "Valor Real: $154,500.00\n",
      "\u001b[1m1/1\u001b[0m \u001b[32m━━━━━━━━━━━━━━━━━━━━\u001b[0m\u001b[37m\u001b[0m \u001b[1m0s\u001b[0m 41ms/step\n",
      "Predicción: $152,504.45\n"
     ]
    }
   ],
   "source": [
    "\n",
    "\n",
    "# %% [code]\n",
    "# === PASO 9: GUARDADO DEL MODELO ===\n",
    "\n",
    "# Guardamos todos los componentes necesarios\n",
    "model_artifacts = {\n",
    "    'preprocessor': preprocessor,\n",
    "    'selector': selector,\n",
    "    'model': best_model,\n",
    "    'features': all_features,\n",
    "    'selected_features_mask': selector.get_support()\n",
    "}\n",
    "\n",
    "joblib.dump(model_artifacts, 'final_model_package.pkl')\n",
    "\n",
    "# Función de predicción de ejemplo\n",
    "def predict_price(new_data, model_package):\n",
    "    processed_data = model_package['preprocessor'].transform(new_data)\n",
    "    selected_data = model_package['selector'].transform(processed_data)\n",
    "    prediction_log = model_package['model'].predict(selected_data)\n",
    "    return np.expm1(prediction_log).flatten()[0]\n",
    "\n",
    "# Ejemplo de uso\n",
    "sample_data = X_test.iloc[[0]]\n",
    "print(\"\\nPredicción de ejemplo:\")\n",
    "print(f\"Valor Real: ${np.expm1(y_test.iloc[0]):,.2f}\")\n",
    "print(f\"Predicción: ${predict_price(sample_data, model_artifacts):,.2f}\")\n",
    "\n"
   ]
  },
  {
   "cell_type": "code",
   "execution_count": null,
   "metadata": {},
   "outputs": [],
   "source": []
  }
 ],
 "metadata": {
  "kernelspec": {
   "display_name": "Python 3",
   "language": "python",
   "name": "python3"
  },
  "language_info": {
   "codemirror_mode": {
    "name": "ipython",
    "version": 3
   },
   "file_extension": ".py",
   "mimetype": "text/x-python",
   "name": "python",
   "nbconvert_exporter": "python",
   "pygments_lexer": "ipython3",
   "version": "3.12.9"
  }
 },
 "nbformat": 4,
 "nbformat_minor": 2
}
